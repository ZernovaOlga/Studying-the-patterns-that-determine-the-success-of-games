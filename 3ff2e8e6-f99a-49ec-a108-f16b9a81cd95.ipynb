{
 "cells": [
  {
   "cell_type": "markdown",
   "id": "5ebd2e9f",
   "metadata": {},
   "source": [
    "<div class=\"alert alert-info\"> <b>\n",
    "\n",
    "# Перспективная игра"
   ]
  },
  {
   "cell_type": "markdown",
   "id": "c5c01463",
   "metadata": {},
   "source": [
    "Цель исследования:\n",
    "Выявить определяющие успешность игры закономерности и определить потенциально популярный продукт для дальнейшего планирования  рекламных кампаний."
   ]
  },
  {
   "cell_type": "markdown",
   "id": "3e93e907",
   "metadata": {},
   "source": [
    "*План работы*:\n",
    "\n",
    "**Шаг 1**. Откроем файл с данными и изучим общую информацию\n",
    "Путь к файлу: /datasets/games.csv.\n",
    "\n",
    "**Шаг 2**. Подготовим данные\n",
    "Заменим названия столбцов (приведем к нижнему регистру);\n",
    "Преобразуем данные в нужные типы. Опишем, в каких столбцах заменили тип данных и почему;\n",
    "Обработаем пропуски при необходимости:\n",
    "Объясним, почему заполнили пропуски определённым образом или почему не стали это делать;\n",
    "Опишем причины, которые могли привести к пропускам;\n",
    "Обратим внимание на аббревиатуру 'tbd' в столбцах с рейтингом. Отдельно разберем это значение и опишем, как его обработать;\n",
    "Посчитаем суммарные продажи во всех регионах и запишем их в отдельный столбец.\n",
    "\n",
    "**Шаг 3**. Проведем исследовательский анализ данных\n",
    "\n",
    "Посмотрим, сколько игр выпускалось в разные годы. Важны ли данные за все периоды?\n",
    "Посмотрим, как менялись продажи по платформам. Выберем платформы с наибольшими суммарными продажами и построим распределение по годам. За какой характерный срок появляются новые и исчезают старые платформы?\n",
    "Возьмем данные за соответствующий актуальный период. Актуальный период определим самостоятельно в результате исследования предыдущих вопросов. Основной фактор — эти данные помогут построить прогноз на 2017 год. Не будем учитывать в работе данные за предыдущие годы.\n",
    "Какие платформы лидируют по продажам, растут или падают? Выберем несколько потенциально прибыльных платформ.\n",
    "Построим график «ящик с усами» по глобальным продажам игр в разбивке по платформам. Опишем результат.\n",
    "Посмотрим, как влияют на продажи внутри одной популярной платформы отзывы пользователей и критиков. Построем диаграмму рассеяния и посчитаем корреляцию между отзывами и продажами. Сформулируем выводы.\n",
    "Соотнесем выводы с продажами игр на других платформах.\n",
    "Посмотрим на общее распределение игр по жанрам. Что можно сказать о самых прибыльных жанрах? Выделяются ли жанры с высокими и низкими продажами?\n",
    "\n",
    "**Шаг 4**. Составим портрет пользователя каждого региона\n",
    "\n",
    "Определим для пользователя каждого региона (NA, EU, JP):\n",
    "Самые популярные платформы (топ-5). Опишем различия в долях продаж.\n",
    "Самые популярные жанры (топ-5). Поясним разницу.\n",
    "Влияет ли рейтинг ESRB на продажи в отдельном регионе?\n",
    "\n",
    "**Шаг 5**. Проверим гипотезы\n",
    "\n",
    "Средние пользовательские рейтинги платформ Xbox One и PC одинаковые;\n",
    "Средние пользовательские рейтинги жанров Action (англ. «действие», экшен-игры) и Sports (англ. «спортивные соревнования») разные.\n",
    "Пороговое значение alpha зададим самостоятельно.\n",
    "Поясним:\n",
    "Как мы сформулировали нулевую и альтернативную гипотезы;\n",
    "Какой критерий применили для проверки гипотез и почему."
   ]
  },
  {
   "cell_type": "markdown",
   "id": "f03c7f6a",
   "metadata": {},
   "source": [
    "###### Описание данных:\n",
    " \n",
    "- **Name** — название игры\n",
    "- **Platform** — платформа\n",
    "- **Year_of_Release** — год выпуска\n",
    "- **Genre** — жанр игры\n",
    "- **NA_sales** — продажи в Северной Америке (миллионы долларов)\n",
    "- **EU_sales** — продажи в Европе (миллионы долларов)\n",
    "- **JP_sales** — продажи в Японии (миллионы долларов)\n",
    "- **Other_sales** — продажи в других странах (миллионы долларов)\n",
    "- **Critic_Score** — оценка критиков (максимум 100)\n",
    "- **User_Score** — оценка пользователей (максимум 10)\n",
    "- **Rating** — рейтинг от организации ESRB (англ. Entertainment Software Rating Board). Эта ассоциация определяет рейтинг компьютерных игр и присваивает им подходящую возрастную категорию."
   ]
  },
  {
   "cell_type": "markdown",
   "id": "003612ae",
   "metadata": {},
   "source": [
    "## Оглавление:\n",
    "* [ Шаг 1. Изучим общую информацию из имеющихся данных](#шаг-1)\n",
    "* [ Шаг 2. Подготовим данные](#шаг-2)\n",
    "* [ Шаг 3. Подготовим данные](#шаг-3)\n",
    "* [ Шаг 4. Подготовим данные](#шаг-4)\n"
   ]
  },
  {
   "cell_type": "markdown",
   "id": "2b33817c",
   "metadata": {},
   "source": [
    "\n",
    "## Шаг 1. Изучим общую информацию из имеющихся данных <a class=\"anchor\" id=\"шаг-1\"></a>\n",
    "\n",
    "\n"
   ]
  },
  {
   "cell_type": "code",
   "execution_count": 1,
   "id": "5a73e442",
   "metadata": {},
   "outputs": [],
   "source": [
    "#Импортируем все необходимые библиотеки:\n",
    "import pandas as pd\n",
    "import numpy as np\n",
    "import scipy.stats as st\n",
    "import matplotlib.pyplot as plt\n",
    "from datetime import datetime\n",
    "import seaborn as sns\n",
    " \n",
    "\n",
    "try:\n",
    "    df = pd.read_csv('C:\\\\Users\\\\jarop\\Downloads\\\\games.csv')\n",
    "except:\n",
    "    df = pd.read_csv('/datasets/games.csv')\n",
    "\n"
   ]
  },
  {
   "cell_type": "code",
   "execution_count": 2,
   "id": "76fbdc84",
   "metadata": {},
   "outputs": [
    {
     "name": "stdout",
     "output_type": "stream",
     "text": [
      "Name\n",
      "\n",
      "Need for Speed: Most Wanted             12\n",
      "LEGO Marvel Super Heroes                 9\n",
      "Ratatouille                              9\n",
      "Madden NFL 07                            9\n",
      "FIFA 14                                  9\n",
      "                                        ..\n",
      "This War of Mine                         1\n",
      "Wild West Shootout                       1\n",
      "Chuugen no Hasha: Sangoku Shouseiden     1\n",
      "Critical Depth                           1\n",
      "Little Red Riding Hood's Zombie BBQ      1\n",
      "Name: Name, Length: 11559, dtype: int64\n",
      "Platform\n",
      "\n",
      "PS2     2161\n",
      "DS      2151\n",
      "PS3     1331\n",
      "Wii     1320\n",
      "X360    1262\n",
      "PSP     1209\n",
      "PS      1197\n",
      "PC       974\n",
      "XB       824\n",
      "GBA      822\n",
      "GC       556\n",
      "3DS      520\n",
      "PSV      430\n",
      "PS4      392\n",
      "N64      319\n",
      "XOne     247\n",
      "SNES     239\n",
      "SAT      173\n",
      "WiiU     147\n",
      "2600     133\n",
      "GB        98\n",
      "NES       98\n",
      "DC        52\n",
      "GEN       29\n",
      "NG        12\n",
      "SCD        6\n",
      "WS         6\n",
      "3DO        3\n",
      "TG16       2\n",
      "GG         1\n",
      "PCFX       1\n",
      "Name: Platform, dtype: int64\n",
      "Year_of_Release\n",
      "\n",
      "2,008.00    1427\n",
      "2,009.00    1426\n",
      "2,010.00    1255\n",
      "2,007.00    1197\n",
      "2,011.00    1136\n",
      "2,006.00    1006\n",
      "2,005.00     939\n",
      "2,002.00     829\n",
      "2,003.00     775\n",
      "2,004.00     762\n",
      "2,012.00     653\n",
      "2,015.00     606\n",
      "2,014.00     581\n",
      "2,013.00     544\n",
      "2,016.00     502\n",
      "2,001.00     482\n",
      "1,998.00     379\n",
      "2,000.00     350\n",
      "1,999.00     338\n",
      "1,997.00     289\n",
      "1,996.00     263\n",
      "1,995.00     219\n",
      "1,994.00     121\n",
      "1,993.00      62\n",
      "1,981.00      46\n",
      "1,992.00      43\n",
      "1,991.00      41\n",
      "1,982.00      36\n",
      "1,986.00      21\n",
      "1,989.00      17\n",
      "1,983.00      17\n",
      "1,987.00      16\n",
      "1,990.00      16\n",
      "1,988.00      15\n",
      "1,984.00      14\n",
      "1,985.00      14\n",
      "1,980.00       9\n",
      "Name: Year_of_Release, dtype: int64\n",
      "Genre\n",
      "\n",
      "Action          3369\n",
      "Sports          2348\n",
      "Misc            1750\n",
      "Role-Playing    1498\n",
      "Shooter         1323\n",
      "Adventure       1303\n",
      "Racing          1249\n",
      "Platform         888\n",
      "Simulation       873\n",
      "Fighting         849\n",
      "Strategy         683\n",
      "Puzzle           580\n",
      "Name: Genre, dtype: int64\n",
      "NA_sales\n",
      "\n",
      "0.00    4508\n",
      "0.02     576\n",
      "0.03     561\n",
      "0.04     549\n",
      "0.01     545\n",
      "        ... \n",
      "4.12       1\n",
      "8.41       1\n",
      "1.97       1\n",
      "3.70       1\n",
      "3.43       1\n",
      "Name: NA_sales, Length: 402, dtype: int64\n",
      "EU_sales\n",
      "\n",
      "0.00    5870\n",
      "0.01    1494\n",
      "0.02    1308\n",
      "0.03     926\n",
      "0.04     709\n",
      "        ... \n",
      "9.14       1\n",
      "1.92       1\n",
      "3.86       1\n",
      "2.59       1\n",
      "3.87       1\n",
      "Name: EU_sales, Length: 307, dtype: int64\n",
      "JP_sales\n",
      "\n",
      "0.00    10514\n",
      "0.02      741\n",
      "0.01      706\n",
      "0.03      546\n",
      "0.04      397\n",
      "        ...  \n",
      "3.84        1\n",
      "1.17        1\n",
      "3.03        1\n",
      "2.66        1\n",
      "1.71        1\n",
      "Name: JP_sales, Length: 244, dtype: int64\n",
      "Other_sales\n",
      "\n",
      "0.00    6601\n",
      "0.01    3464\n",
      "0.02    1618\n",
      "0.03     926\n",
      "0.04     654\n",
      "        ... \n",
      "0.72       1\n",
      "2.11       1\n",
      "0.96       1\n",
      "1.48       1\n",
      "3.96       1\n",
      "Name: Other_sales, Length: 155, dtype: int64\n",
      "Critic_Score\n",
      "\n",
      "70.00    256\n",
      "71.00    254\n",
      "75.00    245\n",
      "78.00    240\n",
      "73.00    238\n",
      "        ... \n",
      "29.00      3\n",
      "13.00      1\n",
      "22.00      1\n",
      "17.00      1\n",
      "21.00      1\n",
      "Name: Critic_Score, Length: 82, dtype: int64\n",
      "User_Score\n",
      "\n",
      "tbd    2424\n",
      "7.8     324\n",
      "8       290\n",
      "8.2     282\n",
      "8.3     254\n",
      "       ... \n",
      "0.2       2\n",
      "1.3       2\n",
      "0.3       2\n",
      "9.7       1\n",
      "0         1\n",
      "Name: User_Score, Length: 96, dtype: int64\n",
      "Rating\n",
      "\n",
      "E       3990\n",
      "T       2961\n",
      "M       1563\n",
      "E10+    1420\n",
      "EC         8\n",
      "RP         3\n",
      "K-A        3\n",
      "AO         1\n",
      "Name: Rating, dtype: int64\n",
      "\n",
      "Число дубликатов: 0\n"
     ]
    },
    {
     "data": {
      "text/html": [
       "<div>\n",
       "<style scoped>\n",
       "    .dataframe tbody tr th:only-of-type {\n",
       "        vertical-align: middle;\n",
       "    }\n",
       "\n",
       "    .dataframe tbody tr th {\n",
       "        vertical-align: top;\n",
       "    }\n",
       "\n",
       "    .dataframe thead th {\n",
       "        text-align: right;\n",
       "    }\n",
       "</style>\n",
       "<table border=\"1\" class=\"dataframe\">\n",
       "  <thead>\n",
       "    <tr style=\"text-align: right;\">\n",
       "      <th></th>\n",
       "      <th>Name</th>\n",
       "      <th>Platform</th>\n",
       "      <th>Year_of_Release</th>\n",
       "      <th>Genre</th>\n",
       "      <th>NA_sales</th>\n",
       "      <th>...</th>\n",
       "      <th>JP_sales</th>\n",
       "      <th>Other_sales</th>\n",
       "      <th>Critic_Score</th>\n",
       "      <th>User_Score</th>\n",
       "      <th>Rating</th>\n",
       "    </tr>\n",
       "  </thead>\n",
       "  <tbody>\n",
       "    <tr>\n",
       "      <th>count</th>\n",
       "      <td>16713</td>\n",
       "      <td>16715</td>\n",
       "      <td>16,446.00</td>\n",
       "      <td>16713</td>\n",
       "      <td>16,715.00</td>\n",
       "      <td>...</td>\n",
       "      <td>16,715.00</td>\n",
       "      <td>16,715.00</td>\n",
       "      <td>8,137.00</td>\n",
       "      <td>10014</td>\n",
       "      <td>9949</td>\n",
       "    </tr>\n",
       "    <tr>\n",
       "      <th>unique</th>\n",
       "      <td>11559</td>\n",
       "      <td>31</td>\n",
       "      <td>NaN</td>\n",
       "      <td>12</td>\n",
       "      <td>NaN</td>\n",
       "      <td>...</td>\n",
       "      <td>NaN</td>\n",
       "      <td>NaN</td>\n",
       "      <td>NaN</td>\n",
       "      <td>96</td>\n",
       "      <td>8</td>\n",
       "    </tr>\n",
       "    <tr>\n",
       "      <th>top</th>\n",
       "      <td>Need for Speed: Most Wanted</td>\n",
       "      <td>PS2</td>\n",
       "      <td>NaN</td>\n",
       "      <td>Action</td>\n",
       "      <td>NaN</td>\n",
       "      <td>...</td>\n",
       "      <td>NaN</td>\n",
       "      <td>NaN</td>\n",
       "      <td>NaN</td>\n",
       "      <td>tbd</td>\n",
       "      <td>E</td>\n",
       "    </tr>\n",
       "    <tr>\n",
       "      <th>freq</th>\n",
       "      <td>12</td>\n",
       "      <td>2161</td>\n",
       "      <td>NaN</td>\n",
       "      <td>3369</td>\n",
       "      <td>NaN</td>\n",
       "      <td>...</td>\n",
       "      <td>NaN</td>\n",
       "      <td>NaN</td>\n",
       "      <td>NaN</td>\n",
       "      <td>2424</td>\n",
       "      <td>3990</td>\n",
       "    </tr>\n",
       "    <tr>\n",
       "      <th>mean</th>\n",
       "      <td>NaN</td>\n",
       "      <td>NaN</td>\n",
       "      <td>2,006.48</td>\n",
       "      <td>NaN</td>\n",
       "      <td>0.26</td>\n",
       "      <td>...</td>\n",
       "      <td>0.08</td>\n",
       "      <td>0.05</td>\n",
       "      <td>68.97</td>\n",
       "      <td>NaN</td>\n",
       "      <td>NaN</td>\n",
       "    </tr>\n",
       "    <tr>\n",
       "      <th>std</th>\n",
       "      <td>NaN</td>\n",
       "      <td>NaN</td>\n",
       "      <td>5.88</td>\n",
       "      <td>NaN</td>\n",
       "      <td>0.81</td>\n",
       "      <td>...</td>\n",
       "      <td>0.31</td>\n",
       "      <td>0.19</td>\n",
       "      <td>13.94</td>\n",
       "      <td>NaN</td>\n",
       "      <td>NaN</td>\n",
       "    </tr>\n",
       "    <tr>\n",
       "      <th>min</th>\n",
       "      <td>NaN</td>\n",
       "      <td>NaN</td>\n",
       "      <td>1,980.00</td>\n",
       "      <td>NaN</td>\n",
       "      <td>0.00</td>\n",
       "      <td>...</td>\n",
       "      <td>0.00</td>\n",
       "      <td>0.00</td>\n",
       "      <td>13.00</td>\n",
       "      <td>NaN</td>\n",
       "      <td>NaN</td>\n",
       "    </tr>\n",
       "    <tr>\n",
       "      <th>25%</th>\n",
       "      <td>NaN</td>\n",
       "      <td>NaN</td>\n",
       "      <td>2,003.00</td>\n",
       "      <td>NaN</td>\n",
       "      <td>0.00</td>\n",
       "      <td>...</td>\n",
       "      <td>0.00</td>\n",
       "      <td>0.00</td>\n",
       "      <td>60.00</td>\n",
       "      <td>NaN</td>\n",
       "      <td>NaN</td>\n",
       "    </tr>\n",
       "    <tr>\n",
       "      <th>50%</th>\n",
       "      <td>NaN</td>\n",
       "      <td>NaN</td>\n",
       "      <td>2,007.00</td>\n",
       "      <td>NaN</td>\n",
       "      <td>0.08</td>\n",
       "      <td>...</td>\n",
       "      <td>0.00</td>\n",
       "      <td>0.01</td>\n",
       "      <td>71.00</td>\n",
       "      <td>NaN</td>\n",
       "      <td>NaN</td>\n",
       "    </tr>\n",
       "    <tr>\n",
       "      <th>75%</th>\n",
       "      <td>NaN</td>\n",
       "      <td>NaN</td>\n",
       "      <td>2,010.00</td>\n",
       "      <td>NaN</td>\n",
       "      <td>0.24</td>\n",
       "      <td>...</td>\n",
       "      <td>0.04</td>\n",
       "      <td>0.03</td>\n",
       "      <td>79.00</td>\n",
       "      <td>NaN</td>\n",
       "      <td>NaN</td>\n",
       "    </tr>\n",
       "    <tr>\n",
       "      <th>max</th>\n",
       "      <td>NaN</td>\n",
       "      <td>NaN</td>\n",
       "      <td>2,016.00</td>\n",
       "      <td>NaN</td>\n",
       "      <td>41.36</td>\n",
       "      <td>...</td>\n",
       "      <td>10.22</td>\n",
       "      <td>10.57</td>\n",
       "      <td>98.00</td>\n",
       "      <td>NaN</td>\n",
       "      <td>NaN</td>\n",
       "    </tr>\n",
       "  </tbody>\n",
       "</table>\n",
       "<p>11 rows × 11 columns</p>\n",
       "</div>"
      ],
      "text/plain": [
       "                               Name Platform  Year_of_Release   Genre  \\\n",
       "count                         16713    16715        16,446.00   16713   \n",
       "unique                        11559       31              NaN      12   \n",
       "top     Need for Speed: Most Wanted      PS2              NaN  Action   \n",
       "freq                             12     2161              NaN    3369   \n",
       "mean                            NaN      NaN         2,006.48     NaN   \n",
       "std                             NaN      NaN             5.88     NaN   \n",
       "min                             NaN      NaN         1,980.00     NaN   \n",
       "25%                             NaN      NaN         2,003.00     NaN   \n",
       "50%                             NaN      NaN         2,007.00     NaN   \n",
       "75%                             NaN      NaN         2,010.00     NaN   \n",
       "max                             NaN      NaN         2,016.00     NaN   \n",
       "\n",
       "        NA_sales  ...  JP_sales  Other_sales  Critic_Score  User_Score Rating  \n",
       "count  16,715.00  ... 16,715.00    16,715.00      8,137.00       10014   9949  \n",
       "unique       NaN  ...       NaN          NaN           NaN          96      8  \n",
       "top          NaN  ...       NaN          NaN           NaN         tbd      E  \n",
       "freq         NaN  ...       NaN          NaN           NaN        2424   3990  \n",
       "mean        0.26  ...      0.08         0.05         68.97         NaN    NaN  \n",
       "std         0.81  ...      0.31         0.19         13.94         NaN    NaN  \n",
       "min         0.00  ...      0.00         0.00         13.00         NaN    NaN  \n",
       "25%         0.00  ...      0.00         0.00         60.00         NaN    NaN  \n",
       "50%         0.08  ...      0.00         0.01         71.00         NaN    NaN  \n",
       "75%         0.24  ...      0.04         0.03         79.00         NaN    NaN  \n",
       "max        41.36  ...     10.22        10.57         98.00         NaN    NaN  \n",
       "\n",
       "[11 rows x 11 columns]"
      ]
     },
     "execution_count": 2,
     "metadata": {},
     "output_type": "execute_result"
    }
   ],
   "source": [
    "# Импортируем данные\n",
    "# закладываем формат df\n",
    "# проеряем и выводим df\n",
    "\n",
    "pd.options.display.float_format = '{:,.2f}'.format\n",
    "pd.options.display.max_columns = 10\n",
    "\n",
    "for row in df:\n",
    "    print(row)\n",
    "    print()\n",
    "    print(df[row].value_counts())\n",
    "      \n",
    "print('\\nЧисло дубликатов:', df.duplicated().sum())\n",
    "df.sample(10)\n",
    "\n",
    "df.describe(include = \"all\")    \n"
   ]
  },
  {
   "cell_type": "markdown",
   "id": "80cb247a",
   "metadata": {},
   "source": [
    "ВЫВОД:\n",
    "\n",
    "* Необходимо привести к правильному типу столбец : Year of Release.\n",
    "* Также нужно привести к нижнему регистру столбцы нашей таблицы, а так же сами названия колонок.\n",
    "* Имеются пустые значения в столбцах rating, user_score, critic_score. \n",
    "* Мы можем заменить имеющиеся пустые значения в таблице: year of release на года от той же игры только другой платформы, в остальных случаях решим в процессе предобработки.\n",
    "* Дубликатов нет.\n",
    "* В распределении имеет место положительный перекос (возможно есть несколько высоких значений).   "
   ]
  },
  {
   "cell_type": "markdown",
   "id": "d8d02f42",
   "metadata": {},
   "source": [
    "## Шаг 2. Подготовим данные<a class=\"anchor\" id=\"шаг-2\"></a>\n"
   ]
  },
  {
   "cell_type": "code",
   "execution_count": 3,
   "id": "65cf7ab3",
   "metadata": {},
   "outputs": [
    {
     "data": {
      "text/plain": [
       "Index(['name', 'platform', 'year_of_release', 'genre', 'na_sales', 'eu_sales',\n",
       "       'jp_sales', 'other_sales', 'critic_score', 'user_score', 'rating'],\n",
       "      dtype='object')"
      ]
     },
     "execution_count": 3,
     "metadata": {},
     "output_type": "execute_result"
    }
   ],
   "source": [
    "# Заменим названия столбцов (приведем к нижнему регистру) \n",
    "df.columns = df.columns.str.lower()\n",
    "df.columns\n"
   ]
  },
  {
   "cell_type": "code",
   "execution_count": 4,
   "id": "ca27417d",
   "metadata": {},
   "outputs": [],
   "source": [
    "# Приведем к нижнему регистру следующие столбцы:\n",
    "for column in df[['name','platform','genre','rating']]:\n",
    "    df[column] = df[column].str.lower()\n",
    "# Изменим тип данных в столбце year_of_release \n",
    "df['year_of_release'] = df['year_of_release'].astype('Int64')\n"
   ]
  },
  {
   "cell_type": "code",
   "execution_count": 5,
   "id": "6cfdeb48",
   "metadata": {},
   "outputs": [
    {
     "name": "stdout",
     "output_type": "stream",
     "text": [
      "name\n",
      "\n",
      "False    16713\n",
      "True         2\n",
      "Name: name, dtype: int64\n",
      "\n",
      "platform\n",
      "\n",
      "False    16715\n",
      "Name: platform, dtype: int64\n",
      "\n",
      "year_of_release\n",
      "\n",
      "False    16446\n",
      "True       269\n",
      "Name: year_of_release, dtype: int64\n",
      "\n",
      "genre\n",
      "\n",
      "False    16713\n",
      "True         2\n",
      "Name: genre, dtype: int64\n",
      "\n",
      "na_sales\n",
      "\n",
      "False    16715\n",
      "Name: na_sales, dtype: int64\n",
      "\n",
      "eu_sales\n",
      "\n",
      "False    16715\n",
      "Name: eu_sales, dtype: int64\n",
      "\n",
      "jp_sales\n",
      "\n",
      "False    16715\n",
      "Name: jp_sales, dtype: int64\n",
      "\n",
      "other_sales\n",
      "\n",
      "False    16715\n",
      "Name: other_sales, dtype: int64\n",
      "\n",
      "critic_score\n",
      "\n",
      "True     8578\n",
      "False    8137\n",
      "Name: critic_score, dtype: int64\n",
      "\n",
      "user_score\n",
      "\n",
      "False    10014\n",
      "True      6701\n",
      "Name: user_score, dtype: int64\n",
      "\n",
      "rating\n",
      "\n",
      "False    9949\n",
      "True     6766\n",
      "Name: rating, dtype: int64\n",
      "\n"
     ]
    }
   ],
   "source": [
    "#Проверим подробнее, где есть пропуски\n",
    "all_cols = df.columns\n",
    "all_cols\n",
    "for col in all_cols:\n",
    "    print(col)\n",
    "    print()\n",
    "    print(df[col].isna().value_counts())\n",
    "    print()"
   ]
  },
  {
   "cell_type": "code",
   "execution_count": 6,
   "id": "a2c4cb9b",
   "metadata": {},
   "outputs": [
    {
     "data": {
      "text/plain": [
       "0        False\n",
       "1        False\n",
       "2        False\n",
       "3        False\n",
       "4        False\n",
       "         ...  \n",
       "16710    False\n",
       "16711    False\n",
       "16712    False\n",
       "16713    False\n",
       "16714    False\n",
       "Length: 16715, dtype: bool"
      ]
     },
     "execution_count": 6,
     "metadata": {},
     "output_type": "execute_result"
    }
   ],
   "source": [
    "#на рабочих проектах стоит искать дубликаты по ключевым столбцам, для примера по сумме параметров:\n",
    "df.duplicated(subset = ['name', 'platform', 'year_of_release'] ,keep= False)"
   ]
  },
  {
   "cell_type": "code",
   "execution_count": 7,
   "id": "da340ceb",
   "metadata": {},
   "outputs": [
    {
     "data": {
      "text/plain": [
       "269"
      ]
     },
     "execution_count": 7,
     "metadata": {},
     "output_type": "execute_result"
    }
   ],
   "source": [
    "# Посчитаем количество пустых значений в столбце year_of_release\n",
    "df['year_of_release'].isna().sum()"
   ]
  },
  {
   "cell_type": "code",
   "execution_count": 8,
   "id": "04311507",
   "metadata": {},
   "outputs": [
    {
     "data": {
      "text/plain": [
       "146"
      ]
     },
     "execution_count": 8,
     "metadata": {},
     "output_type": "execute_result"
    }
   ],
   "source": [
    "#Напишем цикл где будем делать замену на года тех у кого совпадает название с игрой но в графе year_of_release пусто\n",
    "for i in df[df['year_of_release'].isnull() == True].index:  \n",
    "    df['year_of_release'][i] = df.loc[df['name'] == df['name'][i], 'year_of_release'].max()\n",
    "#Посмотрим сколько удалось заполнить пустых значений\n",
    "df['year_of_release'].isna().sum()    "
   ]
  },
  {
   "cell_type": "code",
   "execution_count": 9,
   "id": "86769d19",
   "metadata": {},
   "outputs": [
    {
     "data": {
      "text/html": [
       "<div>\n",
       "<style scoped>\n",
       "    .dataframe tbody tr th:only-of-type {\n",
       "        vertical-align: middle;\n",
       "    }\n",
       "\n",
       "    .dataframe tbody tr th {\n",
       "        vertical-align: top;\n",
       "    }\n",
       "\n",
       "    .dataframe thead th {\n",
       "        text-align: right;\n",
       "    }\n",
       "</style>\n",
       "<table border=\"1\" class=\"dataframe\">\n",
       "  <thead>\n",
       "    <tr style=\"text-align: right;\">\n",
       "      <th></th>\n",
       "      <th>name</th>\n",
       "      <th>platform</th>\n",
       "      <th>year_of_release</th>\n",
       "      <th>genre</th>\n",
       "      <th>na_sales</th>\n",
       "      <th>...</th>\n",
       "      <th>jp_sales</th>\n",
       "      <th>other_sales</th>\n",
       "      <th>critic_score</th>\n",
       "      <th>user_score</th>\n",
       "      <th>rating</th>\n",
       "    </tr>\n",
       "  </thead>\n",
       "  <tbody>\n",
       "    <tr>\n",
       "      <th>9777</th>\n",
       "      <td>lovely lisa</td>\n",
       "      <td>ds</td>\n",
       "      <td>2007</td>\n",
       "      <td>simulation</td>\n",
       "      <td>0.11</td>\n",
       "      <td>...</td>\n",
       "      <td>0.00</td>\n",
       "      <td>0.01</td>\n",
       "      <td>NaN</td>\n",
       "      <td>NaN</td>\n",
       "      <td>e</td>\n",
       "    </tr>\n",
       "    <tr>\n",
       "      <th>12518</th>\n",
       "      <td>secret files: tunguska</td>\n",
       "      <td>wii</td>\n",
       "      <td>2008</td>\n",
       "      <td>adventure</td>\n",
       "      <td>0.04</td>\n",
       "      <td>...</td>\n",
       "      <td>0.00</td>\n",
       "      <td>0.00</td>\n",
       "      <td>65.00</td>\n",
       "      <td>7.60</td>\n",
       "      <td>t</td>\n",
       "    </tr>\n",
       "    <tr>\n",
       "      <th>14712</th>\n",
       "      <td>syberia ii</td>\n",
       "      <td>xb</td>\n",
       "      <td>2004</td>\n",
       "      <td>adventure</td>\n",
       "      <td>0.02</td>\n",
       "      <td>...</td>\n",
       "      <td>0.00</td>\n",
       "      <td>0.00</td>\n",
       "      <td>71.00</td>\n",
       "      <td>8.70</td>\n",
       "      <td>t</td>\n",
       "    </tr>\n",
       "    <tr>\n",
       "      <th>7729</th>\n",
       "      <td>kouchuu ouja mushi king: greatest champion e n...</td>\n",
       "      <td>ds</td>\n",
       "      <td>2005</td>\n",
       "      <td>action</td>\n",
       "      <td>0.00</td>\n",
       "      <td>...</td>\n",
       "      <td>0.19</td>\n",
       "      <td>0.00</td>\n",
       "      <td>NaN</td>\n",
       "      <td>NaN</td>\n",
       "      <td>NaN</td>\n",
       "    </tr>\n",
       "    <tr>\n",
       "      <th>8566</th>\n",
       "      <td>lego star wars: the force awakens</td>\n",
       "      <td>ps3</td>\n",
       "      <td>2016</td>\n",
       "      <td>action</td>\n",
       "      <td>0.04</td>\n",
       "      <td>...</td>\n",
       "      <td>0.00</td>\n",
       "      <td>0.03</td>\n",
       "      <td>NaN</td>\n",
       "      <td>NaN</td>\n",
       "      <td>e10+</td>\n",
       "    </tr>\n",
       "    <tr>\n",
       "      <th>3381</th>\n",
       "      <td>fifa 15</td>\n",
       "      <td>psv</td>\n",
       "      <td>2014</td>\n",
       "      <td>sports</td>\n",
       "      <td>0.08</td>\n",
       "      <td>...</td>\n",
       "      <td>0.05</td>\n",
       "      <td>0.12</td>\n",
       "      <td>NaN</td>\n",
       "      <td>3.10</td>\n",
       "      <td>e</td>\n",
       "    </tr>\n",
       "    <tr>\n",
       "      <th>9289</th>\n",
       "      <td>nhl breakaway 98</td>\n",
       "      <td>ps</td>\n",
       "      <td>1996</td>\n",
       "      <td>sports</td>\n",
       "      <td>0.08</td>\n",
       "      <td>...</td>\n",
       "      <td>0.00</td>\n",
       "      <td>0.01</td>\n",
       "      <td>NaN</td>\n",
       "      <td>NaN</td>\n",
       "      <td>NaN</td>\n",
       "    </tr>\n",
       "    <tr>\n",
       "      <th>6836</th>\n",
       "      <td>sakura wars: atsuki chishio ni</td>\n",
       "      <td>ps2</td>\n",
       "      <td>2003</td>\n",
       "      <td>role-playing</td>\n",
       "      <td>0.00</td>\n",
       "      <td>...</td>\n",
       "      <td>0.24</td>\n",
       "      <td>0.00</td>\n",
       "      <td>NaN</td>\n",
       "      <td>NaN</td>\n",
       "      <td>NaN</td>\n",
       "    </tr>\n",
       "    <tr>\n",
       "      <th>1847</th>\n",
       "      <td>wwe 2k14</td>\n",
       "      <td>x360</td>\n",
       "      <td>2013</td>\n",
       "      <td>sports</td>\n",
       "      <td>0.64</td>\n",
       "      <td>...</td>\n",
       "      <td>0.00</td>\n",
       "      <td>0.10</td>\n",
       "      <td>75.00</td>\n",
       "      <td>7.70</td>\n",
       "      <td>t</td>\n",
       "    </tr>\n",
       "    <tr>\n",
       "      <th>7112</th>\n",
       "      <td>need for speed: undercover</td>\n",
       "      <td>ds</td>\n",
       "      <td>2008</td>\n",
       "      <td>racing</td>\n",
       "      <td>0.18</td>\n",
       "      <td>...</td>\n",
       "      <td>0.00</td>\n",
       "      <td>0.02</td>\n",
       "      <td>59.00</td>\n",
       "      <td>6.70</td>\n",
       "      <td>e10+</td>\n",
       "    </tr>\n",
       "    <tr>\n",
       "      <th>7778</th>\n",
       "      <td>mafia iii</td>\n",
       "      <td>pc</td>\n",
       "      <td>2016</td>\n",
       "      <td>action</td>\n",
       "      <td>0.08</td>\n",
       "      <td>...</td>\n",
       "      <td>0.00</td>\n",
       "      <td>0.02</td>\n",
       "      <td>63.00</td>\n",
       "      <td>3.20</td>\n",
       "      <td>m</td>\n",
       "    </tr>\n",
       "    <tr>\n",
       "      <th>7201</th>\n",
       "      <td>mega man 64</td>\n",
       "      <td>n64</td>\n",
       "      <td>2000</td>\n",
       "      <td>action</td>\n",
       "      <td>0.14</td>\n",
       "      <td>...</td>\n",
       "      <td>0.05</td>\n",
       "      <td>0.00</td>\n",
       "      <td>NaN</td>\n",
       "      <td>NaN</td>\n",
       "      <td>NaN</td>\n",
       "    </tr>\n",
       "    <tr>\n",
       "      <th>1614</th>\n",
       "      <td>frogger: the great quest</td>\n",
       "      <td>ps2</td>\n",
       "      <td>2001</td>\n",
       "      <td>platform</td>\n",
       "      <td>0.60</td>\n",
       "      <td>...</td>\n",
       "      <td>0.00</td>\n",
       "      <td>0.16</td>\n",
       "      <td>32.00</td>\n",
       "      <td>4.60</td>\n",
       "      <td>e</td>\n",
       "    </tr>\n",
       "    <tr>\n",
       "      <th>4340</th>\n",
       "      <td>pirates of the caribbean: at world's end</td>\n",
       "      <td>wii</td>\n",
       "      <td>2007</td>\n",
       "      <td>action</td>\n",
       "      <td>0.39</td>\n",
       "      <td>...</td>\n",
       "      <td>0.01</td>\n",
       "      <td>0.04</td>\n",
       "      <td>53.00</td>\n",
       "      <td>7.20</td>\n",
       "      <td>t</td>\n",
       "    </tr>\n",
       "    <tr>\n",
       "      <th>13628</th>\n",
       "      <td>kanuchi: shiroki tsubasa no shou</td>\n",
       "      <td>ps2</td>\n",
       "      <td>2008</td>\n",
       "      <td>adventure</td>\n",
       "      <td>0.00</td>\n",
       "      <td>...</td>\n",
       "      <td>0.04</td>\n",
       "      <td>0.00</td>\n",
       "      <td>NaN</td>\n",
       "      <td>NaN</td>\n",
       "      <td>NaN</td>\n",
       "    </tr>\n",
       "    <tr>\n",
       "      <th>7855</th>\n",
       "      <td>lunar legend</td>\n",
       "      <td>gba</td>\n",
       "      <td>2002</td>\n",
       "      <td>role-playing</td>\n",
       "      <td>0.14</td>\n",
       "      <td>...</td>\n",
       "      <td>0.00</td>\n",
       "      <td>0.00</td>\n",
       "      <td>79.00</td>\n",
       "      <td>7.80</td>\n",
       "      <td>e</td>\n",
       "    </tr>\n",
       "    <tr>\n",
       "      <th>3324</th>\n",
       "      <td>monster trucks</td>\n",
       "      <td>gba</td>\n",
       "      <td>2004</td>\n",
       "      <td>racing</td>\n",
       "      <td>0.43</td>\n",
       "      <td>...</td>\n",
       "      <td>0.00</td>\n",
       "      <td>0.01</td>\n",
       "      <td>NaN</td>\n",
       "      <td>NaN</td>\n",
       "      <td>e</td>\n",
       "    </tr>\n",
       "    <tr>\n",
       "      <th>2985</th>\n",
       "      <td>suikoden ii</td>\n",
       "      <td>ps</td>\n",
       "      <td>1998</td>\n",
       "      <td>role-playing</td>\n",
       "      <td>0.15</td>\n",
       "      <td>...</td>\n",
       "      <td>0.38</td>\n",
       "      <td>0.04</td>\n",
       "      <td>82.00</td>\n",
       "      <td>8.40</td>\n",
       "      <td>t</td>\n",
       "    </tr>\n",
       "    <tr>\n",
       "      <th>7526</th>\n",
       "      <td>thrillville</td>\n",
       "      <td>psp</td>\n",
       "      <td>2006</td>\n",
       "      <td>strategy</td>\n",
       "      <td>0.18</td>\n",
       "      <td>...</td>\n",
       "      <td>0.00</td>\n",
       "      <td>0.02</td>\n",
       "      <td>72.00</td>\n",
       "      <td>2.80</td>\n",
       "      <td>e10+</td>\n",
       "    </tr>\n",
       "    <tr>\n",
       "      <th>8934</th>\n",
       "      <td>hoppechan: tsukutte! asonde! punipuni town!!</td>\n",
       "      <td>3ds</td>\n",
       "      <td>2013</td>\n",
       "      <td>action</td>\n",
       "      <td>0.00</td>\n",
       "      <td>...</td>\n",
       "      <td>0.15</td>\n",
       "      <td>0.00</td>\n",
       "      <td>NaN</td>\n",
       "      <td>NaN</td>\n",
       "      <td>NaN</td>\n",
       "    </tr>\n",
       "  </tbody>\n",
       "</table>\n",
       "<p>20 rows × 11 columns</p>\n",
       "</div>"
      ],
      "text/plain": [
       "                                                    name platform  \\\n",
       "9777                                         lovely lisa       ds   \n",
       "12518                             secret files: tunguska      wii   \n",
       "14712                                         syberia ii       xb   \n",
       "7729   kouchuu ouja mushi king: greatest champion e n...       ds   \n",
       "8566                   lego star wars: the force awakens      ps3   \n",
       "3381                                             fifa 15      psv   \n",
       "9289                                    nhl breakaway 98       ps   \n",
       "6836                      sakura wars: atsuki chishio ni      ps2   \n",
       "1847                                            wwe 2k14     x360   \n",
       "7112                          need for speed: undercover       ds   \n",
       "7778                                           mafia iii       pc   \n",
       "7201                                         mega man 64      n64   \n",
       "1614                            frogger: the great quest      ps2   \n",
       "4340            pirates of the caribbean: at world's end      wii   \n",
       "13628                   kanuchi: shiroki tsubasa no shou      ps2   \n",
       "7855                                        lunar legend      gba   \n",
       "3324                                      monster trucks      gba   \n",
       "2985                                         suikoden ii       ps   \n",
       "7526                                         thrillville      psp   \n",
       "8934        hoppechan: tsukutte! asonde! punipuni town!!      3ds   \n",
       "\n",
       "       year_of_release         genre  na_sales  ...  jp_sales  other_sales  \\\n",
       "9777              2007    simulation      0.11  ...      0.00         0.01   \n",
       "12518             2008     adventure      0.04  ...      0.00         0.00   \n",
       "14712             2004     adventure      0.02  ...      0.00         0.00   \n",
       "7729              2005        action      0.00  ...      0.19         0.00   \n",
       "8566              2016        action      0.04  ...      0.00         0.03   \n",
       "3381              2014        sports      0.08  ...      0.05         0.12   \n",
       "9289              1996        sports      0.08  ...      0.00         0.01   \n",
       "6836              2003  role-playing      0.00  ...      0.24         0.00   \n",
       "1847              2013        sports      0.64  ...      0.00         0.10   \n",
       "7112              2008        racing      0.18  ...      0.00         0.02   \n",
       "7778              2016        action      0.08  ...      0.00         0.02   \n",
       "7201              2000        action      0.14  ...      0.05         0.00   \n",
       "1614              2001      platform      0.60  ...      0.00         0.16   \n",
       "4340              2007        action      0.39  ...      0.01         0.04   \n",
       "13628             2008     adventure      0.00  ...      0.04         0.00   \n",
       "7855              2002  role-playing      0.14  ...      0.00         0.00   \n",
       "3324              2004        racing      0.43  ...      0.00         0.01   \n",
       "2985              1998  role-playing      0.15  ...      0.38         0.04   \n",
       "7526              2006      strategy      0.18  ...      0.00         0.02   \n",
       "8934              2013        action      0.00  ...      0.15         0.00   \n",
       "\n",
       "       critic_score  user_score  rating  \n",
       "9777            NaN         NaN       e  \n",
       "12518         65.00        7.60       t  \n",
       "14712         71.00        8.70       t  \n",
       "7729            NaN         NaN     NaN  \n",
       "8566            NaN         NaN    e10+  \n",
       "3381            NaN        3.10       e  \n",
       "9289            NaN         NaN     NaN  \n",
       "6836            NaN         NaN     NaN  \n",
       "1847          75.00        7.70       t  \n",
       "7112          59.00        6.70    e10+  \n",
       "7778          63.00        3.20       m  \n",
       "7201            NaN         NaN     NaN  \n",
       "1614          32.00        4.60       e  \n",
       "4340          53.00        7.20       t  \n",
       "13628           NaN         NaN     NaN  \n",
       "7855          79.00        7.80       e  \n",
       "3324            NaN         NaN       e  \n",
       "2985          82.00        8.40       t  \n",
       "7526          72.00        2.80    e10+  \n",
       "8934            NaN         NaN     NaN  \n",
       "\n",
       "[20 rows x 11 columns]"
      ]
     },
     "execution_count": 9,
     "metadata": {},
     "output_type": "execute_result"
    }
   ],
   "source": [
    "#Заменим tbd в user_score в ( to be determined, to be done. То есть, данные были нарочно не заполнены, так как не определились с рейтингом) на Nan\n",
    "df.loc[df['user_score'] == 'tbd', 'user_score'] = float('nan')\n",
    "# Поменяем формат столбца user_score на float\n",
    "df['user_score'] = df['user_score'].astype(float)\n",
    "df['user_score'].dtype\n",
    "#Посмотрим как выглядит теперь наша таблица\n",
    "df.sample(20)"
   ]
  },
  {
   "cell_type": "code",
   "execution_count": 10,
   "id": "ea1c8a9e",
   "metadata": {},
   "outputs": [],
   "source": [
    "# Пропущенные значения в столбце 'rating' заменим на \"не определен\" так как это категориальная переменная\n",
    "df['rating']. fillna('NOT KNOWN', inplace=True)\n"
   ]
  },
  {
   "cell_type": "code",
   "execution_count": 11,
   "id": "cce530ad",
   "metadata": {},
   "outputs": [
    {
     "name": "stdout",
     "output_type": "stream",
     "text": [
      "<class 'pandas.core.frame.DataFrame'>\n",
      "Int64Index: 16567 entries, 0 to 16714\n",
      "Data columns (total 11 columns):\n",
      " #   Column           Non-Null Count  Dtype  \n",
      "---  ------           --------------  -----  \n",
      " 0   name             16567 non-null  object \n",
      " 1   platform         16567 non-null  object \n",
      " 2   year_of_release  16567 non-null  Int64  \n",
      " 3   genre            16567 non-null  object \n",
      " 4   na_sales         16567 non-null  float64\n",
      " 5   eu_sales         16567 non-null  float64\n",
      " 6   jp_sales         16567 non-null  float64\n",
      " 7   other_sales      16567 non-null  float64\n",
      " 8   critic_score     8075 non-null   float64\n",
      " 9   user_score       7540 non-null   float64\n",
      " 10  rating           16567 non-null  object \n",
      "dtypes: Int64(1), float64(6), object(4)\n",
      "memory usage: 1.5+ MB\n"
     ]
    }
   ],
   "source": [
    "#Удалим пропуски в столбцах name, genre, year_of_release (за их малым количеством):\n",
    " \n",
    "df.dropna(subset=['name', 'genre', 'year_of_release'], inplace=True)\n",
    "df.info()"
   ]
  },
  {
   "cell_type": "code",
   "execution_count": 12,
   "id": "69cae839",
   "metadata": {},
   "outputs": [
    {
     "data": {
      "text/html": [
       "<div>\n",
       "<style scoped>\n",
       "    .dataframe tbody tr th:only-of-type {\n",
       "        vertical-align: middle;\n",
       "    }\n",
       "\n",
       "    .dataframe tbody tr th {\n",
       "        vertical-align: top;\n",
       "    }\n",
       "\n",
       "    .dataframe thead th {\n",
       "        text-align: right;\n",
       "    }\n",
       "</style>\n",
       "<table border=\"1\" class=\"dataframe\">\n",
       "  <thead>\n",
       "    <tr style=\"text-align: right;\">\n",
       "      <th></th>\n",
       "      <th>name</th>\n",
       "      <th>platform</th>\n",
       "      <th>year_of_release</th>\n",
       "      <th>genre</th>\n",
       "      <th>na_sales</th>\n",
       "      <th>...</th>\n",
       "      <th>other_sales</th>\n",
       "      <th>critic_score</th>\n",
       "      <th>user_score</th>\n",
       "      <th>rating</th>\n",
       "      <th>total_sales</th>\n",
       "    </tr>\n",
       "  </thead>\n",
       "  <tbody>\n",
       "    <tr>\n",
       "      <th>0</th>\n",
       "      <td>wii sports</td>\n",
       "      <td>wii</td>\n",
       "      <td>2006</td>\n",
       "      <td>sports</td>\n",
       "      <td>41.36</td>\n",
       "      <td>...</td>\n",
       "      <td>8.45</td>\n",
       "      <td>76.00</td>\n",
       "      <td>8.00</td>\n",
       "      <td>e</td>\n",
       "      <td>82.54</td>\n",
       "    </tr>\n",
       "    <tr>\n",
       "      <th>1</th>\n",
       "      <td>super mario bros.</td>\n",
       "      <td>nes</td>\n",
       "      <td>1985</td>\n",
       "      <td>platform</td>\n",
       "      <td>29.08</td>\n",
       "      <td>...</td>\n",
       "      <td>0.77</td>\n",
       "      <td>NaN</td>\n",
       "      <td>NaN</td>\n",
       "      <td>NOT KNOWN</td>\n",
       "      <td>40.24</td>\n",
       "    </tr>\n",
       "    <tr>\n",
       "      <th>2</th>\n",
       "      <td>mario kart wii</td>\n",
       "      <td>wii</td>\n",
       "      <td>2008</td>\n",
       "      <td>racing</td>\n",
       "      <td>15.68</td>\n",
       "      <td>...</td>\n",
       "      <td>3.29</td>\n",
       "      <td>82.00</td>\n",
       "      <td>8.30</td>\n",
       "      <td>e</td>\n",
       "      <td>35.52</td>\n",
       "    </tr>\n",
       "    <tr>\n",
       "      <th>3</th>\n",
       "      <td>wii sports resort</td>\n",
       "      <td>wii</td>\n",
       "      <td>2009</td>\n",
       "      <td>sports</td>\n",
       "      <td>15.61</td>\n",
       "      <td>...</td>\n",
       "      <td>2.95</td>\n",
       "      <td>80.00</td>\n",
       "      <td>8.00</td>\n",
       "      <td>e</td>\n",
       "      <td>32.77</td>\n",
       "    </tr>\n",
       "    <tr>\n",
       "      <th>4</th>\n",
       "      <td>pokemon red/pokemon blue</td>\n",
       "      <td>gb</td>\n",
       "      <td>1996</td>\n",
       "      <td>role-playing</td>\n",
       "      <td>11.27</td>\n",
       "      <td>...</td>\n",
       "      <td>1.00</td>\n",
       "      <td>NaN</td>\n",
       "      <td>NaN</td>\n",
       "      <td>NOT KNOWN</td>\n",
       "      <td>31.38</td>\n",
       "    </tr>\n",
       "    <tr>\n",
       "      <th>...</th>\n",
       "      <td>...</td>\n",
       "      <td>...</td>\n",
       "      <td>...</td>\n",
       "      <td>...</td>\n",
       "      <td>...</td>\n",
       "      <td>...</td>\n",
       "      <td>...</td>\n",
       "      <td>...</td>\n",
       "      <td>...</td>\n",
       "      <td>...</td>\n",
       "      <td>...</td>\n",
       "    </tr>\n",
       "    <tr>\n",
       "      <th>16710</th>\n",
       "      <td>samurai warriors: sanada maru</td>\n",
       "      <td>ps3</td>\n",
       "      <td>2016</td>\n",
       "      <td>action</td>\n",
       "      <td>0.00</td>\n",
       "      <td>...</td>\n",
       "      <td>0.00</td>\n",
       "      <td>NaN</td>\n",
       "      <td>NaN</td>\n",
       "      <td>NOT KNOWN</td>\n",
       "      <td>0.01</td>\n",
       "    </tr>\n",
       "    <tr>\n",
       "      <th>16711</th>\n",
       "      <td>lma manager 2007</td>\n",
       "      <td>x360</td>\n",
       "      <td>2006</td>\n",
       "      <td>sports</td>\n",
       "      <td>0.00</td>\n",
       "      <td>...</td>\n",
       "      <td>0.00</td>\n",
       "      <td>NaN</td>\n",
       "      <td>NaN</td>\n",
       "      <td>NOT KNOWN</td>\n",
       "      <td>0.01</td>\n",
       "    </tr>\n",
       "    <tr>\n",
       "      <th>16712</th>\n",
       "      <td>haitaka no psychedelica</td>\n",
       "      <td>psv</td>\n",
       "      <td>2016</td>\n",
       "      <td>adventure</td>\n",
       "      <td>0.00</td>\n",
       "      <td>...</td>\n",
       "      <td>0.00</td>\n",
       "      <td>NaN</td>\n",
       "      <td>NaN</td>\n",
       "      <td>NOT KNOWN</td>\n",
       "      <td>0.01</td>\n",
       "    </tr>\n",
       "    <tr>\n",
       "      <th>16713</th>\n",
       "      <td>spirits &amp; spells</td>\n",
       "      <td>gba</td>\n",
       "      <td>2003</td>\n",
       "      <td>platform</td>\n",
       "      <td>0.01</td>\n",
       "      <td>...</td>\n",
       "      <td>0.00</td>\n",
       "      <td>NaN</td>\n",
       "      <td>NaN</td>\n",
       "      <td>NOT KNOWN</td>\n",
       "      <td>0.01</td>\n",
       "    </tr>\n",
       "    <tr>\n",
       "      <th>16714</th>\n",
       "      <td>winning post 8 2016</td>\n",
       "      <td>psv</td>\n",
       "      <td>2016</td>\n",
       "      <td>simulation</td>\n",
       "      <td>0.00</td>\n",
       "      <td>...</td>\n",
       "      <td>0.00</td>\n",
       "      <td>NaN</td>\n",
       "      <td>NaN</td>\n",
       "      <td>NOT KNOWN</td>\n",
       "      <td>0.01</td>\n",
       "    </tr>\n",
       "  </tbody>\n",
       "</table>\n",
       "<p>16567 rows × 12 columns</p>\n",
       "</div>"
      ],
      "text/plain": [
       "                                name platform  year_of_release         genre  \\\n",
       "0                         wii sports      wii             2006        sports   \n",
       "1                  super mario bros.      nes             1985      platform   \n",
       "2                     mario kart wii      wii             2008        racing   \n",
       "3                  wii sports resort      wii             2009        sports   \n",
       "4           pokemon red/pokemon blue       gb             1996  role-playing   \n",
       "...                              ...      ...              ...           ...   \n",
       "16710  samurai warriors: sanada maru      ps3             2016        action   \n",
       "16711               lma manager 2007     x360             2006        sports   \n",
       "16712        haitaka no psychedelica      psv             2016     adventure   \n",
       "16713               spirits & spells      gba             2003      platform   \n",
       "16714            winning post 8 2016      psv             2016    simulation   \n",
       "\n",
       "       na_sales  ...  other_sales  critic_score  user_score     rating  \\\n",
       "0         41.36  ...         8.45         76.00        8.00          e   \n",
       "1         29.08  ...         0.77           NaN         NaN  NOT KNOWN   \n",
       "2         15.68  ...         3.29         82.00        8.30          e   \n",
       "3         15.61  ...         2.95         80.00        8.00          e   \n",
       "4         11.27  ...         1.00           NaN         NaN  NOT KNOWN   \n",
       "...         ...  ...          ...           ...         ...        ...   \n",
       "16710      0.00  ...         0.00           NaN         NaN  NOT KNOWN   \n",
       "16711      0.00  ...         0.00           NaN         NaN  NOT KNOWN   \n",
       "16712      0.00  ...         0.00           NaN         NaN  NOT KNOWN   \n",
       "16713      0.01  ...         0.00           NaN         NaN  NOT KNOWN   \n",
       "16714      0.00  ...         0.00           NaN         NaN  NOT KNOWN   \n",
       "\n",
       "       total_sales  \n",
       "0            82.54  \n",
       "1            40.24  \n",
       "2            35.52  \n",
       "3            32.77  \n",
       "4            31.38  \n",
       "...            ...  \n",
       "16710         0.01  \n",
       "16711         0.01  \n",
       "16712         0.01  \n",
       "16713         0.01  \n",
       "16714         0.01  \n",
       "\n",
       "[16567 rows x 12 columns]"
      ]
     },
     "execution_count": 12,
     "metadata": {},
     "output_type": "execute_result"
    }
   ],
   "source": [
    "#Создадим новый столбец total_sales(суммарные продажи во всех регионах) \n",
    "df['total_sales'] = df['na_sales'] + df['eu_sales'] + df['jp_sales'] + df['other_sales']\n",
    "df"
   ]
  },
  {
   "cell_type": "code",
   "execution_count": 13,
   "id": "f2bc3d40",
   "metadata": {},
   "outputs": [
    {
     "name": "stdout",
     "output_type": "stream",
     "text": [
      "<class 'pandas.core.frame.DataFrame'>\n",
      "Int64Index: 16567 entries, 0 to 16714\n",
      "Data columns (total 12 columns):\n",
      " #   Column           Non-Null Count  Dtype  \n",
      "---  ------           --------------  -----  \n",
      " 0   name             16567 non-null  object \n",
      " 1   platform         16567 non-null  object \n",
      " 2   year_of_release  16567 non-null  Int64  \n",
      " 3   genre            16567 non-null  object \n",
      " 4   na_sales         16567 non-null  float64\n",
      " 5   eu_sales         16567 non-null  float64\n",
      " 6   jp_sales         16567 non-null  float64\n",
      " 7   other_sales      16567 non-null  float64\n",
      " 8   critic_score     8075 non-null   float64\n",
      " 9   user_score       7540 non-null   float64\n",
      " 10  rating           16567 non-null  object \n",
      " 11  total_sales      16567 non-null  float64\n",
      "dtypes: Int64(1), float64(7), object(4)\n",
      "memory usage: 1.7+ MB\n"
     ]
    }
   ],
   "source": [
    "df.info()"
   ]
  },
  {
   "cell_type": "markdown",
   "id": "1ad57ab3",
   "metadata": {},
   "source": [
    "**Итог:**\n",
    "\n",
    "Пропуски ослались в 2-х столбцах critic_score, user_score . Заполнение пропусков в этих категориальных переменных исказит результаты в корреляционном анализе и стат-тестах,поэтому оставим их в том же виде."
   ]
  },
  {
   "cell_type": "markdown",
   "id": "e03e5990",
   "metadata": {},
   "source": [
    "## Шаг 3. Проведем исследовательский анализ данных<a class=\"anchor\" id=\"шаг-3\"></a>"
   ]
  },
  {
   "cell_type": "markdown",
   "id": "c5b47653",
   "metadata": {},
   "source": [
    " Посмотрим, сколько игр выпускалось в разные годы. Важны ли данные за все периоды?"
   ]
  },
  {
   "cell_type": "code",
   "execution_count": 14,
   "id": "f80ee32e",
   "metadata": {
    "scrolled": true
   },
   "outputs": [
    {
     "data": {
      "image/png": "[encoded data removed]",
      "text/plain": [
       "<Figure size 864x432 with 1 Axes>"
      ]
     },
     "metadata": {
      "needs_background": "light"
     },
     "output_type": "display_data"
    }
   ],
   "source": [
    "# Методом пивот отсортируем таблицы и отрисуем график, чтобы просмотреть как менялось количество выпускаемых игр\n",
    "platform_on_sales = df.pivot_table(index='year_of_release', values='name', aggfunc='count')\n",
    "plt.figure(figsize=(12,6))\n",
    "sns.lineplot(data=platform_on_sales)\n",
    "plt.title(\"Количество игр выпускаемые в разные года\")\n",
    "plt.xlabel(\"Год выпуска\")\n",
    "plt.ylabel(\"Количество выпущенных игр\")\n",
    "plt.legend('');"
   ]
  },
  {
   "cell_type": "code",
   "execution_count": 15,
   "id": "ee038489",
   "metadata": {},
   "outputs": [
    {
     "data": {
      "image/png": "[encoded data removed]",
      "text/plain": [
       "<Figure size 936x432 with 1 Axes>"
      ]
     },
     "metadata": {
      "needs_background": "light"
     },
     "output_type": "display_data"
    }
   ],
   "source": [
    "#Посмотрим, как менялись продажи по платформам\n",
    "platform_on_sales = df.pivot_table(\n",
    "    index='platform', values='total_sales', aggfunc='sum').sort_values(by='total_sales', ascending=False)\n",
    "\n",
    "plt.figure(figsize=(13,6))\n",
    "sns.barplot(x=platform_on_sales.index,y=platform_on_sales['total_sales'])\n",
    "plt.title(\"Продажи по платформам за весь период\")\n",
    "plt.xlabel(\"Название платформы\")\n",
    "plt.ylabel(\"Года продаж\");"
   ]
  },
  {
   "cell_type": "markdown",
   "id": "fba594aa",
   "metadata": {},
   "source": [
    "Самые популярные игровые платформы за весь период - PS2, X360, PS3, WII, DS, PS."
   ]
  },
  {
   "cell_type": "markdown",
   "id": "6791eee2",
   "metadata": {},
   "source": [
    " Нас интнресует актуальный период, который  будет способствоавть построению прогноза на 2017 год. Установим минимальный порог продаж, где для каждой платформы ищется число лет, когда суммарные продажи превышали этот порог. Далее высчитаем среднее число таких лет- это будет среднее время жизни платформы. И актуальный период составит половину этого времени так как вторую половину жизни платформы падают."
   ]
  },
  {
   "cell_type": "code",
   "execution_count": 16,
   "id": "02d5ec1e",
   "metadata": {},
   "outputs": [
    {
     "data": {
      "text/plain": [
       "year_of_release   3.04\n",
       "dtype: float64"
      ]
     },
     "execution_count": 16,
     "metadata": {},
     "output_type": "execute_result"
    }
   ],
   "source": [
    "# Рассчитаем актуалый период, за который будем брать данные\n",
    "# Зададим минимальные значения продажи в миллионах\n",
    "min_sales = 10\n",
    "# Найдем суммарные продажи в год выше порога\n",
    "report = df.groupby(['platform','year_of_release']).agg({'total_sales':'sum'}).query ('total_sales > @min_sales')\n",
    "# Определим среднее число лет выше порога продажи, деленное на 2( потому что половину жизни платформа падает)\n",
    "report.reset_index().groupby('platform').agg({'year_of_release':'nunique'}).mean() / 2"
   ]
  },
  {
   "cell_type": "markdown",
   "id": "3f2cb147",
   "metadata": {},
   "source": [
    "Актуальный период будет равен 3 годам, поэтому будем рассматривать данные с 2013-2016 год"
   ]
  },
  {
   "cell_type": "code",
   "execution_count": 17,
   "id": "f2889a4e",
   "metadata": {},
   "outputs": [],
   "source": [
    "# Напишем функцию, которая будет возвращать нужную сводную таблицу и выводить данные с 2013 года\n",
    "def year_total_sale_for_platform(name, data):\n",
    "    slicee = data[(data['platform'] == name) & (data['year_of_release'] > 2013)]\n",
    "    total = slicee.pivot_table(index='year_of_release', values='total_sales', aggfunc='sum').sort_values('year_of_release', ascending=False)\n",
    "    return total"
   ]
  },
  {
   "cell_type": "code",
   "execution_count": 18,
   "id": "be45be2e",
   "metadata": {
    "scrolled": true
   },
   "outputs": [
    {
     "data": {
      "text/html": [
       "<div>\n",
       "<style scoped>\n",
       "    .dataframe tbody tr th:only-of-type {\n",
       "        vertical-align: middle;\n",
       "    }\n",
       "\n",
       "    .dataframe tbody tr th {\n",
       "        vertical-align: top;\n",
       "    }\n",
       "\n",
       "    .dataframe thead th {\n",
       "        text-align: right;\n",
       "    }\n",
       "</style>\n",
       "<table border=\"1\" class=\"dataframe\">\n",
       "  <thead>\n",
       "    <tr style=\"text-align: right;\">\n",
       "      <th></th>\n",
       "      <th>platform</th>\n",
       "      <th>total_sales</th>\n",
       "    </tr>\n",
       "  </thead>\n",
       "  <tbody>\n",
       "    <tr>\n",
       "      <th>3</th>\n",
       "      <td>ps4</td>\n",
       "      <td>76.22</td>\n",
       "    </tr>\n",
       "    <tr>\n",
       "      <th>8</th>\n",
       "      <td>xone</td>\n",
       "      <td>31.02</td>\n",
       "    </tr>\n",
       "    <tr>\n",
       "      <th>0</th>\n",
       "      <td>3ds</td>\n",
       "      <td>15.14</td>\n",
       "    </tr>\n",
       "    <tr>\n",
       "      <th>2</th>\n",
       "      <td>ps3</td>\n",
       "      <td>8.92</td>\n",
       "    </tr>\n",
       "    <tr>\n",
       "      <th>4</th>\n",
       "      <td>psv</td>\n",
       "      <td>6.38</td>\n",
       "    </tr>\n",
       "  </tbody>\n",
       "</table>\n",
       "</div>"
      ],
      "text/plain": [
       "  platform  total_sales\n",
       "3      ps4        76.22\n",
       "8     xone        31.02\n",
       "0      3ds        15.14\n",
       "2      ps3         8.92\n",
       "4      psv         6.38"
      ]
     },
     "execution_count": 18,
     "metadata": {},
     "output_type": "execute_result"
    }
   ],
   "source": [
    "# Создадим свою таблицу по лидирующим по продажам платформам за актуальный период включая 2016 год\n",
    "actual_data = df.query('year_of_release > 2013') \n",
    "actual_2016 = actual_data.query('year_of_release == 2016') #выберем позиции с актуальными действующими на 2016 год играми \n",
    "actual_2016_names = actual_2016['name'].unique() #создадим словарь актуальных игр с 2016 годом\n",
    "actual_data = actual_data.query('name in @actual_2016_names')  #уберем из actual_data игры без продаж за 2016 \n",
    "top_5_platforms = actual_data.pivot_table(index=['platform'], values='total_sales', aggfunc='sum').reset_index().sort_values(by='total_sales', ascending=False).head(5)\n",
    "top_5_platforms\n",
    "\n"
   ]
  },
  {
   "cell_type": "code",
   "execution_count": 19,
   "id": "12cae396",
   "metadata": {},
   "outputs": [
    {
     "data": {
      "image/png": "[encoded data removed]",
      "text/plain": [
       "<Figure size 864x432 with 1 Axes>"
      ]
     },
     "metadata": {
      "needs_background": "light"
     },
     "output_type": "display_data"
    }
   ],
   "source": [
    "#Отрисуем все игровые платформы и их поведение за последние 3 года\n",
    "plt.figure(figsize=(12,6))\n",
    "plt.title('Количество продаж популярных игровых платформ')\n",
    "plt.xlabel('Годы игровых релизов')\n",
    "plt.ylabel('Продажи')\n",
    "\n",
    "for i in list(top_5_platforms['platform']):\n",
    "    sns.lineplot(data=year_total_sale_for_platform(i,df)['total_sales'], label=i)\n",
    "    plt.legend()"
   ]
  },
  {
   "cell_type": "code",
   "execution_count": 20,
   "id": "7600df8f",
   "metadata": {},
   "outputs": [
    {
     "data": {
      "image/png": "[encoded data removed]",
      "text/plain": [
       "<Figure size 1296x360 with 1 Axes>"
      ]
     },
     "metadata": {},
     "output_type": "display_data"
    }
   ],
   "source": [
    "# Визуализируем рейтинг топовых платформ актуального периода\n",
    "sns.set_style('whitegrid')\n",
    "plt.figure(figsize=(18, 5))\n",
    "sns.barplot(data = top_5_platforms, x='platform', y='total_sales');"
   ]
  },
  {
   "cell_type": "markdown",
   "id": "ecaaa251",
   "metadata": {},
   "source": [
    "Наиболее прибыльные платформы - PS4, XOne, 3ds, PS3, psv  "
   ]
  },
  {
   "cell_type": "markdown",
   "id": "def9f0a5",
   "metadata": {},
   "source": [
    "**Итог:**\n",
    "\n",
    "- Из графиков видим, что количество игр на игровые приставки и компьютеры начало расти с большой скоростью с 90х годов до 2008 года, где далеее уже видим спад консольных игр (это можно связать с тем, что в это время начинают создаваться мобильные приложения и мобильные игры).\n",
    "- Самые популярные игровые платформы за весь период - PS2, X360, PS3, WII, DS, PS.\n",
    "\n",
    "- В топ наиболее прибыльных платформ за актуальный период вошли PS4, XOne, 3ds, PS3, psv.\n",
    "- По объемам продаж в актуальном периоде двукратно лидирует sp4, что так же видим визуально."
   ]
  },
  {
   "cell_type": "markdown",
   "id": "7ba1cf41",
   "metadata": {},
   "source": [
    " Построим график «ящик с усами» по глобальным продажам игр за актуальный период в разбивке по платформам"
   ]
  },
  {
   "cell_type": "code",
   "execution_count": 21,
   "id": "a3f85e6f",
   "metadata": {},
   "outputs": [
    {
     "data": {
      "text/plain": [
       "count   409.00\n",
       "mean      0.15\n",
       "std       0.24\n",
       "min       0.01\n",
       "25%       0.02\n",
       "50%       0.05\n",
       "75%       0.15\n",
       "max       1.38\n",
       "Name: total_sales, dtype: float64"
      ]
     },
     "execution_count": 21,
     "metadata": {},
     "output_type": "execute_result"
    }
   ],
   "source": [
    "#Сохраним в переменной df_top_5_platforms топ 5 платформ и избавимся от выбросов\n",
    "list_of_top5 = ['ps4','xone','3ds','ps3','psv']\n",
    "df_top_5_platforms = actual_data[actual_data['platform'].isin(['ps4','xone','3ds','ps3','psv'])]\n",
    "df_top_5_platforms = df_top_5_platforms[df_top_5_platforms['total_sales']<1.4]\n",
    "df_top_5_platforms['total_sales'].describe()\n"
   ]
  },
  {
   "cell_type": "code",
   "execution_count": 22,
   "id": "9a73dfd1",
   "metadata": {},
   "outputs": [
    {
     "data": {
      "image/png": "[encoded data removed]",
      "text/plain": [
       "<Figure size 864x432 with 1 Axes>"
      ]
     },
     "metadata": {},
     "output_type": "display_data"
    }
   ],
   "source": [
    "#Построим ящики с усами \n",
    "plt.figure(figsize=(12,6))\n",
    "sns.boxplot(data=df_top_5_platforms, x='platform', y='total_sales')\n",
    "plt.title('Ящик с усами', fontsize=15)\n",
    "plt.xlabel('Платформа', fontsize=12)\n",
    "plt.ylabel('Глобальные продажи',fontsize=12);"
   ]
  },
  {
   "cell_type": "markdown",
   "id": "c7af896c",
   "metadata": {},
   "source": [
    "Итог :\n",
    "- Исходя из графиков, диаграмм размаха, видно, что медиана немного различается.\n",
    "- Больше всех продаж у PS4, затем у XOne и X360, далее у 3ds и PS3. "
   ]
  },
  {
   "cell_type": "markdown",
   "id": "688f2a55",
   "metadata": {},
   "source": [
    "*Посмотрим, как влияют на продажи внутри одной популярной платформы отзывы пользователей и критиков. Построем диаграмму рассеяния и посчитаем корреляцию между отзывами и продажами*"
   ]
  },
  {
   "cell_type": "code",
   "execution_count": 23,
   "id": "05ddb2cc",
   "metadata": {},
   "outputs": [
    {
     "data": {
      "text/plain": [
       "-0.12790123478227197"
      ]
     },
     "execution_count": 23,
     "metadata": {},
     "output_type": "execute_result"
    }
   ],
   "source": [
    "#Корреляция между оценками пользователей и продажами \n",
    "sony_play_station4 = actual_data[actual_data['platform']=='ps4']\n",
    "sony_play_station4['user_score'].corr(sony_play_station4['total_sales'])"
   ]
  },
  {
   "cell_type": "code",
   "execution_count": 24,
   "id": "e936cc50",
   "metadata": {},
   "outputs": [
    {
     "data": {
      "image/png": "[encoded data removed]",
      "text/plain": [
       "<Figure size 864x432 with 1 Axes>"
      ]
     },
     "metadata": {},
     "output_type": "display_data"
    }
   ],
   "source": [
    "#Построим диаграмму рассеяния\n",
    "plt.figure(figsize=(12,6))\n",
    "sns.scatterplot(x='user_score', y='total_sales', data=sony_play_station4)\n",
    "plt.title('test');"
   ]
  },
  {
   "cell_type": "code",
   "execution_count": 25,
   "id": "6c7eb4d5",
   "metadata": {},
   "outputs": [
    {
     "data": {
      "text/plain": [
       "0.3720012853897933"
      ]
     },
     "execution_count": 25,
     "metadata": {},
     "output_type": "execute_result"
    }
   ],
   "source": [
    "#Корреляция между оценкой критиков и продажам\n",
    "sony_play_station4['critic_score'].corr(sony_play_station4['total_sales'])"
   ]
  },
  {
   "cell_type": "code",
   "execution_count": 26,
   "id": "d2a7aebc",
   "metadata": {},
   "outputs": [
    {
     "data": {
      "image/png": "[encoded data removed]",
      "text/plain": [
       "<Figure size 864x432 with 1 Axes>"
      ]
     },
     "metadata": {},
     "output_type": "display_data"
    }
   ],
   "source": [
    "#Построим диаграмму рассеяния по оценкам критиков \n",
    "plt.figure(figsize=(12,6))\n",
    "sns.scatterplot(x='critic_score', y='total_sales', data=sony_play_station4)\n",
    "plt.title('test');"
   ]
  },
  {
   "cell_type": "markdown",
   "id": "c4c64dcd",
   "metadata": {},
   "source": [
    "Соотнесем выводы с продажами игр на других платформах."
   ]
  },
  {
   "cell_type": "code",
   "execution_count": 27,
   "id": "21e35f02",
   "metadata": {},
   "outputs": [],
   "source": [
    "#Напишем функцию, которая будет отрисовывать графики рассеивания и считать корреляции\n",
    "def other_platform_matrix(name_of_platform):\n",
    "    platform = actual_data[actual_data['platform']==name_of_platform]\n",
    "    fig, ax = plt.subplots(1 ,2, figsize=(15,5))\n",
    "    sns.scatterplot(x='user_score', y='total_sales', data=platform, ax=ax[0])\n",
    "    sns.scatterplot(x='critic_score', y='total_sales', data=platform, ax=ax[1])\n",
    "    fig.suptitle(name_of_platform, fontsize=15)\n",
    "    ax[0].set(xlabel='Оценка пользователей')\n",
    "    ax[1].set(xlabel='Оценка критиков')\n",
    "    ax[0].set(ylabel='Количество продаж')\n",
    "    ax[1].set(ylabel='Количество продаж')\n",
    "    plt.show()\n",
    "    \n",
    "    correl = platform['user_score'].corr(platform['total_sales'])\n",
    "    critic_correl = platform['critic_score'].corr(platform['total_sales'])\n",
    "    \n",
    "    \n",
    "    if 0.3 >= critic_correl >= 0.1:\n",
    "        print('Корреляция между отзывами критиков и игровой платформой ', name_of_platform.upper(), ': Слабая', critic_correl)\n",
    "    if 0.5 >= critic_correl >= 0.3:\n",
    "        print('Корреляция между отзывами критиков и игровой платформой ', name_of_platform.upper(), ': Умеренная', critic_correl)\n",
    "    if 0.7 >= critic_correl >= 0.5:\n",
    "        print('Корреляция между отзывами критиков и игровой платформой ', name_of_platform.upper(), ': Высокая', critic_correl)\n",
    "    if 0.9 >= critic_correl >= 0.7:\n",
    "        print('Корреляция между отзывами критиков и игровой платформой ', name_of_platform.upper(), ': Весьма высокая', critic_correl)\n",
    "    if 1 >= critic_correl >= 0.9:\n",
    "        print('Корреляция между отзывами критиков и игровой платформой ', name_of_platform.upper(), ': Сильная', critic_correl)\n",
    "    \n",
    "    if 0.3 >= correl >= 0.1:\n",
    "        print('Корреляция между отзывами пользователей и продажами ', name_of_platform.upper(), ': Слабая', correl)\n",
    "    if 0.5 >= correl >= 0.3:\n",
    "        print('Корреляция между отзывами пользователей и продажами ', name_of_platform.upper(), ': Умеренная', correl)\n",
    "    if 0.7 >= correl >= 0.5:\n",
    "        print('Корреляция между отзывами пользователей и продажами ', name_of_platform.upper(), ': Высокая', correl)\n",
    "    if 0.9 >= correl >= 0.7:\n",
    "        print('Корреляция между отзывами пользователей и продажами ', name_of_platform.upper(), ': Весьма высокая', correl)\n",
    "    if 1 >= correl >= 0.9:\n",
    "        print('Корреляция между отзывами пользователей и продажами ', name_of_platform.upper(), ': Сильная', correl)\n",
    "    print('\\n')"
   ]
  },
  {
   "cell_type": "code",
   "execution_count": 28,
   "id": "32ddb281",
   "metadata": {},
   "outputs": [
    {
     "data": {
      "image/png": "[encoded data removed]",
      "text/plain": [
       "<Figure size 1080x360 with 2 Axes>"
      ]
     },
     "metadata": {},
     "output_type": "display_data"
    },
    {
     "name": "stdout",
     "output_type": "stream",
     "text": [
      "Корреляция между отзывами критиков и игровой платформой  XONE : Умеренная 0.414677521813978\n",
      "\n",
      "\n"
     ]
    },
    {
     "data": {
      "image/png": "[encoded data removed]",
      "text/plain": [
       "<Figure size 1080x360 with 2 Axes>"
      ]
     },
     "metadata": {},
     "output_type": "display_data"
    },
    {
     "name": "stdout",
     "output_type": "stream",
     "text": [
      "Корреляция между отзывами критиков и игровой платформой  3DS : Умеренная 0.33840848355747477\n",
      "Корреляция между отзывами пользователей и продажами  3DS : Умеренная 0.3733649712783034\n",
      "\n",
      "\n"
     ]
    },
    {
     "data": {
      "image/png": "[encoded data removed]",
      "text/plain": [
       "<Figure size 1080x360 with 2 Axes>"
      ]
     },
     "metadata": {},
     "output_type": "display_data"
    },
    {
     "name": "stdout",
     "output_type": "stream",
     "text": [
      "\n",
      "\n"
     ]
    },
    {
     "data": {
      "image/png": "[encoded data removed]",
      "text/plain": [
       "<Figure size 1080x360 with 2 Axes>"
      ]
     },
     "metadata": {},
     "output_type": "display_data"
    },
    {
     "name": "stdout",
     "output_type": "stream",
     "text": [
      "Корреляция между отзывами критиков и игровой платформой  PSV : Слабая 0.18480719274930904\n",
      "\n",
      "\n"
     ]
    }
   ],
   "source": [
    "list_of_top4 = ['xone','3ds','ps3','psv']\n",
    "#С помощью цикла выведем все 5 графиков\n",
    "for platform in list_of_top4:\n",
    "    other_platform_matrix(platform)"
   ]
  },
  {
   "cell_type": "markdown",
   "id": "fc93622b",
   "metadata": {},
   "source": [
    "**Итог:**\n",
    "* Видимая отрицательнная корреляция по \"ps4\" между оценками пользователей и продажами, за актуальный период (-0.13) означает, что связь, существующая между двумя переменными, прямо противоположна.\n",
    "* Корреляцию по \"ps4\" между оценками критиков (0,37) не рассматриваем для построения зависимости величин, т.к. показатель коэф. корреляции от -0,5 до +0,5.\n",
    "* Практически у всех  оставшихся актуальных платформ присутствуем корреляция, но она показывают слабую линейную зависимость."
   ]
  },
  {
   "cell_type": "markdown",
   "id": "51dd6c94",
   "metadata": {},
   "source": [
    "*Посмотрим на общее распределение игр по жанрам. Посмотрим на самые прибыльные жанры. Выделяются ли жанры с высокими и низкими продажами?*"
   ]
  },
  {
   "cell_type": "code",
   "execution_count": 29,
   "id": "6a0d69d3",
   "metadata": {},
   "outputs": [
    {
     "data": {
      "text/html": [
       "<div>\n",
       "<style scoped>\n",
       "    .dataframe tbody tr th:only-of-type {\n",
       "        vertical-align: middle;\n",
       "    }\n",
       "\n",
       "    .dataframe tbody tr th {\n",
       "        vertical-align: top;\n",
       "    }\n",
       "\n",
       "    .dataframe thead th {\n",
       "        text-align: right;\n",
       "    }\n",
       "</style>\n",
       "<table border=\"1\" class=\"dataframe\">\n",
       "  <thead>\n",
       "    <tr style=\"text-align: right;\">\n",
       "      <th></th>\n",
       "      <th>genre</th>\n",
       "      <th>total_sales</th>\n",
       "    </tr>\n",
       "  </thead>\n",
       "  <tbody>\n",
       "    <tr>\n",
       "      <th>0</th>\n",
       "      <td>action</td>\n",
       "      <td>1,735.63</td>\n",
       "    </tr>\n",
       "    <tr>\n",
       "      <th>1</th>\n",
       "      <td>sports</td>\n",
       "      <td>1,326.71</td>\n",
       "    </tr>\n",
       "    <tr>\n",
       "      <th>2</th>\n",
       "      <td>shooter</td>\n",
       "      <td>1,050.02</td>\n",
       "    </tr>\n",
       "    <tr>\n",
       "      <th>3</th>\n",
       "      <td>role-playing</td>\n",
       "      <td>931.77</td>\n",
       "    </tr>\n",
       "    <tr>\n",
       "      <th>4</th>\n",
       "      <td>platform</td>\n",
       "      <td>826.03</td>\n",
       "    </tr>\n",
       "    <tr>\n",
       "      <th>5</th>\n",
       "      <td>misc</td>\n",
       "      <td>794.41</td>\n",
       "    </tr>\n",
       "    <tr>\n",
       "      <th>6</th>\n",
       "      <td>racing</td>\n",
       "      <td>725.82</td>\n",
       "    </tr>\n",
       "    <tr>\n",
       "      <th>7</th>\n",
       "      <td>fighting</td>\n",
       "      <td>443.59</td>\n",
       "    </tr>\n",
       "    <tr>\n",
       "      <th>8</th>\n",
       "      <td>simulation</td>\n",
       "      <td>388.46</td>\n",
       "    </tr>\n",
       "    <tr>\n",
       "      <th>9</th>\n",
       "      <td>puzzle</td>\n",
       "      <td>240.54</td>\n",
       "    </tr>\n",
       "    <tr>\n",
       "      <th>10</th>\n",
       "      <td>adventure</td>\n",
       "      <td>233.35</td>\n",
       "    </tr>\n",
       "    <tr>\n",
       "      <th>11</th>\n",
       "      <td>strategy</td>\n",
       "      <td>173.25</td>\n",
       "    </tr>\n",
       "  </tbody>\n",
       "</table>\n",
       "</div>"
      ],
      "text/plain": [
       "           genre  total_sales\n",
       "0         action     1,735.63\n",
       "1         sports     1,326.71\n",
       "2        shooter     1,050.02\n",
       "3   role-playing       931.77\n",
       "4       platform       826.03\n",
       "5           misc       794.41\n",
       "6         racing       725.82\n",
       "7       fighting       443.59\n",
       "8     simulation       388.46\n",
       "9         puzzle       240.54\n",
       "10     adventure       233.35\n",
       "11      strategy       173.25"
      ]
     },
     "execution_count": 29,
     "metadata": {},
     "output_type": "execute_result"
    }
   ],
   "source": [
    "distr_genre = df.pivot_table(\n",
    "    index='genre', values='total_sales', aggfunc='sum').sort_values(by='total_sales', ascending=False)\n",
    "distr_genre = distr_genre.reset_index().rename_axis(None, axis=1)\n",
    "distr_genre"
   ]
  },
  {
   "cell_type": "code",
   "execution_count": 30,
   "id": "550ccd44",
   "metadata": {},
   "outputs": [
    {
     "data": {
      "image/png": "[encoded data removed]",
      "text/plain": [
       "<Figure size 864x432 with 1 Axes>"
      ]
     },
     "metadata": {},
     "output_type": "display_data"
    }
   ],
   "source": [
    "#Используем барплот чтобы наглядно посмотреть рейтинг жанров\n",
    "plt.figure(figsize=(12,6))\n",
    "plt.title('Распределение игр по жанрам ',fontsize=15)\n",
    "sns.barplot(data=distr_genre, x='genre', y='total_sales')\n",
    "plt.xlabel('Жанры игр',fontsize=12)\n",
    "plt.ylabel('Продажи',fontsize=12);"
   ]
  },
  {
   "cell_type": "code",
   "execution_count": 31,
   "id": "3b046be4",
   "metadata": {},
   "outputs": [
    {
     "data": {
      "text/plain": [
       "count   8,470.00\n",
       "mean        0.60\n",
       "std         1.66\n",
       "min         0.00\n",
       "25%         0.08\n",
       "50%         0.20\n",
       "75%         0.55\n",
       "max        82.54\n",
       "Name: total_sales, dtype: float64"
      ]
     },
     "execution_count": 31,
     "metadata": {},
     "output_type": "execute_result"
    }
   ],
   "source": [
    "#Сохраним в переменной list_of_top4 топ 4 жанров\n",
    "list_of_top4 = ['action','sports','shooter','role-playing']\n",
    "df_top_4_genre = df[df['genre'].isin(['action','sports','shooter','role-playing'])]\n",
    "df_top_4_genre['total_sales'].describe()"
   ]
  },
  {
   "cell_type": "code",
   "execution_count": 32,
   "id": "8cdaa18c",
   "metadata": {},
   "outputs": [
    {
     "data": {
      "image/png": "[encoded data removed]",
      "text/plain": [
       "<Figure size 864x432 with 1 Axes>"
      ]
     },
     "metadata": {},
     "output_type": "display_data"
    }
   ],
   "source": [
    "#Построим ящики с усами \n",
    "plt.figure(figsize=(12,6))\n",
    "sns.boxplot(data=df_top_4_genre, x='genre', y='total_sales')\n",
    "plt.title('Ящик с усами', fontsize=15)\n",
    "plt.xlabel('Жанры', fontsize=12)\n",
    "plt.ylabel('Глобальные продажи',fontsize=12);"
   ]
  },
  {
   "cell_type": "code",
   "execution_count": 33,
   "id": "9b05e184",
   "metadata": {},
   "outputs": [
    {
     "data": {
      "text/plain": [
       "count   7,671.00\n",
       "mean        0.29\n",
       "std         0.31\n",
       "min         0.00\n",
       "25%         0.07\n",
       "50%         0.17\n",
       "75%         0.41\n",
       "max         1.39\n",
       "Name: total_sales, dtype: float64"
      ]
     },
     "execution_count": 33,
     "metadata": {},
     "output_type": "execute_result"
    }
   ],
   "source": [
    "#Сохраним в переменной list_of_top4 топ 4 жанров без выбросов\n",
    "list_of_top4 = ['action','sports','shooter','role-playing']\n",
    "df_top_4_genre = df[df['genre'].isin(['action','sports','shooter','role-playing'])]\n",
    "df_top_4_genre = df_top_4_genre[df_top_4_genre['total_sales']<1.4]\n",
    "df_top_4_genre['total_sales'].describe()"
   ]
  },
  {
   "cell_type": "code",
   "execution_count": 34,
   "id": "2dfb86b1",
   "metadata": {},
   "outputs": [
    {
     "data": {
      "image/png": "[encoded data removed]",
      "text/plain": [
       "<Figure size 864x432 with 1 Axes>"
      ]
     },
     "metadata": {},
     "output_type": "display_data"
    }
   ],
   "source": [
    "#Построим ящики с усами \n",
    "plt.figure(figsize=(12,6))\n",
    "sns.boxplot(data=df_top_4_genre, x='genre', y='total_sales')\n",
    "plt.title('Ящик с усами', fontsize=15)\n",
    "plt.xlabel('Жанры', fontsize=12)\n",
    "plt.ylabel('Глобальные продажи',fontsize=12);"
   ]
  },
  {
   "cell_type": "markdown",
   "id": "3ba4875d",
   "metadata": {},
   "source": [
    "Итог:\n",
    "Удалив выбросы мы видим на первом месте \"Стреллялки\",затем категория \"Спорт\", далее идут \"Экшн\" и \"Ролевые игры\"."
   ]
  },
  {
   "cell_type": "markdown",
   "id": "67ae0fc1",
   "metadata": {},
   "source": [
    "**ВЫВОД:**\n",
    "\n",
    "- Количество игр на игровые приставки и компьютеры начало расти с большой скоростью с 90х годов до 2008 года. С 2008 года, после того как массово начали создавать мобильные приложения и мобильные игры, произошел резкий спад разработок игр на игровые платформы.\n",
    "\n",
    "- Самые популярные игровые платформы за весь период : Sony PlayStation 2, Xbox 360, Sony Playstation 3, Nintendo WII, Nintendo DS, Sony Playstation.\n",
    "\n",
    "- Средняя жизнь игровой платформы составляет 10 лет. Пик продаж наступает примерно через 5 лет после выхода приставки.\n",
    "\n",
    "- Вактуальном периоде лидируют PS4, XOne, 3ds, PS3, psv.\n",
    "\n",
    "- Больше всего, за актуальный период продаются игры на Sony Playstation 3 и XONE.\n",
    "\n",
    "- Не всех платформ наблюдается взаимосвязь между продажами и оценками критиков и пользователей. Заметнее всего корреляция между оценками пользователей и продажими в Sony Playstation 3 - Видимая отрицательнная корреляция (-0.13), прямо противоположна, что возможно и является условием ее отрыва в лидерстве.\n",
    "- Самые популярные жанры по убыванию - \"Shooter\", \"Sports\", \"Action\", \"Role-playiling\" .Последнеее место у \"Strategy\".\n",
    "\n"
   ]
  },
  {
   "cell_type": "markdown",
   "id": "9a1c6903",
   "metadata": {},
   "source": [
    "## Шаг 4. Составим портрет пользователя каждого региона<a class=\"anchor\" id=\"шаг-4\"></a>"
   ]
  },
  {
   "cell_type": "markdown",
   "id": "e706357a",
   "metadata": {},
   "source": [
    "- Определим для пользователя каждого региона (NA, EU, JP):\n",
    "    - Самые популярные платформы (топ-5). Опишем различия в долях продаж.\n",
    "    - Самые популярные жанры (топ-5). Поясним разницу.\n",
    "    - Влияет ли рейтинг ESRB на продажи в отдельном регионе?"
   ]
  },
  {
   "cell_type": "markdown",
   "id": "2cecd672",
   "metadata": {},
   "source": [
    "**Портрет пользователя North America**"
   ]
  },
  {
   "cell_type": "code",
   "execution_count": 35,
   "id": "56b05475",
   "metadata": {},
   "outputs": [],
   "source": [
    "#Напишем функции для создания сводных таблиц и отсривоки барплотов\n",
    "\n",
    "#Функция для создания сводбных таблиц за весь период\n",
    "def forpivot(row, title):\n",
    "    fig, axes = plt.subplots(1, 3, figsize=(20, 4))\n",
    "    for pivot, ax in zip(list(['platform','genre','rating']),axes.flatten()[:3]):\n",
    "        ppivot = df.pivot_table(index=pivot, values=row, aggfunc='sum'\n",
    "                  ).sort_values(by=row, ascending=False).reset_index().rename_axis(None, axis=1).head(5)\n",
    "        print(ppivot)\n",
    "        print('\\n\\n') \n",
    "        sns.set_palette(\"Blues\")\n",
    "        sns.barplot(data=ppivot, x=pivot, y=row, ax=ax)\n",
    "        fig.suptitle(title, fontsize=15)\n",
    "        \n",
    "\n",
    "plt.show()\n",
    "sns.set()\n",
    "\n",
    "#Функция для создания сводных таблиц за последний год\n",
    "def for_pivot_2016(row, title):\n",
    "    temp = df[df['year_of_release']>2015]\n",
    "    fig, axes = plt.subplots(1, 3, figsize=(20, 4))\n",
    "    for pivot, ax in zip(list(['platform','genre','rating']), axes.flatten()[:3]):\n",
    "        ppivot = temp.pivot_table(index=pivot, values=row, aggfunc='sum').sort_values(by=row, ascending=False).reset_index().rename_axis(None, axis=1).head(5)\n",
    "        print(ppivot)\n",
    "        print('\\n\\n')\n",
    "        sns.set_palette(\"BuGn_r\")\n",
    "        sns.barplot(data=ppivot, x=pivot, y=row, ax=ax)\n",
    "        fig.suptitle(title, fontsize=15)"
   ]
  },
  {
   "cell_type": "code",
   "execution_count": 36,
   "id": "9db535f6",
   "metadata": {
    "scrolled": true
   },
   "outputs": [
    {
     "name": "stdout",
     "output_type": "stream",
     "text": [
      "  platform  na_sales\n",
      "0     x360    599.15\n",
      "1      ps2    580.09\n",
      "2      wii    494.01\n",
      "3      ps3    391.60\n",
      "4       ds    381.38\n",
      "\n",
      "\n",
      "\n",
      "      genre  na_sales\n",
      "0    action    873.70\n",
      "1    sports    681.69\n",
      "2   shooter    590.35\n",
      "3  platform    444.44\n",
      "4      misc    401.69\n",
      "\n",
      "\n",
      "\n",
      "      rating  na_sales\n",
      "0          e  1,288.00\n",
      "1  NOT KNOWN  1,229.15\n",
      "2          t    751.26\n",
      "3          m    746.95\n",
      "4       e10+    352.56\n",
      "\n",
      "\n",
      "\n"
     ]
    },
    {
     "data": {
      "image/png": "[encoded data removed]",
      "text/plain": [
       "<Figure size 1440x288 with 3 Axes>"
      ]
     },
     "metadata": {},
     "output_type": "display_data"
    }
   ],
   "source": [
    "#Выведем топ 5 платформ, жанров и рейтингов за весь период\n",
    "forpivot('na_sales','Топ 5 платформ, жанров и рейтингов за весь период')"
   ]
  },
  {
   "cell_type": "code",
   "execution_count": 37,
   "id": "37bdcb05",
   "metadata": {},
   "outputs": [
    {
     "name": "stdout",
     "output_type": "stream",
     "text": [
      "  platform  na_sales\n",
      "0      ps4     21.49\n",
      "1     xone     14.27\n",
      "2      3ds      4.14\n",
      "3     wiiu      2.10\n",
      "4       pc      1.36\n",
      "\n",
      "\n",
      "\n",
      "          genre  na_sales\n",
      "0       shooter     16.24\n",
      "1        action      9.29\n",
      "2        sports      7.54\n",
      "3  role-playing      5.89\n",
      "4      fighting      1.84\n",
      "\n",
      "\n",
      "\n",
      "      rating  na_sales\n",
      "0          m     15.67\n",
      "1          t      8.95\n",
      "2  NOT KNOWN      8.53\n",
      "3          e      7.97\n",
      "4       e10+      3.81\n",
      "\n",
      "\n",
      "\n"
     ]
    },
    {
     "data": {
      "image/png": "[encoded data removed]",
      "text/plain": [
       "<Figure size 1440x288 with 3 Axes>"
      ]
     },
     "metadata": {},
     "output_type": "display_data"
    }
   ],
   "source": [
    "#Выведем топ 5 платформ, жанров и рейтингов за последний год\n",
    "for_pivot_2016('na_sales','Топ 5 платформ, жанров и рейтингов за последний год')"
   ]
  },
  {
   "cell_type": "markdown",
   "id": "f9906b3e",
   "metadata": {},
   "source": [
    "ВЫВОД:\n",
    "\n",
    "- Самые популярные игровые платформы в северной америке за все время это: XBOX, PS2, WII, PS3, DS,\n",
    "- Топ 5 жанров в северной америке за все время: action, sports, shooter, platform, misc,\n",
    "- По рейтингам видно, что больше всего продаж за все время у игр с рейтингом \"для всех\", на втором месте игры с рейтингом \"от 13 и выше\" и на третьем месте игры с рейтингом \"от 17 и выше\".\n",
    "\n",
    "Если посмотреть с 2015 по 2016 года, то мы видим как интерес кардинально меняется:\n",
    "\n",
    "- Топ игровых приставок выглядит таким образом : PS4, Xone, DS3,\n",
    "- Топ жанров игр: Shooter, Action, Sports,\n",
    "- Топ рейтингов игр : \"От 17 и выше\" , \"от 13 и выше\" и \"для всех\"."
   ]
  },
  {
   "cell_type": "markdown",
   "id": "17342033",
   "metadata": {},
   "source": [
    "**Портрет пользователя European Union**"
   ]
  },
  {
   "cell_type": "code",
   "execution_count": 38,
   "id": "3a589df3",
   "metadata": {},
   "outputs": [
    {
     "name": "stdout",
     "output_type": "stream",
     "text": [
      "  platform  eu_sales\n",
      "0      ps2    337.05\n",
      "1      ps3    328.97\n",
      "2     x360    269.79\n",
      "3      wii    261.48\n",
      "4       ps    212.39\n",
      "\n",
      "\n",
      "\n",
      "     genre  eu_sales\n",
      "0   action    517.58\n",
      "1   sports    375.60\n",
      "2  shooter    316.96\n",
      "3   racing    235.47\n",
      "4     misc    211.32\n",
      "\n",
      "\n",
      "\n",
      "      rating  eu_sales\n",
      "0          e    709.20\n",
      "1  NOT KNOWN    610.40\n",
      "2          m    483.17\n",
      "3          t    423.56\n",
      "4       e10+    188.34\n",
      "\n",
      "\n",
      "\n"
     ]
    },
    {
     "data": {
      "image/png": "[encoded data removed]",
      "text/plain": [
       "<Figure size 1440x288 with 3 Axes>"
      ]
     },
     "metadata": {},
     "output_type": "display_data"
    }
   ],
   "source": [
    "#Выведем топ 5 платформ, жанров и рейтингов за весь период для Европейского союза\n",
    "forpivot('eu_sales','Топ 5 платформ, жанров и рейтингов за весь период для Европейского союза')"
   ]
  },
  {
   "cell_type": "code",
   "execution_count": 39,
   "id": "a6d628fa",
   "metadata": {},
   "outputs": [
    {
     "name": "stdout",
     "output_type": "stream",
     "text": [
      "  platform  eu_sales\n",
      "0      ps4     31.78\n",
      "1     xone      9.63\n",
      "2       pc      3.53\n",
      "3      3ds      2.33\n",
      "4     wiiu      1.48\n",
      "\n",
      "\n",
      "\n",
      "          genre  eu_sales\n",
      "0       shooter     15.90\n",
      "1        sports     12.01\n",
      "2        action     10.68\n",
      "3  role-playing      4.28\n",
      "4        racing      1.77\n",
      "\n",
      "\n",
      "\n",
      "      rating  eu_sales\n",
      "0          m     16.54\n",
      "1          e     13.61\n",
      "2          t      9.79\n",
      "3  NOT KNOWN      7.47\n",
      "4       e10+      3.81\n",
      "\n",
      "\n",
      "\n"
     ]
    },
    {
     "data": {
      "image/png": "[encoded data removed]",
      "text/plain": [
       "<Figure size 1440x288 with 3 Axes>"
      ]
     },
     "metadata": {},
     "output_type": "display_data"
    }
   ],
   "source": [
    "#Выведем топ 5 платформ, жанров и рейтингов за последний год для европейского союза\n",
    "for_pivot_2016('eu_sales','Топ 5 платформ, жанров и рейтингов за последний год для европейского союза')"
   ]
  },
  {
   "cell_type": "markdown",
   "id": "07ebed74",
   "metadata": {},
   "source": [
    "\n",
    "ИТОГ:\n",
    "\n",
    "- Самые популярные игровые платформы в Европе это: PS2, PS3, X360, WII, PS,\n",
    "- Топ 5 жанров в Европе : action, sports, shooter, racing, misc,\n",
    "- По рейтингам видно, что больше всего продаж у игр с рейтингом \"для всех\".\n",
    "\n",
    "За последний год интерес у пользователя кардинально изменился:\n",
    "\n",
    "- Топ жанров стал: shooter, sports, action,\n",
    "- Топ платформ: PS4, Xone, PC,\n",
    "- Топ рейтингов: \"От 17 и выше\" , \"Для всех\" и \"от 13 и выше\"."
   ]
  },
  {
   "cell_type": "markdown",
   "id": "77b8c59f",
   "metadata": {},
   "source": [
    "**Портрет пользователя Japanese**"
   ]
  },
  {
   "cell_type": "code",
   "execution_count": 40,
   "id": "57f0b73c",
   "metadata": {},
   "outputs": [
    {
     "name": "stdout",
     "output_type": "stream",
     "text": [
      "  platform  jp_sales\n",
      "0       ds    175.02\n",
      "1       ps    139.78\n",
      "2      ps2    137.74\n",
      "3     snes    116.55\n",
      "4      3ds    100.64\n",
      "\n",
      "\n",
      "\n",
      "          genre  jp_sales\n",
      "0  role-playing    353.88\n",
      "1        action    160.15\n",
      "2        sports    135.27\n",
      "3      platform    130.71\n",
      "4          misc    108.04\n",
      "\n",
      "\n",
      "\n",
      "      rating  jp_sales\n",
      "0  NOT KNOWN    838.39\n",
      "1          e    198.02\n",
      "2          t    150.88\n",
      "3          m     63.61\n",
      "4       e10+     40.20\n",
      "\n",
      "\n",
      "\n"
     ]
    },
    {
     "data": {
      "image/png": "[encoded data removed]",
      "text/plain": [
       "<Figure size 1440x288 with 3 Axes>"
      ]
     },
     "metadata": {},
     "output_type": "display_data"
    }
   ],
   "source": [
    "#Выведем топ 5 платформ, жанров и рейтингов за весь период для Японии\n",
    "forpivot('jp_sales','Топ 5 платформ, жанров и рейтингов за весь период для Японии')"
   ]
  },
  {
   "cell_type": "code",
   "execution_count": 41,
   "id": "c2b8a000",
   "metadata": {},
   "outputs": [
    {
     "name": "stdout",
     "output_type": "stream",
     "text": [
      "  platform  jp_sales\n",
      "0      3ds      8.03\n",
      "1      ps4      5.74\n",
      "2      psv      3.56\n",
      "3      ps3      1.30\n",
      "4     wiiu      0.67\n",
      "\n",
      "\n",
      "\n",
      "          genre  jp_sales\n",
      "0        action      7.07\n",
      "1  role-playing      6.61\n",
      "2     adventure      1.18\n",
      "3       shooter      1.06\n",
      "4          misc      1.04\n",
      "\n",
      "\n",
      "\n",
      "      rating  jp_sales\n",
      "0  NOT KNOWN     14.32\n",
      "1          t      2.27\n",
      "2          m      1.20\n",
      "3          e      1.07\n",
      "4       e10+      0.45\n",
      "\n",
      "\n",
      "\n"
     ]
    },
    {
     "data": {
      "image/png": "[encoded data removed]",
      "text/plain": [
       "<Figure size 1440x288 with 3 Axes>"
      ]
     },
     "metadata": {},
     "output_type": "display_data"
    }
   ],
   "source": [
    "#Выведем топ 5 платформ, жанров и рейтингов за последний год для японии\n",
    "for_pivot_2016('jp_sales','Топ 5 платформ, жанров и рейтингов за последний год для японии')"
   ]
  },
  {
   "cell_type": "markdown",
   "id": "019fe093",
   "metadata": {},
   "source": [
    "Итог:\n",
    "\n",
    "- Самые популярные игровые платформы в Японии это: DS, PS, PS2, SNES, 3DS,\n",
    "- Топ 5 жанров в Японии : Role-Playing, action, sports, platform, misc,\n",
    "- По рейтингам видно, что больше всего продаж у игр с рейтингом \"для всех\", на втором месте игры с рейтингом \"от 13 и выше\" и на третьем месте игры с рейтингом \"от 17 и выше\"/\n",
    "\n",
    "За последний год интерес у пользователя кардинально изменился:\n",
    "\n",
    "- Топ Жанров: action, role-playing,\n",
    "- Топ платформ: 3ds, ps4, psv,\n",
    "- Топ рейтингов: страна не аппелирующая к рейтингу, из видимых  \"от 13 и выше\", \"от 17 и выше\" и \"для всех."
   ]
  },
  {
   "cell_type": "markdown",
   "id": "16b185fb",
   "metadata": {},
   "source": [
    "**Вывод по составлению портрета пользователя каждого региона** \n",
    "\n",
    "* Самые популярные игровые платформы в северной америке это: XBOX, PS2, WII, PS3, DS Топ 5 жанров в северной америке : action, sports, shooter, platform, misc По рейтингам видно, что больше всего продаж у игр с рейтингом \"для всех\", на втором месте игры с рейтингом \"от 13 и выше\" и на третьем месте игры с рейтингом \"от 17 и выше\"\n",
    "\n",
    "* Самые популярные игровые платформы в Европе это: PS2, PS3, XBOX, WII, PS Топ 5 жанров в Европе : action, sports, shooter, racing, misc По рейтингам видно, что больше всего продаж у игр с рейтингом \"для всех\", на втором месте игры с рейтингом \"от 17 и выше\" и на третьем месте игры с рейтингом \"от 13 и выше\"\n",
    "\n",
    "* Самые популярные игровые платформы в Японии это: DS, PS, PS2, SNES, 3DS Топ 5 жанров в Японии : Role-Playing, action, sports, platform, misc По рейтингам видно, что больше всего продаж у игр с рейтингом \"для всех\", на втором месте игры с рейтингом \"от 13 и выше\" и на третьем месте игры с рейтингом \"от 17 и выше\"\n",
    "\n",
    "Если брать данные за последний год:\n",
    "\n",
    "**Северная Америка:**\n",
    "топ игровых платформ выглядит так: PS4, Xone, DS3\n",
    "Топ Жанров игр: Shooter, Action, Sports\n",
    "Топ Рейтингов игр: \"От 17 и выше\" , \"от 13 и выше\" и \"для всех\"\n",
    "\n",
    "\n",
    "**Европейский союз:**\n",
    "Топ игровых платформ : PS4, Xone, PC\n",
    "Топ жанров: Shooter, Sports, Action\n",
    "Топ рейтингов: \"От 17 и выше\", \"для всех\", \"от 13 и выше\"\n",
    "\n",
    "\n",
    "**Япония:**\n",
    "Топ игровых платформ : 3DS, PS4, PSV\n",
    "Топ жанров: Action, Role-playing, Adventure\n",
    "Топ рейтингов: \"От 13 и выше\", \"от 17 и выше\", \"для всех\"\n",
    "\n",
    "**Итог анализа**: для прогноза будущих продаж лучше брать данные за последний год, так как технологии меняются с оч быстрыми темпами, и вкусы людей также могут меняться оч быстро. Соответственно, для 2017 года большую часть прибыли будут приносить игры жанра Shooter, для платформы PS4 и с рейтингом от 17 и выше"
   ]
  },
  {
   "cell_type": "markdown",
   "id": "0f1bffb7",
   "metadata": {},
   "source": [
    "## Шаг 5. Проверим гипотезы"
   ]
  },
  {
   "cell_type": "markdown",
   "id": "7e9c93a3",
   "metadata": {},
   "source": [
    "**Средние пользовательские рейтинги платформ Xbox One и PC одинаковые**"
   ]
  },
  {
   "cell_type": "markdown",
   "id": "534eca95",
   "metadata": {},
   "source": [
    "*Используем метод stats.ttest_ind. В качестве первого аргумента мы предоставляем выборку данных и в качестве второго - выборку для сопоставления,выбрав False, который не предполагает равной дисперсии (что видно в 3 шаге проекта).*"
   ]
  },
  {
   "cell_type": "markdown",
   "id": "a70620da",
   "metadata": {},
   "source": [
    "Сформулируем H₀ и H₁:\n",
    "\n",
    "**Нулевая гипотеза H₀**: Средние пользовательские рейтинги платформ Xbox One и PC одинаковые;\n",
    "\n",
    "**Альтернативная гипотеза H₁**: Средние пользовательские рейтинги платформ Xbox One и PC различаются"
   ]
  },
  {
   "cell_type": "code",
   "execution_count": 42,
   "id": "d2594158",
   "metadata": {},
   "outputs": [
    {
     "data": {
      "text/plain": [
       "6.594545454545454"
      ]
     },
     "execution_count": 42,
     "metadata": {},
     "output_type": "execute_result"
    }
   ],
   "source": [
    "# Сохраним в переменных xbox_hyp и pc_hyp соответствующие данные (актуальные данные за последние 10 лет)\n",
    "xone_hyp = df[(df['platform']=='xone') & (df['year_of_release']>2013)]['user_score']\n",
    "pc_hyp = df[(df['platform']=='pc') & (df['year_of_release']>2013)]['user_score']\n",
    "\n",
    "#Посчитаем средний рейтинг пользователя для xbox платформ\n",
    "xone_hyp.mean()"
   ]
  },
  {
   "cell_type": "code",
   "execution_count": 43,
   "id": "92e72eb3",
   "metadata": {},
   "outputs": [
    {
     "data": {
      "text/plain": [
       "6.316260162601626"
      ]
     },
     "execution_count": 43,
     "metadata": {},
     "output_type": "execute_result"
    }
   ],
   "source": [
    "#Посчитаем средний рейтинг пользователя для PC платформ\n",
    "pc_hyp.mean()"
   ]
  },
  {
   "cell_type": "code",
   "execution_count": 44,
   "id": "376c58dc",
   "metadata": {},
   "outputs": [
    {
     "name": "stdout",
     "output_type": "stream",
     "text": [
      "p-значение: 0.139237120435483\n",
      "Не получилось отвергнуть нулевую гипотезу\n"
     ]
    }
   ],
   "source": [
    "#Проверим гипотезы, используя метод stats.ttest_ind. \n",
    "\n",
    "alpha = .01\n",
    "\n",
    "results = st.ttest_ind(xone_hyp.dropna(), pc_hyp.dropna(), equal_var=False)\n",
    "\n",
    "print('p-значение:', results.pvalue)\n",
    "\n",
    "\n",
    "if (results.pvalue < alpha):\n",
    "    print(\"Отвергаем нулевую гипотезу\")\n",
    "else:\n",
    "    print(\"Не получилось отвергнуть нулевую гипотезу\")"
   ]
  },
  {
   "cell_type": "markdown",
   "id": "ed03aa05",
   "metadata": {},
   "source": [
    "Полученное p-значение для взвешивания силы доказательств, чтобы увидеть, является ли оно статистически значимым имеет значение 0.139. Наблюдаемое р-значение выше, чем альфа, говорит о том, что результат является статистически не значимым,чтобы отвергнуть ннулевую гипотезу.\n"
   ]
  },
  {
   "cell_type": "markdown",
   "id": "e4625f2b",
   "metadata": {},
   "source": [
    "**Вывод: Нулевая гипотеза подтверждена - средние пользовательские рейтинги платформ Xbox One и PC одинаковые.** Полученное значение p-value говорит о том, что хотя средняя оценка пользователей на разных платформах и неодинакова, с вероятностью в почти 13,9% такое или большее различие можно получить случайно. Это явно слишком большая вероятность, чтобы делать вывод о значимом различии между оценками."
   ]
  },
  {
   "cell_type": "code",
   "execution_count": 45,
   "id": "944736c3",
   "metadata": {},
   "outputs": [
    {
     "name": "stdout",
     "output_type": "stream",
     "text": [
      "p-значение: 0.1912450522572209\n",
      "Не получилось отвергнуть нулевую гипотезу\n"
     ]
    }
   ],
   "source": [
    "# Приведены два датасета: сумма покупок, совершённых за месяц посетителями ...\n",
    "\n",
    "sample_1 = [3071, 3636, 3454, 3151, 2185, 3259, 1727, 2263, 2015,\n",
    "2582, 4815, 633, 3186, 887, 2028, 3589, 2564, 1422, 1785,\n",
    "3180, 1770, 2716, 2546, 1848, 4644, 3134, 475, 2686,\n",
    "1838, 3352]\n",
    "sample_2 = [1211, 1228, 2157, 3699, 600, 1898, 1688, 1420, 5048, 3007,\n",
    "509, 3777, 5583, 3949, 121, 1674, 4300, 1338, 3066,\n",
    "3562, 1010, 2311, 462, 863, 2021, 528, 1849, 255,\n",
    "1740, 2596]\n",
    "alpha = .05 # критический уровень статистической значимости\n",
    "# если p-value окажется меньше него - отвергнем гипотезу\n",
    "results = st.ttest_ind(\n",
    "sample_1,\n",
    "sample_2)\n",
    "print('p-значение:', results.pvalue)\n",
    "if (results.pvalue < alpha):\n",
    "    print(\"Отвергаем нулевую гипотезу\")\n",
    "else:\n",
    "\n",
    "    print(\"Не получилось отвергнуть нулевую гипотезу\")"
   ]
  },
  {
   "cell_type": "markdown",
   "id": "a9fa6326",
   "metadata": {},
   "source": [
    "**Средние пользовательские рейтинги жанров Action (англ. «действие», экшен-игры) и Sports (англ. «спортивные соревнования») разные**"
   ]
  },
  {
   "cell_type": "markdown",
   "id": "e5ce48d4",
   "metadata": {},
   "source": [
    "*Так же используем метод stats.ttest_ind. В качестве первого аргумента мы предоставляем выборку данных и в качестве второго - выборку для сопоставления,выбрав False.*"
   ]
  },
  {
   "cell_type": "markdown",
   "id": "3b0a3a1d",
   "metadata": {},
   "source": [
    "**Сформулируем H₀ и H₁:**\n",
    "\n",
    "**Нулевая гипотеза H₀:** Средние пользовательские рейтинги жанров Action и Sports одинаковые.\n",
    "\n",
    "**Альтернативная гипотеза H₁:** Средние пользовательские рейтинги жанров Action и Sports различаются."
   ]
  },
  {
   "cell_type": "code",
   "execution_count": 46,
   "id": "1978a618",
   "metadata": {},
   "outputs": [
    {
     "data": {
      "text/plain": [
       "6.766442953020134"
      ]
     },
     "execution_count": 46,
     "metadata": {},
     "output_type": "execute_result"
    }
   ],
   "source": [
    "# Сохраним в переменных genre_action_hyp и genre_sports_hyp соответствующие данные с пользовательскими оценками\n",
    "genre_action_hyp = df[(df['genre']=='action') & (df['year_of_release']>2013)]['user_score']\n",
    "genre_sports_hyp = df[(df['genre']=='sports') & (df['year_of_release']>2013)]['user_score']\n",
    "\n",
    "#выведем среднюю оценку по жанру экшн\n",
    "genre_action_hyp.mean()"
   ]
  },
  {
   "cell_type": "code",
   "execution_count": 47,
   "id": "429a75ca",
   "metadata": {},
   "outputs": [
    {
     "data": {
      "text/plain": [
       "5.225196850393701"
      ]
     },
     "execution_count": 47,
     "metadata": {},
     "output_type": "execute_result"
    }
   ],
   "source": [
    "#выведем среднюю оценку по жанру спорт\n",
    "genre_sports_hyp.mean()"
   ]
  },
  {
   "cell_type": "code",
   "execution_count": 48,
   "id": "1e7fb091",
   "metadata": {
    "scrolled": true
   },
   "outputs": [
    {
     "name": "stdout",
     "output_type": "stream",
     "text": [
      "p-значение: 9.658176026869598e-15\n",
      "Отвергаем нулевую гипотезу\n"
     ]
    }
   ],
   "source": [
    "#Выполним проверку гипотезы. Будем использовать метод ttest_ind\n",
    "\n",
    "alpha = .01\n",
    "\n",
    "results = st.ttest_ind(genre_action_hyp.dropna(), genre_sports_hyp.dropna(), equal_var=False)\n",
    "\n",
    "print('p-значение:', results.pvalue)\n",
    "\n",
    "\n",
    "if (results.pvalue < alpha):\n",
    "    print(\"Отвергаем нулевую гипотезу\")\n",
    "else:\n",
    "    print(\"Не получилось отвергнуть нулевую гипотезу\")"
   ]
  },
  {
   "cell_type": "markdown",
   "id": "df8e1055",
   "metadata": {},
   "source": [
    "**Вывод: Нулевая гипотеза не подтверждена. Таким образом средние рейнтинги по двум жанрам различаюются.**"
   ]
  },
  {
   "cell_type": "markdown",
   "id": "15528371",
   "metadata": {},
   "source": [
    "**ВЫВОД по проверке гипотез:**\n",
    "\n",
    "- Гипотеза: \"Средние пользовательские рейтинги платформ Xbox one и PC одинаковые\" - гипотеза подверждена.\n",
    "- Гипотеза: \"Средние пользовательские рейтинги жанров Action и Sports разные\"- гипотеза не подтвердилась."
   ]
  },
  {
   "cell_type": "markdown",
   "id": "13cd1e5c",
   "metadata": {},
   "source": [
    "**ОБЩИЙ ВЫВОД**\n",
    "\n",
    "Проведя анализ,определяющий успешность игр и ее закономерности для определения потенциально популярного продукта для дальнейшего планирования рекламных кампаний мы выявили:\n",
    "\n",
    "* Количество игр на игровые приставки и компьютеры начало расти с большой скоростью с 90х до 2008 года. С 2008 года после того как массово начали создавать мобильные приложения и мобильные игры, произошел резкий спад разработок консольных игр.\n",
    "\n",
    "* За весь период консольных приставок самые популярные оказались: PS4, X360, PS3, WII, DS, PS\n",
    "Выявили что рост игры а затем ее спад в принципе является закономерностью (средняя продолжительность жизни игровой приставки составляет порядка 10 летБ где половивину из нних наблюдается рост игровой консоли,затем ее спад).\n",
    "\n",
    "* Проведя анализ оценок пользователей и критиков мы выявили, что оценки пользователей более взаимосвязаны с продажами самих игр. Так же определили, что самый популярный жанр за все время это стреллялки. На последнем месте стратегии.\n",
    "\n",
    "* Далее,составив портреты пользователей каждого региона выяснили, что в Северной америке самые популярные жанры это action, sports, shooter. Игровые приставки : XBOX, PS2 и WII. А по рейтингу игр люди предпочитают игры с рейтингами: \"для всех\", \"от 13 и выше\" , за последний год сместился  в категорию \"от 17 и выше\".\n",
    "* В Европе же, популярные жанры точно такие же как и в Северной Америке. Но приставки по предпочитают по следующей очередности: PS2, PS3, XBOX. Рейтинг игр с13 так же перешел в категорию от 17 и выше.\n",
    "* В Японии люди предпочитают игровые приставки: DS, PS, PS2. А жанры игры : Role-playing, action и sports. Рейтинг игр здесь представлен лидерством \"не определен\" , за тем идет  от \"13 и выше\" и  от \"17 и выше\" и \"для всех\".\n",
    "\n",
    "Рейтинг ESRB, котрый в основном используется в США, Канаде и Мексике изначально определяюще влиял на портрет пользователя Северной Америки, с развитием игровой индустрии он определляющую роль стал играть в Европе, в сравнении с Японией его позиции нимного ниже.\n",
    "\n",
    "**Исходя из поставленной цели проекта можно презентовать следующее:** \n",
    "\n",
    "* **лучше всего продавать игры для таких приставок как Sony Playstation 4.**(Возможно посылы наших исследований отчасти вдохновили Японию анонсировать выход уже Sony Playstation 5).\n",
    "\n",
    "* **Выбор жанра - Shooter.** \n",
    "\n",
    "* **Выбирать игры с рейтингом \"от 17 и выше\".**\n"
   ]
  }
 ],
 "metadata": {
  "ExecuteTimeLog": [
   {
    "duration": 235,
    "start_time": "2022-04-22T20:10:21.256Z"
   },
   {
    "duration": 55,
    "start_time": "2022-04-22T20:11:47.456Z"
   },
   {
    "duration": 8,
    "start_time": "2022-04-22T20:12:11.877Z"
   },
   {
    "duration": 1797,
    "start_time": "2022-04-22T20:12:19.082Z"
   },
   {
    "duration": 108,
    "start_time": "2022-04-22T20:12:20.884Z"
   },
   {
    "duration": 7,
    "start_time": "2022-04-22T20:12:20.994Z"
   },
   {
    "duration": 72,
    "start_time": "2022-04-22T20:12:21.004Z"
   },
   {
    "duration": 12,
    "start_time": "2022-04-22T20:12:21.079Z"
   },
   {
    "duration": 521,
    "start_time": "2022-04-22T20:12:21.093Z"
   },
   {
    "duration": 70,
    "start_time": "2022-04-22T20:12:21.616Z"
   },
   {
    "duration": 57,
    "start_time": "2022-04-22T20:12:21.688Z"
   },
   {
    "duration": 26,
    "start_time": "2022-04-22T20:12:21.747Z"
   },
   {
    "duration": 281,
    "start_time": "2022-04-22T20:12:21.777Z"
   },
   {
    "duration": 425,
    "start_time": "2022-04-22T20:12:22.063Z"
   },
   {
    "duration": 4,
    "start_time": "2022-04-22T20:12:22.490Z"
   },
   {
    "duration": 49,
    "start_time": "2022-04-22T20:12:22.496Z"
   },
   {
    "duration": 384,
    "start_time": "2022-04-22T20:12:22.547Z"
   },
   {
    "duration": 11,
    "start_time": "2022-04-22T20:12:22.933Z"
   },
   {
    "duration": 48,
    "start_time": "2022-04-22T20:12:22.946Z"
   },
   {
    "duration": 259,
    "start_time": "2022-04-22T20:12:22.996Z"
   },
   {
    "duration": 11,
    "start_time": "2022-04-22T20:12:23.258Z"
   },
   {
    "duration": 234,
    "start_time": "2022-04-22T20:12:23.271Z"
   },
   {
    "duration": 6,
    "start_time": "2022-04-22T20:12:23.506Z"
   },
   {
    "duration": 24,
    "start_time": "2022-04-22T20:12:23.515Z"
   },
   {
    "duration": 1992,
    "start_time": "2022-04-22T20:12:23.543Z"
   },
   {
    "duration": 101,
    "start_time": "2022-04-22T20:12:25.539Z"
   },
   {
    "duration": 32,
    "start_time": "2022-04-22T20:12:25.648Z"
   },
   {
    "duration": 275,
    "start_time": "2022-04-22T20:12:25.685Z"
   },
   {
    "duration": 11,
    "start_time": "2022-04-22T20:12:25.962Z"
   },
   {
    "duration": 537,
    "start_time": "2022-04-22T20:12:25.975Z"
   },
   {
    "duration": 528,
    "start_time": "2022-04-22T20:12:26.515Z"
   },
   {
    "duration": 557,
    "start_time": "2022-04-22T20:12:27.045Z"
   },
   {
    "duration": 648,
    "start_time": "2022-04-22T20:12:27.604Z"
   },
   {
    "duration": 546,
    "start_time": "2022-04-22T20:12:28.254Z"
   },
   {
    "duration": 517,
    "start_time": "2022-04-22T20:12:28.803Z"
   },
   {
    "duration": 24,
    "start_time": "2022-04-22T20:12:29.322Z"
   },
   {
    "duration": 37,
    "start_time": "2022-04-22T20:12:29.348Z"
   },
   {
    "duration": 9,
    "start_time": "2022-04-22T20:12:29.388Z"
   },
   {
    "duration": 20,
    "start_time": "2022-04-22T20:12:29.399Z"
   },
   {
    "duration": 6,
    "start_time": "2022-04-22T20:12:29.420Z"
   },
   {
    "duration": 25,
    "start_time": "2022-04-22T20:12:29.428Z"
   },
   {
    "duration": 254,
    "start_time": "2022-04-22T20:20:27.051Z"
   },
   {
    "duration": 434,
    "start_time": "2022-04-22T20:35:03.424Z"
   },
   {
    "duration": 261,
    "start_time": "2022-04-22T20:36:58.054Z"
   },
   {
    "duration": 193,
    "start_time": "2022-04-22T20:41:37.407Z"
   },
   {
    "duration": 164,
    "start_time": "2022-04-22T20:43:54.387Z"
   },
   {
    "duration": 171,
    "start_time": "2022-04-22T20:45:36.599Z"
   },
   {
    "duration": 6,
    "start_time": "2022-04-22T20:45:57.255Z"
   },
   {
    "duration": 7,
    "start_time": "2022-04-22T20:46:07.304Z"
   },
   {
    "duration": 1347,
    "start_time": "2022-04-22T21:01:36.983Z"
   },
   {
    "duration": 84,
    "start_time": "2022-04-22T21:01:38.333Z"
   },
   {
    "duration": 15,
    "start_time": "2022-04-22T21:01:38.420Z"
   },
   {
    "duration": 33,
    "start_time": "2022-04-22T21:01:38.438Z"
   },
   {
    "duration": 4,
    "start_time": "2022-04-22T21:01:38.473Z"
   },
   {
    "duration": 442,
    "start_time": "2022-04-22T21:01:38.479Z"
   },
   {
    "duration": 52,
    "start_time": "2022-04-22T21:01:38.923Z"
   },
   {
    "duration": 29,
    "start_time": "2022-04-22T21:01:38.976Z"
   },
   {
    "duration": 45,
    "start_time": "2022-04-22T21:01:39.007Z"
   },
   {
    "duration": 243,
    "start_time": "2022-04-22T21:01:39.055Z"
   },
   {
    "duration": 394,
    "start_time": "2022-04-22T21:01:39.300Z"
   },
   {
    "duration": 4,
    "start_time": "2022-04-22T21:01:39.696Z"
   },
   {
    "duration": 38,
    "start_time": "2022-04-22T21:01:39.702Z"
   },
   {
    "duration": 354,
    "start_time": "2022-04-22T21:01:39.742Z"
   },
   {
    "duration": 10,
    "start_time": "2022-04-22T21:01:40.097Z"
   },
   {
    "duration": 25,
    "start_time": "2022-04-22T21:01:40.109Z"
   },
   {
    "duration": 227,
    "start_time": "2022-04-22T21:01:40.138Z"
   },
   {
    "duration": 9,
    "start_time": "2022-04-22T21:01:40.367Z"
   },
   {
    "duration": 199,
    "start_time": "2022-04-22T21:01:40.377Z"
   },
   {
    "duration": 6,
    "start_time": "2022-04-22T21:01:40.578Z"
   },
   {
    "duration": 15,
    "start_time": "2022-04-22T21:01:40.586Z"
   },
   {
    "duration": 1596,
    "start_time": "2022-04-22T21:01:40.603Z"
   },
   {
    "duration": 102,
    "start_time": "2022-04-22T21:01:42.201Z"
   },
   {
    "duration": 40,
    "start_time": "2022-04-22T21:01:42.306Z"
   },
   {
    "duration": 242,
    "start_time": "2022-04-22T21:01:42.350Z"
   },
   {
    "duration": 9,
    "start_time": "2022-04-22T21:01:42.594Z"
   },
   {
    "duration": 466,
    "start_time": "2022-04-22T21:01:42.605Z"
   },
   {
    "duration": 459,
    "start_time": "2022-04-22T21:01:43.074Z"
   },
   {
    "duration": 482,
    "start_time": "2022-04-22T21:01:43.535Z"
   },
   {
    "duration": 596,
    "start_time": "2022-04-22T21:01:44.018Z"
   },
   {
    "duration": 492,
    "start_time": "2022-04-22T21:01:44.615Z"
   },
   {
    "duration": 468,
    "start_time": "2022-04-22T21:01:45.109Z"
   },
   {
    "duration": 13,
    "start_time": "2022-04-22T21:01:45.578Z"
   },
   {
    "duration": 8,
    "start_time": "2022-04-22T21:01:45.593Z"
   },
   {
    "duration": 9,
    "start_time": "2022-04-22T21:01:45.603Z"
   },
   {
    "duration": 25,
    "start_time": "2022-04-22T21:01:45.638Z"
   },
   {
    "duration": 5,
    "start_time": "2022-04-22T21:01:45.665Z"
   },
   {
    "duration": 12,
    "start_time": "2022-04-22T21:01:45.672Z"
   },
   {
    "duration": 1805,
    "start_time": "2022-05-07T09:55:57.538Z"
   },
   {
    "duration": 68,
    "start_time": "2022-05-07T09:55:59.345Z"
   },
   {
    "duration": 5,
    "start_time": "2022-05-07T09:57:43.353Z"
   },
   {
    "duration": 36,
    "start_time": "2022-05-07T09:57:44.964Z"
   },
   {
    "duration": 25,
    "start_time": "2022-05-07T10:00:05.850Z"
   },
   {
    "duration": 22,
    "start_time": "2022-05-07T10:02:43.516Z"
   },
   {
    "duration": 4,
    "start_time": "2022-05-07T10:08:49.733Z"
   },
   {
    "duration": 18,
    "start_time": "2022-05-07T10:09:39.819Z"
   },
   {
    "duration": 4,
    "start_time": "2022-05-07T10:09:49.514Z"
   },
   {
    "duration": 1264,
    "start_time": "2022-05-07T10:10:16.041Z"
   },
   {
    "duration": 63,
    "start_time": "2022-05-07T10:10:17.307Z"
   },
   {
    "duration": 5,
    "start_time": "2022-05-07T10:10:22.415Z"
   },
   {
    "duration": 25,
    "start_time": "2022-05-07T10:10:23.907Z"
   },
   {
    "duration": 24,
    "start_time": "2022-05-07T10:10:27.094Z"
   },
   {
    "duration": 21,
    "start_time": "2022-05-07T10:10:30.802Z"
   },
   {
    "duration": 5,
    "start_time": "2022-05-07T10:10:32.530Z"
   },
   {
    "duration": 321,
    "start_time": "2022-05-07T10:10:42.213Z"
   },
   {
    "duration": 32,
    "start_time": "2022-05-07T10:10:44.641Z"
   },
   {
    "duration": 25,
    "start_time": "2022-05-07T10:10:56.002Z"
   },
   {
    "duration": 13,
    "start_time": "2022-05-07T10:11:12.451Z"
   },
   {
    "duration": 259,
    "start_time": "2022-05-07T11:35:22.979Z"
   },
   {
    "duration": 18,
    "start_time": "2022-05-07T12:38:59.746Z"
   },
   {
    "duration": 25,
    "start_time": "2022-05-07T12:39:29.737Z"
   },
   {
    "duration": 5,
    "start_time": "2022-05-07T12:40:37.521Z"
   },
   {
    "duration": 5,
    "start_time": "2022-05-07T12:40:54.195Z"
   },
   {
    "duration": 96,
    "start_time": "2022-05-07T12:58:18.523Z"
   },
   {
    "duration": 12,
    "start_time": "2022-05-07T13:14:44.192Z"
   },
   {
    "duration": 9,
    "start_time": "2022-05-07T13:18:29.243Z"
   },
   {
    "duration": 3,
    "start_time": "2022-05-07T13:45:57.195Z"
   },
   {
    "duration": 5,
    "start_time": "2022-05-07T13:46:28.883Z"
   },
   {
    "duration": 190,
    "start_time": "2022-05-07T13:47:27.792Z"
   },
   {
    "duration": 5,
    "start_time": "2022-05-07T13:49:22.991Z"
   },
   {
    "duration": 25,
    "start_time": "2022-05-07T13:49:49.772Z"
   },
   {
    "duration": 23,
    "start_time": "2022-05-07T13:51:19.140Z"
   },
   {
    "duration": 24,
    "start_time": "2022-05-07T13:52:14.723Z"
   },
   {
    "duration": 23,
    "start_time": "2022-05-07T13:53:25.233Z"
   },
   {
    "duration": 24,
    "start_time": "2022-05-07T14:07:10.407Z"
   },
   {
    "duration": 26,
    "start_time": "2022-05-07T14:09:05.810Z"
   },
   {
    "duration": 24,
    "start_time": "2022-05-07T14:09:43.662Z"
   },
   {
    "duration": 24,
    "start_time": "2022-05-07T14:10:41.290Z"
   },
   {
    "duration": 23,
    "start_time": "2022-05-07T14:11:33.988Z"
   },
   {
    "duration": 56,
    "start_time": "2022-05-07T14:41:11.968Z"
   },
   {
    "duration": 13,
    "start_time": "2022-05-07T14:42:16.506Z"
   },
   {
    "duration": 7,
    "start_time": "2022-05-07T14:43:50.506Z"
   },
   {
    "duration": 14,
    "start_time": "2022-05-07T14:44:24.930Z"
   },
   {
    "duration": 199,
    "start_time": "2022-05-07T14:47:12.751Z"
   },
   {
    "duration": 22,
    "start_time": "2022-05-07T14:47:32.419Z"
   },
   {
    "duration": 5,
    "start_time": "2022-05-07T14:50:58.012Z"
   },
   {
    "duration": 22,
    "start_time": "2022-05-07T14:51:50.449Z"
   },
   {
    "duration": 16,
    "start_time": "2022-05-07T14:52:29.936Z"
   },
   {
    "duration": 17,
    "start_time": "2022-05-07T14:52:57.635Z"
   },
   {
    "duration": 23,
    "start_time": "2022-05-07T14:52:59.101Z"
   },
   {
    "duration": 17,
    "start_time": "2022-05-07T14:53:36.322Z"
   },
   {
    "duration": 25,
    "start_time": "2022-05-07T14:55:27.322Z"
   },
   {
    "duration": 10,
    "start_time": "2022-05-07T14:57:09.360Z"
   },
   {
    "duration": 28,
    "start_time": "2022-05-07T14:57:25.178Z"
   },
   {
    "duration": 11,
    "start_time": "2022-05-07T14:57:48.486Z"
   },
   {
    "duration": 1569,
    "start_time": "2022-05-07T14:58:58.609Z"
   },
   {
    "duration": 351,
    "start_time": "2022-05-07T15:02:23.318Z"
   },
   {
    "duration": 296,
    "start_time": "2022-05-07T15:03:42.300Z"
   },
   {
    "duration": 3,
    "start_time": "2022-05-07T15:04:41.916Z"
   },
   {
    "duration": 215,
    "start_time": "2022-05-07T15:05:49.246Z"
   },
   {
    "duration": 217,
    "start_time": "2022-05-07T15:06:10.034Z"
   },
   {
    "duration": 18,
    "start_time": "2022-05-07T15:08:00.055Z"
   },
   {
    "duration": 217,
    "start_time": "2022-05-07T15:08:17.438Z"
   },
   {
    "duration": 25,
    "start_time": "2022-05-07T15:10:43.332Z"
   },
   {
    "duration": 8,
    "start_time": "2022-05-07T15:11:54.009Z"
   },
   {
    "duration": 14,
    "start_time": "2022-05-07T15:12:08.162Z"
   },
   {
    "duration": 17,
    "start_time": "2022-05-07T15:13:05.625Z"
   },
   {
    "duration": 19,
    "start_time": "2022-05-07T15:13:14.283Z"
   },
   {
    "duration": 2534,
    "start_time": "2022-05-07T15:14:08.415Z"
   },
   {
    "duration": 12,
    "start_time": "2022-05-07T15:18:37.527Z"
   },
   {
    "duration": 12,
    "start_time": "2022-05-07T15:18:59.930Z"
   },
   {
    "duration": 26,
    "start_time": "2022-05-07T15:19:11.165Z"
   },
   {
    "duration": 282,
    "start_time": "2022-05-07T15:21:18.507Z"
   },
   {
    "duration": 193,
    "start_time": "2022-05-07T15:21:50.780Z"
   },
   {
    "duration": 24,
    "start_time": "2022-05-07T16:26:07.133Z"
   },
   {
    "duration": 45,
    "start_time": "2022-05-07T16:26:56.125Z"
   },
   {
    "duration": 1201,
    "start_time": "2022-05-07T16:27:18.156Z"
   },
   {
    "duration": 59,
    "start_time": "2022-05-07T16:27:19.359Z"
   },
   {
    "duration": 5,
    "start_time": "2022-05-07T16:27:23.900Z"
   },
   {
    "duration": 23,
    "start_time": "2022-05-07T16:27:25.272Z"
   },
   {
    "duration": 22,
    "start_time": "2022-05-07T16:27:26.525Z"
   },
   {
    "duration": 22,
    "start_time": "2022-05-07T16:27:28.347Z"
   },
   {
    "duration": 4,
    "start_time": "2022-05-07T16:27:31.613Z"
   },
   {
    "duration": 301,
    "start_time": "2022-05-07T16:27:34.100Z"
   },
   {
    "duration": 33,
    "start_time": "2022-05-07T16:27:48.145Z"
   },
   {
    "duration": 24,
    "start_time": "2022-05-07T16:27:50.054Z"
   },
   {
    "duration": 13,
    "start_time": "2022-05-07T16:27:57.407Z"
   },
   {
    "duration": 174,
    "start_time": "2022-05-07T16:28:25.571Z"
   },
   {
    "duration": 275,
    "start_time": "2022-05-07T16:28:30.247Z"
   },
   {
    "duration": 24,
    "start_time": "2022-05-07T16:28:40.677Z"
   },
   {
    "duration": 1699,
    "start_time": "2022-05-07T16:28:43.634Z"
   },
   {
    "duration": 236,
    "start_time": "2022-05-07T16:28:47.216Z"
   },
   {
    "duration": 88,
    "start_time": "2022-05-07T16:28:54.114Z"
   },
   {
    "duration": 10,
    "start_time": "2022-05-07T16:29:46.836Z"
   },
   {
    "duration": 9,
    "start_time": "2022-05-07T16:32:19.635Z"
   },
   {
    "duration": 9,
    "start_time": "2022-05-07T16:32:41.362Z"
   },
   {
    "duration": 211,
    "start_time": "2022-05-07T16:32:57.549Z"
   },
   {
    "duration": 226,
    "start_time": "2022-05-07T16:33:11.236Z"
   },
   {
    "duration": 202,
    "start_time": "2022-05-07T16:34:03.777Z"
   },
   {
    "duration": 32,
    "start_time": "2022-05-07T16:34:36.421Z"
   },
   {
    "duration": 202,
    "start_time": "2022-05-07T16:34:45.146Z"
   },
   {
    "duration": 200,
    "start_time": "2022-05-07T16:34:48.292Z"
   },
   {
    "duration": 194,
    "start_time": "2022-05-07T16:35:11.008Z"
   },
   {
    "duration": 228,
    "start_time": "2022-05-07T16:35:43.524Z"
   },
   {
    "duration": 8,
    "start_time": "2022-05-07T16:42:06.640Z"
   },
   {
    "duration": 8,
    "start_time": "2022-05-07T16:42:21.745Z"
   },
   {
    "duration": 171,
    "start_time": "2022-05-07T16:42:24.024Z"
   },
   {
    "duration": 25,
    "start_time": "2022-05-07T16:45:17.244Z"
   },
   {
    "duration": 2104,
    "start_time": "2022-05-07T16:45:18.971Z"
   },
   {
    "duration": 7,
    "start_time": "2022-05-07T16:45:21.343Z"
   },
   {
    "duration": 197,
    "start_time": "2022-05-07T16:45:23.228Z"
   },
   {
    "duration": 1810,
    "start_time": "2022-05-09T22:40:42.721Z"
   },
   {
    "duration": 98,
    "start_time": "2022-05-09T22:40:45.307Z"
   },
   {
    "duration": 6,
    "start_time": "2022-05-09T22:40:55.167Z"
   },
   {
    "duration": 34,
    "start_time": "2022-05-09T22:40:59.420Z"
   },
   {
    "duration": 36,
    "start_time": "2022-05-09T22:41:02.627Z"
   },
   {
    "duration": 147,
    "start_time": "2022-05-09T22:41:15.760Z"
   },
   {
    "duration": 37,
    "start_time": "2022-05-09T22:41:31.899Z"
   },
   {
    "duration": 145,
    "start_time": "2022-05-09T23:11:15.500Z"
   },
   {
    "duration": 87,
    "start_time": "2022-05-10T01:07:10.053Z"
   },
   {
    "duration": 6,
    "start_time": "2022-05-10T01:07:19.078Z"
   },
   {
    "duration": 28,
    "start_time": "2022-05-10T01:07:24.912Z"
   },
   {
    "duration": 1557,
    "start_time": "2022-05-10T01:18:06.815Z"
   },
   {
    "duration": 201,
    "start_time": "2022-05-10T01:18:10.570Z"
   },
   {
    "duration": 71,
    "start_time": "2022-05-10T01:18:45.324Z"
   },
   {
    "duration": 68,
    "start_time": "2022-05-10T01:20:03.834Z"
   },
   {
    "duration": 139,
    "start_time": "2022-05-10T01:21:22.659Z"
   },
   {
    "duration": 7,
    "start_time": "2022-05-10T01:21:35.624Z"
   },
   {
    "duration": 53,
    "start_time": "2022-05-10T01:22:28.913Z"
   },
   {
    "duration": 48,
    "start_time": "2022-05-10T01:23:20.389Z"
   },
   {
    "duration": 35,
    "start_time": "2022-05-10T01:24:27.114Z"
   },
   {
    "duration": 35,
    "start_time": "2022-05-10T01:24:43.698Z"
   },
   {
    "duration": 36,
    "start_time": "2022-05-10T01:26:59.551Z"
   },
   {
    "duration": 36,
    "start_time": "2022-05-10T01:28:32.132Z"
   },
   {
    "duration": 39,
    "start_time": "2022-05-10T01:32:15.145Z"
   },
   {
    "duration": 81,
    "start_time": "2022-05-10T01:36:28.013Z"
   },
   {
    "duration": 35,
    "start_time": "2022-05-10T01:36:37.350Z"
   },
   {
    "duration": 126,
    "start_time": "2022-05-10T02:04:53.705Z"
   },
   {
    "duration": 386,
    "start_time": "2022-05-10T02:44:08.564Z"
   },
   {
    "duration": 127,
    "start_time": "2022-05-10T02:45:43.458Z"
   },
   {
    "duration": 7,
    "start_time": "2022-05-10T02:45:53.264Z"
   },
   {
    "duration": 34,
    "start_time": "2022-05-10T02:46:04.422Z"
   },
   {
    "duration": 36,
    "start_time": "2022-05-10T02:46:05.949Z"
   },
   {
    "duration": 16,
    "start_time": "2022-05-10T02:46:15.805Z"
   },
   {
    "duration": 36,
    "start_time": "2022-05-10T02:46:35.606Z"
   },
   {
    "duration": 6,
    "start_time": "2022-05-10T02:46:50.210Z"
   },
   {
    "duration": 15,
    "start_time": "2022-05-10T02:47:00.094Z"
   },
   {
    "duration": 12,
    "start_time": "2022-05-10T02:47:51.247Z"
   },
   {
    "duration": 33,
    "start_time": "2022-05-10T02:48:43.726Z"
   },
   {
    "duration": 86,
    "start_time": "2022-05-10T02:49:52.276Z"
   },
   {
    "duration": 13,
    "start_time": "2022-05-10T02:50:01.454Z"
   },
   {
    "duration": 7,
    "start_time": "2022-05-10T02:50:12.560Z"
   },
   {
    "duration": 1611,
    "start_time": "2022-05-10T14:16:54.151Z"
   },
   {
    "duration": 106,
    "start_time": "2022-05-10T14:17:06.049Z"
   },
   {
    "duration": 93,
    "start_time": "2022-05-10T14:19:46.152Z"
   },
   {
    "duration": 6,
    "start_time": "2022-05-10T14:19:52.123Z"
   },
   {
    "duration": 27,
    "start_time": "2022-05-10T14:19:54.651Z"
   },
   {
    "duration": 14,
    "start_time": "2022-05-10T14:20:17.973Z"
   },
   {
    "duration": 33,
    "start_time": "2022-05-10T14:23:47.051Z"
   },
   {
    "duration": 158,
    "start_time": "2022-05-10T14:28:19.921Z"
   },
   {
    "duration": 114,
    "start_time": "2022-05-10T14:28:33.542Z"
   },
   {
    "duration": 18,
    "start_time": "2022-05-10T14:29:00.260Z"
   },
   {
    "duration": 17,
    "start_time": "2022-05-10T14:30:05.216Z"
   },
   {
    "duration": 9,
    "start_time": "2022-05-10T14:32:03.314Z"
   },
   {
    "duration": 11,
    "start_time": "2022-05-10T14:42:36.700Z"
   },
   {
    "duration": 28,
    "start_time": "2022-05-10T15:43:29.285Z"
   },
   {
    "duration": 9,
    "start_time": "2022-05-10T15:44:18.114Z"
   },
   {
    "duration": 9,
    "start_time": "2022-05-10T15:44:30.264Z"
   },
   {
    "duration": 9,
    "start_time": "2022-05-10T15:48:30.041Z"
   },
   {
    "duration": 32,
    "start_time": "2022-05-10T15:48:46.412Z"
   },
   {
    "duration": 11,
    "start_time": "2022-05-10T16:01:29.200Z"
   },
   {
    "duration": 151,
    "start_time": "2022-05-10T16:01:52.761Z"
   },
   {
    "duration": 15,
    "start_time": "2022-05-10T16:02:01.121Z"
   },
   {
    "duration": 11,
    "start_time": "2022-05-10T16:02:16.878Z"
   },
   {
    "duration": 15,
    "start_time": "2022-05-10T16:04:20.822Z"
   },
   {
    "duration": 17,
    "start_time": "2022-05-10T16:05:04.385Z"
   },
   {
    "duration": 8,
    "start_time": "2022-05-10T16:07:45.521Z"
   },
   {
    "duration": 30,
    "start_time": "2022-05-10T21:07:21.983Z"
   },
   {
    "duration": 13,
    "start_time": "2022-05-10T21:11:30.953Z"
   },
   {
    "duration": 1258,
    "start_time": "2022-05-10T21:12:40.188Z"
   },
   {
    "duration": 87,
    "start_time": "2022-05-10T21:12:47.892Z"
   },
   {
    "duration": 6,
    "start_time": "2022-05-10T21:12:52.584Z"
   },
   {
    "duration": 27,
    "start_time": "2022-05-10T21:12:53.903Z"
   },
   {
    "duration": 26,
    "start_time": "2022-05-10T21:12:55.270Z"
   },
   {
    "duration": 13,
    "start_time": "2022-05-10T21:13:05.551Z"
   },
   {
    "duration": 22,
    "start_time": "2022-05-10T21:17:44.885Z"
   },
   {
    "duration": 27,
    "start_time": "2022-05-10T21:18:28.623Z"
   },
   {
    "duration": 104,
    "start_time": "2022-05-10T21:19:13.406Z"
   },
   {
    "duration": 21,
    "start_time": "2022-05-10T21:21:21.287Z"
   },
   {
    "duration": 10,
    "start_time": "2022-05-10T21:33:08.348Z"
   },
   {
    "duration": 18,
    "start_time": "2022-05-10T21:33:50.358Z"
   },
   {
    "duration": 14,
    "start_time": "2022-05-10T21:35:23.333Z"
   },
   {
    "duration": 12,
    "start_time": "2022-05-10T21:36:00.136Z"
   },
   {
    "duration": 5,
    "start_time": "2022-05-10T21:39:01.406Z"
   },
   {
    "duration": 12,
    "start_time": "2022-05-10T21:39:08.460Z"
   },
   {
    "duration": 28,
    "start_time": "2022-05-10T21:39:11.697Z"
   },
   {
    "duration": 5,
    "start_time": "2022-05-10T21:40:35.936Z"
   },
   {
    "duration": 30,
    "start_time": "2022-05-10T21:41:04.234Z"
   },
   {
    "duration": 1322,
    "start_time": "2022-05-10T21:42:27.800Z"
   },
   {
    "duration": 99,
    "start_time": "2022-05-10T21:42:29.505Z"
   },
   {
    "duration": 5,
    "start_time": "2022-05-10T21:42:45.877Z"
   },
   {
    "duration": 28,
    "start_time": "2022-05-10T21:42:46.988Z"
   },
   {
    "duration": 24,
    "start_time": "2022-05-10T21:42:48.193Z"
   },
   {
    "duration": 12,
    "start_time": "2022-05-10T21:42:49.251Z"
   },
   {
    "duration": 5,
    "start_time": "2022-05-10T21:42:51.295Z"
   },
   {
    "duration": 318,
    "start_time": "2022-05-10T21:42:57.476Z"
   },
   {
    "duration": 21,
    "start_time": "2022-05-10T21:43:01.020Z"
   },
   {
    "duration": 24,
    "start_time": "2022-05-10T21:43:07.289Z"
   },
   {
    "duration": 5,
    "start_time": "2022-05-10T21:43:24.688Z"
   },
   {
    "duration": 26,
    "start_time": "2022-05-10T21:43:27.799Z"
   },
   {
    "duration": 20,
    "start_time": "2022-05-10T21:46:29.755Z"
   },
   {
    "duration": 27,
    "start_time": "2022-05-10T21:47:05.480Z"
   },
   {
    "duration": 199,
    "start_time": "2022-05-10T21:50:49.303Z"
   },
   {
    "duration": 17,
    "start_time": "2022-05-10T21:58:20.787Z"
   },
   {
    "duration": 140,
    "start_time": "2022-05-10T22:30:19.170Z"
   },
   {
    "duration": 106,
    "start_time": "2022-05-10T22:35:21.122Z"
   },
   {
    "duration": 16,
    "start_time": "2022-05-10T22:38:08.392Z"
   },
   {
    "duration": 304,
    "start_time": "2022-05-10T22:38:49.719Z"
   },
   {
    "duration": 10,
    "start_time": "2022-05-10T22:45:59.352Z"
   },
   {
    "duration": 24,
    "start_time": "2022-05-10T22:46:29.321Z"
   },
   {
    "duration": 12,
    "start_time": "2022-05-10T22:47:35.017Z"
   },
   {
    "duration": 7,
    "start_time": "2022-05-10T22:47:57.815Z"
   },
   {
    "duration": 188,
    "start_time": "2022-05-10T22:48:01.065Z"
   },
   {
    "duration": 3,
    "start_time": "2022-05-10T22:57:04.423Z"
   },
   {
    "duration": 17,
    "start_time": "2022-05-10T22:57:51.530Z"
   },
   {
    "duration": 4,
    "start_time": "2022-05-10T23:00:02.753Z"
   },
   {
    "duration": 17,
    "start_time": "2022-05-10T23:00:04.774Z"
   },
   {
    "duration": 9,
    "start_time": "2022-05-10T23:02:13.164Z"
   },
   {
    "duration": 3,
    "start_time": "2022-05-10T23:04:09.563Z"
   },
   {
    "duration": 138,
    "start_time": "2022-05-10T23:06:27.262Z"
   },
   {
    "duration": 183,
    "start_time": "2022-05-10T23:08:25.006Z"
   },
   {
    "duration": 137,
    "start_time": "2022-05-10T23:13:25.883Z"
   },
   {
    "duration": 1781,
    "start_time": "2022-05-11T06:02:15.258Z"
   },
   {
    "duration": 139,
    "start_time": "2022-05-11T06:02:17.042Z"
   },
   {
    "duration": 6,
    "start_time": "2022-05-11T06:02:24.039Z"
   },
   {
    "duration": 36,
    "start_time": "2022-05-11T06:02:25.592Z"
   },
   {
    "duration": 36,
    "start_time": "2022-05-11T06:02:26.588Z"
   },
   {
    "duration": 21,
    "start_time": "2022-05-11T06:02:27.667Z"
   },
   {
    "duration": 7,
    "start_time": "2022-05-11T06:02:40.752Z"
   },
   {
    "duration": 483,
    "start_time": "2022-05-11T06:02:44.386Z"
   },
   {
    "duration": 35,
    "start_time": "2022-05-11T06:03:20.965Z"
   },
   {
    "duration": 5,
    "start_time": "2022-05-11T06:03:23.110Z"
   },
   {
    "duration": 28,
    "start_time": "2022-05-11T06:03:25.278Z"
   },
   {
    "duration": 38,
    "start_time": "2022-05-11T06:03:28.631Z"
   },
   {
    "duration": 18,
    "start_time": "2022-05-11T06:03:39.891Z"
   },
   {
    "duration": 347,
    "start_time": "2022-05-11T06:04:01.634Z"
   },
   {
    "duration": 24,
    "start_time": "2022-05-11T06:13:20.856Z"
   },
   {
    "duration": 91,
    "start_time": "2022-05-11T06:16:32.054Z"
   },
   {
    "duration": 364,
    "start_time": "2022-05-11T06:20:49.288Z"
   },
   {
    "duration": 88,
    "start_time": "2022-05-11T06:21:45.580Z"
   },
   {
    "duration": 346,
    "start_time": "2022-05-11T06:25:56.550Z"
   },
   {
    "duration": 25,
    "start_time": "2022-05-11T06:27:24.790Z"
   },
   {
    "duration": 302,
    "start_time": "2022-05-11T06:27:30.256Z"
   },
   {
    "duration": 288,
    "start_time": "2022-05-11T06:28:17.204Z"
   },
   {
    "duration": 284,
    "start_time": "2022-05-11T06:28:41.112Z"
   },
   {
    "duration": 285,
    "start_time": "2022-05-11T06:30:38.229Z"
   },
   {
    "duration": 268,
    "start_time": "2022-05-11T06:40:53.886Z"
   },
   {
    "duration": 262,
    "start_time": "2022-05-11T06:41:30.874Z"
   },
   {
    "duration": 430,
    "start_time": "2022-05-11T06:49:42.265Z"
   },
   {
    "duration": 8,
    "start_time": "2022-05-11T06:50:36.162Z"
   },
   {
    "duration": 268,
    "start_time": "2022-05-11T06:50:53.562Z"
   },
   {
    "duration": 112,
    "start_time": "2022-05-11T06:52:46.801Z"
   },
   {
    "duration": 151,
    "start_time": "2022-05-11T06:53:23.158Z"
   },
   {
    "duration": 110,
    "start_time": "2022-05-11T06:53:48.394Z"
   },
   {
    "duration": 122,
    "start_time": "2022-05-11T06:53:56.636Z"
   },
   {
    "duration": 88,
    "start_time": "2022-05-11T06:54:16.097Z"
   },
   {
    "duration": 80,
    "start_time": "2022-05-11T06:54:27.487Z"
   },
   {
    "duration": 155,
    "start_time": "2022-05-11T06:54:40.363Z"
   },
   {
    "duration": 24,
    "start_time": "2022-05-11T06:59:02.664Z"
   },
   {
    "duration": 268,
    "start_time": "2022-05-11T06:59:06.862Z"
   },
   {
    "duration": 26,
    "start_time": "2022-05-11T06:59:56.726Z"
   },
   {
    "duration": 250,
    "start_time": "2022-05-11T07:00:04.586Z"
   },
   {
    "duration": 286,
    "start_time": "2022-05-11T07:00:24.351Z"
   },
   {
    "duration": 293,
    "start_time": "2022-05-11T07:01:07.181Z"
   },
   {
    "duration": 25,
    "start_time": "2022-05-11T07:06:42.634Z"
   },
   {
    "duration": 254,
    "start_time": "2022-05-11T07:06:44.449Z"
   },
   {
    "duration": 10,
    "start_time": "2022-05-11T07:13:12.746Z"
   },
   {
    "duration": 12,
    "start_time": "2022-05-11T07:13:24.961Z"
   },
   {
    "duration": 319,
    "start_time": "2022-05-11T07:13:44.442Z"
   },
   {
    "duration": 16,
    "start_time": "2022-05-11T07:15:21.394Z"
   },
   {
    "duration": 313,
    "start_time": "2022-05-11T07:15:34.348Z"
   },
   {
    "duration": 315,
    "start_time": "2022-05-11T07:20:57.889Z"
   },
   {
    "duration": 1442,
    "start_time": "2022-05-11T13:42:57.517Z"
   },
   {
    "duration": 95,
    "start_time": "2022-05-11T13:42:58.962Z"
   },
   {
    "duration": 5,
    "start_time": "2022-05-11T13:43:03.521Z"
   },
   {
    "duration": 27,
    "start_time": "2022-05-11T13:43:04.538Z"
   },
   {
    "duration": 24,
    "start_time": "2022-05-11T13:43:05.506Z"
   },
   {
    "duration": 12,
    "start_time": "2022-05-11T13:43:06.563Z"
   },
   {
    "duration": 4,
    "start_time": "2022-05-11T13:43:07.746Z"
   },
   {
    "duration": 407,
    "start_time": "2022-05-11T13:43:09.368Z"
   },
   {
    "duration": 24,
    "start_time": "2022-05-11T13:43:11.053Z"
   },
   {
    "duration": 4,
    "start_time": "2022-05-11T13:43:12.847Z"
   },
   {
    "duration": 21,
    "start_time": "2022-05-11T13:43:14.453Z"
   },
   {
    "duration": 28,
    "start_time": "2022-05-11T13:43:16.019Z"
   },
   {
    "duration": 18,
    "start_time": "2022-05-11T13:43:18.965Z"
   },
   {
    "duration": 221,
    "start_time": "2022-05-11T13:43:27.810Z"
   },
   {
    "duration": 317,
    "start_time": "2022-05-11T13:45:01.237Z"
   },
   {
    "duration": 16,
    "start_time": "2022-05-11T13:45:05.262Z"
   },
   {
    "duration": 18,
    "start_time": "2022-05-11T13:45:06.412Z"
   },
   {
    "duration": 173,
    "start_time": "2022-05-11T13:45:06.915Z"
   },
   {
    "duration": 21,
    "start_time": "2022-05-11T13:45:07.913Z"
   },
   {
    "duration": 212,
    "start_time": "2022-05-11T13:45:08.227Z"
   },
   {
    "duration": 13,
    "start_time": "2022-05-11T14:09:56.742Z"
   },
   {
    "duration": 2193,
    "start_time": "2022-05-11T14:10:00.741Z"
   },
   {
    "duration": 40,
    "start_time": "2022-05-11T15:33:05.052Z"
   },
   {
    "duration": 160,
    "start_time": "2022-05-11T15:33:06.845Z"
   },
   {
    "duration": 137,
    "start_time": "2022-05-11T15:33:17.823Z"
   },
   {
    "duration": 14,
    "start_time": "2022-05-11T15:33:28.788Z"
   },
   {
    "duration": 194,
    "start_time": "2022-05-11T15:33:38.853Z"
   },
   {
    "duration": 19,
    "start_time": "2022-05-11T15:42:19.353Z"
   },
   {
    "duration": 306,
    "start_time": "2022-05-11T15:42:24.038Z"
   },
   {
    "duration": 9,
    "start_time": "2022-05-11T15:43:01.023Z"
   },
   {
    "duration": 5179,
    "start_time": "2022-05-11T15:56:01.896Z"
   },
   {
    "duration": 2496,
    "start_time": "2022-05-11T15:56:59.304Z"
   },
   {
    "duration": 54,
    "start_time": "2022-05-11T15:57:56.812Z"
   },
   {
    "duration": 18,
    "start_time": "2022-05-11T16:00:55.327Z"
   },
   {
    "duration": 108,
    "start_time": "2022-05-11T16:13:28.448Z"
   },
   {
    "duration": 143,
    "start_time": "2022-05-11T16:13:37.767Z"
   },
   {
    "duration": 20,
    "start_time": "2022-05-11T16:15:57.222Z"
   },
   {
    "duration": 8,
    "start_time": "2022-05-11T16:17:35.183Z"
   },
   {
    "duration": 55,
    "start_time": "2022-05-11T16:20:44.966Z"
   },
   {
    "duration": 202,
    "start_time": "2022-05-11T16:21:40.050Z"
   },
   {
    "duration": 8,
    "start_time": "2022-05-11T16:46:25.792Z"
   },
   {
    "duration": 611,
    "start_time": "2022-05-11T16:46:38.327Z"
   },
   {
    "duration": 516,
    "start_time": "2022-05-11T16:46:42.171Z"
   },
   {
    "duration": 421,
    "start_time": "2022-05-11T16:46:46.455Z"
   },
   {
    "duration": 642,
    "start_time": "2022-05-11T16:46:47.595Z"
   },
   {
    "duration": 503,
    "start_time": "2022-05-11T16:46:51.857Z"
   },
   {
    "duration": 628,
    "start_time": "2022-05-11T16:46:52.834Z"
   },
   {
    "duration": 17,
    "start_time": "2022-05-11T16:47:53.246Z"
   },
   {
    "duration": 5,
    "start_time": "2022-05-11T16:47:54.905Z"
   },
   {
    "duration": 7,
    "start_time": "2022-05-11T16:48:05.431Z"
   },
   {
    "duration": 13,
    "start_time": "2022-05-11T16:49:29.484Z"
   },
   {
    "duration": 6,
    "start_time": "2022-05-11T16:49:40.714Z"
   },
   {
    "duration": 7,
    "start_time": "2022-05-11T16:50:09.686Z"
   },
   {
    "duration": 10,
    "start_time": "2022-05-11T18:11:20.549Z"
   },
   {
    "duration": 14,
    "start_time": "2022-05-11T18:11:48.156Z"
   },
   {
    "duration": 6,
    "start_time": "2022-05-11T18:15:10.200Z"
   },
   {
    "duration": 6,
    "start_time": "2022-05-11T18:15:20.984Z"
   },
   {
    "duration": 1323,
    "start_time": "2022-05-11T18:24:38.518Z"
   },
   {
    "duration": 130,
    "start_time": "2022-05-11T18:24:41.129Z"
   },
   {
    "duration": 5,
    "start_time": "2022-05-11T18:24:48.547Z"
   },
   {
    "duration": 41,
    "start_time": "2022-05-11T18:24:50.765Z"
   },
   {
    "duration": 23,
    "start_time": "2022-05-11T18:24:52.804Z"
   },
   {
    "duration": 13,
    "start_time": "2022-05-11T18:24:56.285Z"
   },
   {
    "duration": 7,
    "start_time": "2022-05-11T18:24:57.414Z"
   },
   {
    "duration": 350,
    "start_time": "2022-05-11T18:24:58.481Z"
   },
   {
    "duration": 34,
    "start_time": "2022-05-11T18:24:59.580Z"
   },
   {
    "duration": 4,
    "start_time": "2022-05-11T18:25:02.054Z"
   },
   {
    "duration": 19,
    "start_time": "2022-05-11T18:25:04.238Z"
   },
   {
    "duration": 25,
    "start_time": "2022-05-11T18:25:06.209Z"
   },
   {
    "duration": 12,
    "start_time": "2022-05-11T18:25:10.394Z"
   },
   {
    "duration": 223,
    "start_time": "2022-05-11T18:25:25.097Z"
   },
   {
    "duration": 17,
    "start_time": "2022-05-11T18:26:36.777Z"
   },
   {
    "duration": 12,
    "start_time": "2022-05-11T18:26:47.783Z"
   },
   {
    "duration": 14,
    "start_time": "2022-05-11T18:38:58.179Z"
   },
   {
    "duration": 3,
    "start_time": "2022-05-11T18:39:11.246Z"
   },
   {
    "duration": 2999,
    "start_time": "2022-05-11T18:42:33.992Z"
   },
   {
    "duration": 258,
    "start_time": "2022-05-11T18:47:54.266Z"
   },
   {
    "duration": 319,
    "start_time": "2022-05-11T18:48:17.294Z"
   },
   {
    "duration": 96,
    "start_time": "2022-05-11T18:49:55.927Z"
   },
   {
    "duration": 16,
    "start_time": "2022-05-11T18:50:11.215Z"
   },
   {
    "duration": 15,
    "start_time": "2022-05-11T18:52:27.927Z"
   },
   {
    "duration": 13,
    "start_time": "2022-05-11T18:53:04.829Z"
   },
   {
    "duration": 16,
    "start_time": "2022-05-11T18:54:12.271Z"
   },
   {
    "duration": 19,
    "start_time": "2022-05-11T18:54:47.132Z"
   },
   {
    "duration": 15,
    "start_time": "2022-05-11T18:56:31.001Z"
   },
   {
    "duration": 19,
    "start_time": "2022-05-11T19:01:45.227Z"
   },
   {
    "duration": 18,
    "start_time": "2022-05-11T19:02:06.586Z"
   },
   {
    "duration": 18,
    "start_time": "2022-05-11T19:02:55.005Z"
   },
   {
    "duration": 866,
    "start_time": "2022-05-11T19:44:18.023Z"
   },
   {
    "duration": 22,
    "start_time": "2022-05-11T19:48:12.744Z"
   },
   {
    "duration": 1523,
    "start_time": "2022-05-12T06:47:05.738Z"
   },
   {
    "duration": 107,
    "start_time": "2022-05-12T06:47:07.263Z"
   },
   {
    "duration": 5,
    "start_time": "2022-05-12T06:47:10.074Z"
   },
   {
    "duration": 25,
    "start_time": "2022-05-12T06:47:10.664Z"
   },
   {
    "duration": 27,
    "start_time": "2022-05-12T06:47:11.121Z"
   },
   {
    "duration": 13,
    "start_time": "2022-05-12T06:47:11.783Z"
   },
   {
    "duration": 5,
    "start_time": "2022-05-12T06:47:12.357Z"
   },
   {
    "duration": 349,
    "start_time": "2022-05-12T06:47:12.915Z"
   },
   {
    "duration": 28,
    "start_time": "2022-05-12T06:47:13.356Z"
   },
   {
    "duration": 11,
    "start_time": "2022-05-12T06:47:13.749Z"
   },
   {
    "duration": 21,
    "start_time": "2022-05-12T06:47:14.365Z"
   },
   {
    "duration": 36,
    "start_time": "2022-05-12T06:47:14.832Z"
   },
   {
    "duration": 14,
    "start_time": "2022-05-12T06:47:16.789Z"
   },
   {
    "duration": 207,
    "start_time": "2022-05-12T06:47:25.515Z"
   },
   {
    "duration": 18,
    "start_time": "2022-05-12T06:48:27.329Z"
   },
   {
    "duration": 356,
    "start_time": "2022-05-12T06:48:44.986Z"
   },
   {
    "duration": 513,
    "start_time": "2022-05-12T06:48:59.309Z"
   },
   {
    "duration": 27,
    "start_time": "2022-05-12T06:49:26.378Z"
   },
   {
    "duration": 26,
    "start_time": "2022-05-12T06:49:37.836Z"
   },
   {
    "duration": 221,
    "start_time": "2022-05-12T06:50:02.635Z"
   },
   {
    "duration": 53,
    "start_time": "2022-05-12T07:15:55.227Z"
   },
   {
    "duration": 8039,
    "start_time": "2022-05-12T07:16:58.729Z"
   },
   {
    "duration": 297,
    "start_time": "2022-05-12T07:18:21.873Z"
   },
   {
    "duration": 293,
    "start_time": "2022-05-12T07:19:08.650Z"
   },
   {
    "duration": 132,
    "start_time": "2022-05-12T07:26:33.145Z"
   },
   {
    "duration": 29,
    "start_time": "2022-05-12T07:28:29.841Z"
   },
   {
    "duration": 39,
    "start_time": "2022-05-12T07:29:09.031Z"
   },
   {
    "duration": 63,
    "start_time": "2022-05-12T07:29:28.425Z"
   },
   {
    "duration": 307,
    "start_time": "2022-05-12T07:31:45.873Z"
   },
   {
    "duration": 555,
    "start_time": "2022-05-12T07:33:31.563Z"
   },
   {
    "duration": 13,
    "start_time": "2022-05-12T07:41:30.038Z"
   },
   {
    "duration": 1768,
    "start_time": "2022-05-12T07:42:58.813Z"
   },
   {
    "duration": 104,
    "start_time": "2022-05-12T07:43:00.584Z"
   },
   {
    "duration": 6,
    "start_time": "2022-05-12T07:43:00.691Z"
   },
   {
    "duration": 28,
    "start_time": "2022-05-12T07:43:00.908Z"
   },
   {
    "duration": 27,
    "start_time": "2022-05-12T07:43:01.221Z"
   },
   {
    "duration": 12,
    "start_time": "2022-05-12T07:43:02.392Z"
   },
   {
    "duration": 4,
    "start_time": "2022-05-12T07:43:02.787Z"
   },
   {
    "duration": 323,
    "start_time": "2022-05-12T07:43:03.174Z"
   },
   {
    "duration": 25,
    "start_time": "2022-05-12T07:43:06.560Z"
   },
   {
    "duration": 4,
    "start_time": "2022-05-12T07:43:07.351Z"
   },
   {
    "duration": 21,
    "start_time": "2022-05-12T07:43:07.705Z"
   },
   {
    "duration": 27,
    "start_time": "2022-05-12T07:43:08.119Z"
   },
   {
    "duration": 14,
    "start_time": "2022-05-12T07:43:10.349Z"
   },
   {
    "duration": 198,
    "start_time": "2022-05-12T07:43:17.268Z"
   },
   {
    "duration": 17,
    "start_time": "2022-05-12T07:43:24.968Z"
   },
   {
    "duration": 296,
    "start_time": "2022-05-12T07:43:36.642Z"
   },
   {
    "duration": 17,
    "start_time": "2022-05-12T07:43:48.599Z"
   },
   {
    "duration": 20,
    "start_time": "2022-05-12T07:43:58.279Z"
   },
   {
    "duration": 152,
    "start_time": "2022-05-12T07:44:03.673Z"
   },
   {
    "duration": 54,
    "start_time": "2022-05-12T07:44:16.273Z"
   },
   {
    "duration": 143,
    "start_time": "2022-05-12T07:44:33.548Z"
   },
   {
    "duration": 246,
    "start_time": "2022-05-12T07:45:43.118Z"
   },
   {
    "duration": 14,
    "start_time": "2022-05-12T07:46:38.727Z"
   },
   {
    "duration": 1385,
    "start_time": "2022-05-12T09:49:42.974Z"
   },
   {
    "duration": 107,
    "start_time": "2022-05-12T09:49:44.364Z"
   },
   {
    "duration": 5,
    "start_time": "2022-05-12T09:49:44.481Z"
   },
   {
    "duration": 28,
    "start_time": "2022-05-12T09:49:44.901Z"
   },
   {
    "duration": 25,
    "start_time": "2022-05-12T09:49:45.215Z"
   },
   {
    "duration": 12,
    "start_time": "2022-05-12T09:49:45.611Z"
   },
   {
    "duration": 5,
    "start_time": "2022-05-12T09:49:45.988Z"
   },
   {
    "duration": 389,
    "start_time": "2022-05-12T09:49:46.390Z"
   },
   {
    "duration": 24,
    "start_time": "2022-05-12T09:49:46.792Z"
   },
   {
    "duration": 4,
    "start_time": "2022-05-12T09:49:47.171Z"
   },
   {
    "duration": 19,
    "start_time": "2022-05-12T09:49:49.081Z"
   },
   {
    "duration": 27,
    "start_time": "2022-05-12T09:49:49.869Z"
   },
   {
    "duration": 15,
    "start_time": "2022-05-12T09:49:50.520Z"
   },
   {
    "duration": 232,
    "start_time": "2022-05-12T09:49:52.112Z"
   },
   {
    "duration": 17,
    "start_time": "2022-05-12T09:49:53.206Z"
   },
   {
    "duration": 125,
    "start_time": "2022-05-12T09:49:53.587Z"
   },
   {
    "duration": 338,
    "start_time": "2022-05-12T09:49:57.602Z"
   },
   {
    "duration": 22,
    "start_time": "2022-05-12T09:50:08.561Z"
   },
   {
    "duration": 24,
    "start_time": "2022-05-12T09:50:24.833Z"
   },
   {
    "duration": 176,
    "start_time": "2022-05-12T09:50:27.477Z"
   },
   {
    "duration": 39,
    "start_time": "2022-05-12T09:50:36.601Z"
   },
   {
    "duration": 24,
    "start_time": "2022-05-12T09:51:05.527Z"
   },
   {
    "duration": 16,
    "start_time": "2022-05-12T09:52:05.169Z"
   },
   {
    "duration": 204,
    "start_time": "2022-05-12T09:53:27.276Z"
   },
   {
    "duration": 25,
    "start_time": "2022-05-12T09:53:55.340Z"
   },
   {
    "duration": 222,
    "start_time": "2022-05-12T09:53:55.730Z"
   },
   {
    "duration": 25,
    "start_time": "2022-05-12T10:11:59.043Z"
   },
   {
    "duration": 221,
    "start_time": "2022-05-12T10:12:02.166Z"
   },
   {
    "duration": 14,
    "start_time": "2022-05-12T10:12:38.601Z"
   },
   {
    "duration": 242,
    "start_time": "2022-05-12T10:12:40.889Z"
   },
   {
    "duration": 453,
    "start_time": "2022-05-12T10:13:15.281Z"
   },
   {
    "duration": 9,
    "start_time": "2022-05-12T10:15:19.909Z"
   },
   {
    "duration": 450,
    "start_time": "2022-05-12T10:15:26.962Z"
   },
   {
    "duration": 11,
    "start_time": "2022-05-12T10:16:55.598Z"
   },
   {
    "duration": 16,
    "start_time": "2022-05-12T10:17:24.498Z"
   },
   {
    "duration": 209,
    "start_time": "2022-05-12T10:17:27.591Z"
   },
   {
    "duration": 325,
    "start_time": "2022-05-12T10:19:47.549Z"
   },
   {
    "duration": 11,
    "start_time": "2022-05-12T10:24:38.831Z"
   },
   {
    "duration": 10,
    "start_time": "2022-05-12T10:24:59.333Z"
   },
   {
    "duration": 230,
    "start_time": "2022-05-12T10:29:33.769Z"
   },
   {
    "duration": 13,
    "start_time": "2022-05-12T10:29:59.999Z"
   },
   {
    "duration": 25,
    "start_time": "2022-05-12T10:30:16.155Z"
   },
   {
    "duration": 255,
    "start_time": "2022-05-12T10:30:32.114Z"
   },
   {
    "duration": 265,
    "start_time": "2022-05-12T10:33:12.022Z"
   },
   {
    "duration": 175,
    "start_time": "2022-05-12T10:38:40.374Z"
   },
   {
    "duration": 191,
    "start_time": "2022-05-12T10:40:02.591Z"
   },
   {
    "duration": 183,
    "start_time": "2022-05-12T10:40:36.429Z"
   },
   {
    "duration": 184,
    "start_time": "2022-05-12T10:41:12.905Z"
   },
   {
    "duration": 165,
    "start_time": "2022-05-12T10:50:36.610Z"
   },
   {
    "duration": 140,
    "start_time": "2022-05-12T10:50:53.305Z"
   },
   {
    "duration": 138,
    "start_time": "2022-05-12T10:51:14.659Z"
   },
   {
    "duration": 137,
    "start_time": "2022-05-12T10:53:19.245Z"
   },
   {
    "duration": 229,
    "start_time": "2022-05-12T10:55:15.301Z"
   },
   {
    "duration": 318,
    "start_time": "2022-05-12T10:55:54.532Z"
   },
   {
    "duration": 17,
    "start_time": "2022-05-12T10:58:44.816Z"
   },
   {
    "duration": 185,
    "start_time": "2022-05-12T10:58:50.567Z"
   },
   {
    "duration": 1955,
    "start_time": "2022-05-13T06:39:04.491Z"
   },
   {
    "duration": 153,
    "start_time": "2022-05-13T06:39:06.449Z"
   },
   {
    "duration": 7,
    "start_time": "2022-05-13T06:39:08.771Z"
   },
   {
    "duration": 37,
    "start_time": "2022-05-13T06:39:09.918Z"
   },
   {
    "duration": 40,
    "start_time": "2022-05-13T06:39:10.472Z"
   },
   {
    "duration": 16,
    "start_time": "2022-05-13T06:39:11.970Z"
   },
   {
    "duration": 7,
    "start_time": "2022-05-13T06:39:12.850Z"
   },
   {
    "duration": 872,
    "start_time": "2022-05-13T06:39:13.282Z"
   },
   {
    "duration": 76,
    "start_time": "2022-05-13T06:39:14.158Z"
   },
   {
    "duration": 8,
    "start_time": "2022-05-13T06:39:14.237Z"
   },
   {
    "duration": 48,
    "start_time": "2022-05-13T06:39:14.466Z"
   },
   {
    "duration": 64,
    "start_time": "2022-05-13T06:39:14.736Z"
   },
   {
    "duration": 28,
    "start_time": "2022-05-13T06:39:17.200Z"
   },
   {
    "duration": 487,
    "start_time": "2022-05-13T06:39:23.042Z"
   },
   {
    "duration": 38,
    "start_time": "2022-05-13T06:39:25.217Z"
   },
   {
    "duration": 850,
    "start_time": "2022-05-13T06:39:29.434Z"
   },
   {
    "duration": 24,
    "start_time": "2022-05-13T06:39:34.821Z"
   },
   {
    "duration": 28,
    "start_time": "2022-05-13T06:39:36.219Z"
   },
   {
    "duration": 270,
    "start_time": "2022-05-13T06:39:37.400Z"
   },
   {
    "duration": 68,
    "start_time": "2022-05-13T06:39:39.267Z"
   },
   {
    "duration": 19,
    "start_time": "2022-05-13T06:44:28.213Z"
   },
   {
    "duration": 332,
    "start_time": "2022-05-13T06:45:34.165Z"
   },
   {
    "duration": 1707,
    "start_time": "2022-05-13T06:46:39.408Z"
   },
   {
    "duration": 153,
    "start_time": "2022-05-13T06:46:41.117Z"
   },
   {
    "duration": 7,
    "start_time": "2022-05-13T06:46:44.773Z"
   },
   {
    "duration": 36,
    "start_time": "2022-05-13T06:46:45.815Z"
   },
   {
    "duration": 38,
    "start_time": "2022-05-13T06:46:46.835Z"
   },
   {
    "duration": 22,
    "start_time": "2022-05-13T06:46:47.966Z"
   },
   {
    "duration": 8,
    "start_time": "2022-05-13T06:46:48.997Z"
   },
   {
    "duration": 573,
    "start_time": "2022-05-13T06:46:50.138Z"
   },
   {
    "duration": 65,
    "start_time": "2022-05-13T06:46:51.453Z"
   },
   {
    "duration": 6,
    "start_time": "2022-05-13T06:46:52.455Z"
   },
   {
    "duration": 39,
    "start_time": "2022-05-13T06:46:53.701Z"
   },
   {
    "duration": 47,
    "start_time": "2022-05-13T06:46:54.763Z"
   },
   {
    "duration": 21,
    "start_time": "2022-05-13T06:46:56.103Z"
   },
   {
    "duration": 351,
    "start_time": "2022-05-13T06:47:00.824Z"
   },
   {
    "duration": 27,
    "start_time": "2022-05-13T06:47:02.727Z"
   },
   {
    "duration": 582,
    "start_time": "2022-05-13T06:47:05.115Z"
   },
   {
    "duration": 25,
    "start_time": "2022-05-13T06:47:13.009Z"
   },
   {
    "duration": 44,
    "start_time": "2022-05-13T06:47:16.156Z"
   },
   {
    "duration": 451,
    "start_time": "2022-05-13T06:47:17.326Z"
   },
   {
    "duration": 97,
    "start_time": "2022-05-13T06:47:19.967Z"
   },
   {
    "duration": 21,
    "start_time": "2022-05-13T06:48:00.486Z"
   },
   {
    "duration": 331,
    "start_time": "2022-05-13T06:48:18.636Z"
   },
   {
    "duration": 23,
    "start_time": "2022-05-13T06:48:51.510Z"
   },
   {
    "duration": 21,
    "start_time": "2022-05-13T06:51:37.537Z"
   },
   {
    "duration": 318,
    "start_time": "2022-05-13T06:51:42.010Z"
   },
   {
    "duration": 1681,
    "start_time": "2022-05-13T06:53:01.258Z"
   },
   {
    "duration": 144,
    "start_time": "2022-05-13T06:53:02.941Z"
   },
   {
    "duration": 7,
    "start_time": "2022-05-13T06:53:04.069Z"
   },
   {
    "duration": 36,
    "start_time": "2022-05-13T06:53:04.506Z"
   },
   {
    "duration": 40,
    "start_time": "2022-05-13T06:53:04.819Z"
   },
   {
    "duration": 18,
    "start_time": "2022-05-13T06:53:05.198Z"
   },
   {
    "duration": 7,
    "start_time": "2022-05-13T06:53:05.638Z"
   },
   {
    "duration": 545,
    "start_time": "2022-05-13T06:53:06.388Z"
   },
   {
    "duration": 63,
    "start_time": "2022-05-13T06:53:06.936Z"
   },
   {
    "duration": 9,
    "start_time": "2022-05-13T06:53:07.177Z"
   },
   {
    "duration": 49,
    "start_time": "2022-05-13T06:53:07.466Z"
   },
   {
    "duration": 39,
    "start_time": "2022-05-13T06:53:07.833Z"
   },
   {
    "duration": 19,
    "start_time": "2022-05-13T06:53:10.909Z"
   },
   {
    "duration": 358,
    "start_time": "2022-05-13T06:53:14.997Z"
   },
   {
    "duration": 25,
    "start_time": "2022-05-13T06:53:17.554Z"
   },
   {
    "duration": 540,
    "start_time": "2022-05-13T06:53:20.218Z"
   },
   {
    "duration": 26,
    "start_time": "2022-05-13T06:53:24.714Z"
   },
   {
    "duration": 28,
    "start_time": "2022-05-13T06:53:27.274Z"
   },
   {
    "duration": 275,
    "start_time": "2022-05-13T06:53:28.383Z"
   },
   {
    "duration": 88,
    "start_time": "2022-05-13T06:53:32.627Z"
   },
   {
    "duration": 26,
    "start_time": "2022-05-13T06:53:36.452Z"
   },
   {
    "duration": 348,
    "start_time": "2022-05-13T06:53:37.658Z"
   },
   {
    "duration": 19,
    "start_time": "2022-05-13T06:59:42.435Z"
   },
   {
    "duration": 337,
    "start_time": "2022-05-13T06:59:49.714Z"
   },
   {
    "duration": 25,
    "start_time": "2022-05-13T07:01:19.566Z"
   },
   {
    "duration": 486,
    "start_time": "2022-05-13T07:01:21.926Z"
   },
   {
    "duration": 2020,
    "start_time": "2022-05-13T07:11:22.399Z"
   },
   {
    "duration": 1728,
    "start_time": "2022-05-13T07:13:41.504Z"
   },
   {
    "duration": 7,
    "start_time": "2022-05-13T07:14:02.581Z"
   },
   {
    "duration": 240,
    "start_time": "2022-05-13T07:14:10.991Z"
   },
   {
    "duration": 13,
    "start_time": "2022-05-13T07:30:46.781Z"
   },
   {
    "duration": 2950,
    "start_time": "2022-05-13T07:30:50.302Z"
   },
   {
    "duration": 71,
    "start_time": "2022-05-13T07:31:02.992Z"
   },
   {
    "duration": 77,
    "start_time": "2022-05-13T07:31:15.819Z"
   },
   {
    "duration": 84,
    "start_time": "2022-05-13T07:33:33.961Z"
   },
   {
    "duration": 25,
    "start_time": "2022-05-13T07:34:45.365Z"
   },
   {
    "duration": 413,
    "start_time": "2022-05-13T07:34:47.781Z"
   },
   {
    "duration": 12,
    "start_time": "2022-05-13T07:35:12.608Z"
   },
   {
    "duration": 695,
    "start_time": "2022-05-13T07:35:15.747Z"
   },
   {
    "duration": 853,
    "start_time": "2022-05-13T07:35:51.572Z"
   },
   {
    "duration": 725,
    "start_time": "2022-05-13T07:36:18.619Z"
   },
   {
    "duration": 1065,
    "start_time": "2022-05-13T07:36:20.049Z"
   },
   {
    "duration": 740,
    "start_time": "2022-05-13T07:36:24.833Z"
   },
   {
    "duration": 950,
    "start_time": "2022-05-13T07:36:26.198Z"
   },
   {
    "duration": 17,
    "start_time": "2022-05-13T07:37:07.255Z"
   },
   {
    "duration": 7,
    "start_time": "2022-05-13T07:37:09.130Z"
   },
   {
    "duration": 10,
    "start_time": "2022-05-13T07:37:11.146Z"
   },
   {
    "duration": 20,
    "start_time": "2022-05-13T07:37:16.891Z"
   },
   {
    "duration": 6,
    "start_time": "2022-05-13T07:37:18.432Z"
   },
   {
    "duration": 8,
    "start_time": "2022-05-13T07:37:22.869Z"
   },
   {
    "duration": 31,
    "start_time": "2022-05-13T08:38:20.804Z"
   },
   {
    "duration": 14,
    "start_time": "2022-05-13T08:38:39.406Z"
   },
   {
    "duration": 16,
    "start_time": "2022-05-13T08:38:44.364Z"
   },
   {
    "duration": 367,
    "start_time": "2022-05-13T08:39:07.733Z"
   },
   {
    "duration": 368,
    "start_time": "2022-05-13T08:39:32.921Z"
   },
   {
    "duration": 20,
    "start_time": "2022-05-13T08:40:09.401Z"
   },
   {
    "duration": 376,
    "start_time": "2022-05-13T08:40:12.275Z"
   },
   {
    "duration": 13,
    "start_time": "2022-05-13T08:49:20.907Z"
   },
   {
    "duration": 3123,
    "start_time": "2022-05-13T08:49:23.047Z"
   },
   {
    "duration": 74,
    "start_time": "2022-05-13T08:49:31.077Z"
   },
   {
    "duration": 461,
    "start_time": "2022-05-13T08:58:35.729Z"
   },
   {
    "duration": 319,
    "start_time": "2022-05-13T08:58:43.768Z"
   },
   {
    "duration": 8,
    "start_time": "2022-05-13T08:58:59.503Z"
   },
   {
    "duration": 57,
    "start_time": "2022-05-13T14:15:08.338Z"
   },
   {
    "duration": 35,
    "start_time": "2022-05-13T14:15:45.015Z"
   },
   {
    "duration": 37,
    "start_time": "2022-05-13T14:16:03.783Z"
   },
   {
    "duration": 37,
    "start_time": "2022-05-13T14:22:09.667Z"
   },
   {
    "duration": 305,
    "start_time": "2022-05-13T14:22:31.789Z"
   },
   {
    "duration": 28,
    "start_time": "2022-05-13T14:23:29.371Z"
   },
   {
    "duration": 343,
    "start_time": "2022-05-13T14:23:32.398Z"
   },
   {
    "duration": 13,
    "start_time": "2022-05-13T14:25:11.935Z"
   },
   {
    "duration": 342,
    "start_time": "2022-05-13T14:25:15.685Z"
   },
   {
    "duration": 18,
    "start_time": "2022-05-13T14:30:33.194Z"
   },
   {
    "duration": 345,
    "start_time": "2022-05-13T14:30:38.994Z"
   },
   {
    "duration": 10,
    "start_time": "2022-05-13T14:32:04.574Z"
   },
   {
    "duration": 335,
    "start_time": "2022-05-13T14:32:09.499Z"
   },
   {
    "duration": 7,
    "start_time": "2022-05-13T14:32:21.909Z"
   },
   {
    "duration": 443,
    "start_time": "2022-05-13T14:32:23.369Z"
   },
   {
    "duration": 14,
    "start_time": "2022-05-13T14:38:27.396Z"
   },
   {
    "duration": 15,
    "start_time": "2022-05-13T14:39:27.792Z"
   },
   {
    "duration": 362,
    "start_time": "2022-05-13T14:39:29.153Z"
   },
   {
    "duration": 11,
    "start_time": "2022-05-13T14:39:43.347Z"
   },
   {
    "duration": 13,
    "start_time": "2022-05-13T14:41:53.668Z"
   },
   {
    "duration": 1850,
    "start_time": "2022-05-13T19:48:34.866Z"
   },
   {
    "duration": 163,
    "start_time": "2022-05-13T19:48:36.978Z"
   },
   {
    "duration": 7,
    "start_time": "2022-05-13T19:48:40.934Z"
   },
   {
    "duration": 34,
    "start_time": "2022-05-13T19:48:41.438Z"
   },
   {
    "duration": 35,
    "start_time": "2022-05-13T19:48:42.366Z"
   },
   {
    "duration": 19,
    "start_time": "2022-05-13T19:48:43.110Z"
   },
   {
    "duration": 7,
    "start_time": "2022-05-13T19:48:43.857Z"
   },
   {
    "duration": 515,
    "start_time": "2022-05-13T19:48:44.569Z"
   },
   {
    "duration": 37,
    "start_time": "2022-05-13T19:48:45.748Z"
   },
   {
    "duration": 7,
    "start_time": "2022-05-13T19:48:46.940Z"
   },
   {
    "duration": 27,
    "start_time": "2022-05-13T19:48:51.281Z"
   },
   {
    "duration": 47,
    "start_time": "2022-05-13T19:48:51.311Z"
   },
   {
    "duration": 22,
    "start_time": "2022-05-13T19:48:52.349Z"
   },
   {
    "duration": 353,
    "start_time": "2022-05-13T19:48:58.349Z"
   },
   {
    "duration": 25,
    "start_time": "2022-05-13T19:49:00.490Z"
   },
   {
    "duration": 540,
    "start_time": "2022-05-13T19:49:02.717Z"
   },
   {
    "duration": 23,
    "start_time": "2022-05-13T19:49:09.366Z"
   },
   {
    "duration": 33,
    "start_time": "2022-05-13T19:49:27.257Z"
   },
   {
    "duration": 287,
    "start_time": "2022-05-13T19:49:31.208Z"
   },
   {
    "duration": 422,
    "start_time": "2022-05-13T19:58:54.171Z"
   },
   {
    "duration": 283,
    "start_time": "2022-05-13T19:59:59.044Z"
   },
   {
    "duration": 6,
    "start_time": "2022-05-13T20:02:17.103Z"
   },
   {
    "duration": 288,
    "start_time": "2022-05-13T20:02:54.904Z"
   },
   {
    "duration": 124,
    "start_time": "2022-05-13T20:15:13.899Z"
   },
   {
    "duration": 306,
    "start_time": "2022-05-13T20:15:25.886Z"
   },
   {
    "duration": 49,
    "start_time": "2022-05-13T20:19:23.064Z"
   },
   {
    "duration": 479,
    "start_time": "2022-05-13T20:20:07.359Z"
   },
   {
    "duration": 39,
    "start_time": "2022-05-13T20:20:20.142Z"
   },
   {
    "duration": 284,
    "start_time": "2022-05-13T20:20:23.270Z"
   },
   {
    "duration": 16,
    "start_time": "2022-05-13T20:20:50.197Z"
   },
   {
    "duration": 331,
    "start_time": "2022-05-13T20:20:52.230Z"
   },
   {
    "duration": 329,
    "start_time": "2022-05-13T20:21:47.934Z"
   },
   {
    "duration": 9,
    "start_time": "2022-05-13T20:25:33.385Z"
   },
   {
    "duration": 345,
    "start_time": "2022-05-13T20:25:40.086Z"
   },
   {
    "duration": 8,
    "start_time": "2022-05-13T20:26:00.313Z"
   },
   {
    "duration": 316,
    "start_time": "2022-05-13T20:26:11.506Z"
   },
   {
    "duration": 1885,
    "start_time": "2022-05-13T20:48:42.359Z"
   },
   {
    "duration": 184,
    "start_time": "2022-05-13T20:48:44.770Z"
   },
   {
    "duration": 6,
    "start_time": "2022-05-13T20:48:48.798Z"
   },
   {
    "duration": 77,
    "start_time": "2022-05-13T20:48:49.232Z"
   },
   {
    "duration": 44,
    "start_time": "2022-05-13T20:48:49.549Z"
   },
   {
    "duration": 18,
    "start_time": "2022-05-13T20:48:49.940Z"
   },
   {
    "duration": 8,
    "start_time": "2022-05-13T20:48:50.381Z"
   },
   {
    "duration": 544,
    "start_time": "2022-05-13T20:48:50.780Z"
   },
   {
    "duration": 42,
    "start_time": "2022-05-13T20:48:51.328Z"
   },
   {
    "duration": 6,
    "start_time": "2022-05-13T20:48:51.571Z"
   },
   {
    "duration": 28,
    "start_time": "2022-05-13T20:48:51.864Z"
   },
   {
    "duration": 41,
    "start_time": "2022-05-13T20:48:55.247Z"
   },
   {
    "duration": 23,
    "start_time": "2022-05-13T20:49:04.447Z"
   },
   {
    "duration": 361,
    "start_time": "2022-05-13T20:49:28.901Z"
   },
   {
    "duration": 429,
    "start_time": "2022-05-13T20:52:40.060Z"
   },
   {
    "duration": 706,
    "start_time": "2022-05-13T20:53:14.457Z"
   },
   {
    "duration": 25,
    "start_time": "2022-05-13T20:55:34.341Z"
   },
   {
    "duration": 5,
    "start_time": "2022-05-13T21:00:03.691Z"
   },
   {
    "duration": 50,
    "start_time": "2022-05-13T21:10:37.746Z"
   },
   {
    "duration": 530,
    "start_time": "2022-05-13T21:13:18.060Z"
   },
   {
    "duration": 372,
    "start_time": "2022-05-13T21:16:29.282Z"
   },
   {
    "duration": 17,
    "start_time": "2022-05-13T21:23:06.650Z"
   },
   {
    "duration": 334,
    "start_time": "2022-05-13T21:23:22.344Z"
   },
   {
    "duration": 21,
    "start_time": "2022-05-13T21:26:55.793Z"
   },
   {
    "duration": 384,
    "start_time": "2022-05-13T21:27:00.644Z"
   },
   {
    "duration": 9,
    "start_time": "2022-05-13T21:33:30.942Z"
   },
   {
    "duration": 457,
    "start_time": "2022-05-13T21:34:02.311Z"
   },
   {
    "duration": 8,
    "start_time": "2022-05-13T21:34:35.903Z"
   },
   {
    "duration": 319,
    "start_time": "2022-05-13T21:35:05.569Z"
   },
   {
    "duration": 16,
    "start_time": "2022-05-13T21:44:31.314Z"
   },
   {
    "duration": 2956,
    "start_time": "2022-05-13T21:44:34.060Z"
   },
   {
    "duration": 13,
    "start_time": "2022-05-13T21:46:22.485Z"
   },
   {
    "duration": 1669,
    "start_time": "2022-05-13T21:47:04.280Z"
   },
   {
    "duration": 154,
    "start_time": "2022-05-13T21:47:05.951Z"
   },
   {
    "duration": 7,
    "start_time": "2022-05-13T21:47:10.042Z"
   },
   {
    "duration": 35,
    "start_time": "2022-05-13T21:47:10.676Z"
   },
   {
    "duration": 35,
    "start_time": "2022-05-13T21:47:11.149Z"
   },
   {
    "duration": 21,
    "start_time": "2022-05-13T21:47:11.831Z"
   },
   {
    "duration": 7,
    "start_time": "2022-05-13T21:47:12.285Z"
   },
   {
    "duration": 547,
    "start_time": "2022-05-13T21:47:12.824Z"
   },
   {
    "duration": 54,
    "start_time": "2022-05-13T21:47:13.375Z"
   },
   {
    "duration": 6,
    "start_time": "2022-05-13T21:47:13.913Z"
   },
   {
    "duration": 34,
    "start_time": "2022-05-13T21:47:14.217Z"
   },
   {
    "duration": 54,
    "start_time": "2022-05-13T21:47:14.607Z"
   },
   {
    "duration": 28,
    "start_time": "2022-05-13T21:47:17.597Z"
   },
   {
    "duration": 456,
    "start_time": "2022-05-13T21:47:22.144Z"
   },
   {
    "duration": 546,
    "start_time": "2022-05-13T21:47:24.568Z"
   },
   {
    "duration": 28,
    "start_time": "2022-05-13T21:48:51.125Z"
   },
   {
    "duration": 6,
    "start_time": "2022-05-13T21:48:53.294Z"
   },
   {
    "duration": 36,
    "start_time": "2022-05-13T21:48:54.521Z"
   },
   {
    "duration": 516,
    "start_time": "2022-05-13T21:48:55.840Z"
   },
   {
    "duration": 106,
    "start_time": "2022-05-13T21:48:58.192Z"
   },
   {
    "duration": 396,
    "start_time": "2022-05-13T21:49:16.131Z"
   },
   {
    "duration": 17,
    "start_time": "2022-05-13T21:49:22.000Z"
   },
   {
    "duration": 357,
    "start_time": "2022-05-13T21:49:24.278Z"
   },
   {
    "duration": 11,
    "start_time": "2022-05-13T21:49:33.375Z"
   },
   {
    "duration": 332,
    "start_time": "2022-05-13T21:49:34.760Z"
   },
   {
    "duration": 7,
    "start_time": "2022-05-13T21:49:37.526Z"
   },
   {
    "duration": 326,
    "start_time": "2022-05-13T21:49:38.738Z"
   },
   {
    "duration": 134,
    "start_time": "2022-05-13T21:49:52.583Z"
   },
   {
    "duration": 15,
    "start_time": "2022-05-13T21:51:18.869Z"
   },
   {
    "duration": 3061,
    "start_time": "2022-05-13T21:51:46.664Z"
   },
   {
    "duration": 19,
    "start_time": "2022-05-13T21:55:59.152Z"
   },
   {
    "duration": 3043,
    "start_time": "2022-05-13T21:58:40.329Z"
   },
   {
    "duration": 160,
    "start_time": "2022-05-13T22:05:16.231Z"
   },
   {
    "duration": 155,
    "start_time": "2022-05-13T22:15:21.920Z"
   },
   {
    "duration": 2215,
    "start_time": "2022-05-13T22:16:23.354Z"
   },
   {
    "duration": 25,
    "start_time": "2022-05-13T22:28:05.394Z"
   },
   {
    "duration": 373,
    "start_time": "2022-05-13T22:29:50.518Z"
   },
   {
    "duration": 374,
    "start_time": "2022-05-13T22:30:13.053Z"
   },
   {
    "duration": 16,
    "start_time": "2022-05-13T22:42:13.513Z"
   },
   {
    "duration": 412,
    "start_time": "2022-05-13T22:42:21.050Z"
   },
   {
    "duration": 16,
    "start_time": "2022-05-13T22:43:35.168Z"
   },
   {
    "duration": 871,
    "start_time": "2022-05-13T22:43:39.338Z"
   },
   {
    "duration": 16,
    "start_time": "2022-05-13T22:45:00.999Z"
   },
   {
    "duration": 1001,
    "start_time": "2022-05-13T22:45:04.648Z"
   },
   {
    "duration": 878,
    "start_time": "2022-05-13T22:45:45.871Z"
   },
   {
    "duration": 300,
    "start_time": "2022-05-13T22:46:15.302Z"
   },
   {
    "duration": 19,
    "start_time": "2022-05-13T22:48:13.113Z"
   },
   {
    "duration": 296,
    "start_time": "2022-05-13T22:48:14.929Z"
   },
   {
    "duration": 18,
    "start_time": "2022-05-13T22:53:39.554Z"
   },
   {
    "duration": 324,
    "start_time": "2022-05-13T22:53:42.105Z"
   },
   {
    "duration": 11,
    "start_time": "2022-05-13T23:02:09.210Z"
   },
   {
    "duration": 661,
    "start_time": "2022-05-13T23:02:17.238Z"
   },
   {
    "duration": 803,
    "start_time": "2022-05-13T23:02:45.061Z"
   },
   {
    "duration": 11,
    "start_time": "2022-05-13T23:08:41.938Z"
   },
   {
    "duration": 12,
    "start_time": "2022-05-13T23:09:41.658Z"
   },
   {
    "duration": 12,
    "start_time": "2022-05-13T23:11:54.663Z"
   },
   {
    "duration": 13,
    "start_time": "2022-05-13T23:13:31.348Z"
   },
   {
    "duration": 679,
    "start_time": "2022-05-13T23:14:04.665Z"
   },
   {
    "duration": 13,
    "start_time": "2022-05-13T23:14:35.466Z"
   },
   {
    "duration": 90,
    "start_time": "2022-05-13T23:14:48.146Z"
   },
   {
    "duration": 11,
    "start_time": "2022-05-13T23:15:42.788Z"
   },
   {
    "duration": 665,
    "start_time": "2022-05-13T23:15:46.057Z"
   },
   {
    "duration": 689,
    "start_time": "2022-05-13T23:15:55.743Z"
   },
   {
    "duration": 686,
    "start_time": "2022-05-13T23:16:07.359Z"
   },
   {
    "duration": 778,
    "start_time": "2022-05-13T23:16:11.085Z"
   },
   {
    "duration": 712,
    "start_time": "2022-05-13T23:16:31.223Z"
   },
   {
    "duration": 693,
    "start_time": "2022-05-13T23:16:32.264Z"
   },
   {
    "duration": 18,
    "start_time": "2022-05-13T23:17:29.410Z"
   },
   {
    "duration": 7,
    "start_time": "2022-05-13T23:17:32.469Z"
   },
   {
    "duration": 7,
    "start_time": "2022-05-13T23:17:36.142Z"
   },
   {
    "duration": 14,
    "start_time": "2022-05-13T23:17:44.361Z"
   },
   {
    "duration": 6,
    "start_time": "2022-05-13T23:17:46.359Z"
   },
   {
    "duration": 9,
    "start_time": "2022-05-13T23:17:48.738Z"
   },
   {
    "duration": 283,
    "start_time": "2022-05-13T23:23:07.874Z"
   },
   {
    "duration": 1880,
    "start_time": "2022-05-15T01:06:32.818Z"
   },
   {
    "duration": 129,
    "start_time": "2022-05-15T01:06:34.701Z"
   },
   {
    "duration": 7,
    "start_time": "2022-05-15T01:06:42.458Z"
   },
   {
    "duration": 36,
    "start_time": "2022-05-15T01:06:43.836Z"
   },
   {
    "duration": 35,
    "start_time": "2022-05-15T01:06:45.218Z"
   },
   {
    "duration": 7,
    "start_time": "2022-05-15T01:36:12.533Z"
   },
   {
    "duration": 1596,
    "start_time": "2022-05-15T01:36:29.492Z"
   },
   {
    "duration": 146,
    "start_time": "2022-05-15T01:36:31.090Z"
   },
   {
    "duration": 7,
    "start_time": "2022-05-15T01:36:39.733Z"
   },
   {
    "duration": 37,
    "start_time": "2022-05-15T01:36:41.589Z"
   },
   {
    "duration": 36,
    "start_time": "2022-05-15T01:36:43.029Z"
   },
   {
    "duration": 17,
    "start_time": "2022-05-15T01:36:45.207Z"
   },
   {
    "duration": 6,
    "start_time": "2022-05-15T01:36:46.915Z"
   },
   {
    "duration": 472,
    "start_time": "2022-05-15T01:36:53.092Z"
   },
   {
    "duration": 35,
    "start_time": "2022-05-15T01:36:54.661Z"
   },
   {
    "duration": 6,
    "start_time": "2022-05-15T01:37:05.818Z"
   },
   {
    "duration": 27,
    "start_time": "2022-05-15T01:39:04.630Z"
   },
   {
    "duration": 39,
    "start_time": "2022-05-15T01:39:09.045Z"
   },
   {
    "duration": 22,
    "start_time": "2022-05-15T01:39:19.075Z"
   },
   {
    "duration": 318,
    "start_time": "2022-05-15T01:45:03.432Z"
   },
   {
    "duration": 346,
    "start_time": "2022-05-15T01:49:37.575Z"
   },
   {
    "duration": 234,
    "start_time": "2022-05-15T01:54:13.851Z"
   },
   {
    "duration": 5,
    "start_time": "2022-05-15T01:55:32.412Z"
   },
   {
    "duration": 224,
    "start_time": "2022-05-15T01:55:36.371Z"
   },
   {
    "duration": 5,
    "start_time": "2022-05-15T01:55:57.019Z"
   },
   {
    "duration": 226,
    "start_time": "2022-05-15T01:55:58.991Z"
   },
   {
    "duration": 24,
    "start_time": "2022-05-15T02:06:51.426Z"
   },
   {
    "duration": 5,
    "start_time": "2022-05-15T02:06:56.695Z"
   },
   {
    "duration": 34,
    "start_time": "2022-05-15T02:07:02.814Z"
   },
   {
    "duration": 487,
    "start_time": "2022-05-15T02:07:09.035Z"
   },
   {
    "duration": 16,
    "start_time": "2022-05-15T02:24:14.047Z"
   },
   {
    "duration": 293,
    "start_time": "2022-05-15T02:24:15.544Z"
   },
   {
    "duration": 9,
    "start_time": "2022-05-15T02:24:50.757Z"
   },
   {
    "duration": 255,
    "start_time": "2022-05-15T02:24:52.519Z"
   },
   {
    "duration": 6,
    "start_time": "2022-05-15T02:25:16.452Z"
   },
   {
    "duration": 322,
    "start_time": "2022-05-15T02:25:18.207Z"
   },
   {
    "duration": 13,
    "start_time": "2022-05-15T02:25:29.770Z"
   },
   {
    "duration": 1711,
    "start_time": "2022-05-15T02:26:26.249Z"
   },
   {
    "duration": 12,
    "start_time": "2022-05-15T02:30:48.037Z"
   },
   {
    "duration": 624,
    "start_time": "2022-05-15T02:30:50.300Z"
   },
   {
    "duration": 623,
    "start_time": "2022-05-15T02:31:18.632Z"
   },
   {
    "duration": 640,
    "start_time": "2022-05-15T02:33:31.106Z"
   },
   {
    "duration": 1571,
    "start_time": "2022-05-15T02:34:44.809Z"
   },
   {
    "duration": 141,
    "start_time": "2022-05-15T02:34:46.383Z"
   },
   {
    "duration": 6,
    "start_time": "2022-05-15T02:34:46.974Z"
   },
   {
    "duration": 36,
    "start_time": "2022-05-15T02:34:47.310Z"
   },
   {
    "duration": 34,
    "start_time": "2022-05-15T02:34:47.564Z"
   },
   {
    "duration": 16,
    "start_time": "2022-05-15T02:34:47.895Z"
   },
   {
    "duration": 5,
    "start_time": "2022-05-15T02:34:48.207Z"
   },
   {
    "duration": 487,
    "start_time": "2022-05-15T02:34:48.533Z"
   },
   {
    "duration": 47,
    "start_time": "2022-05-15T02:34:49.023Z"
   },
   {
    "duration": 5,
    "start_time": "2022-05-15T02:34:49.154Z"
   },
   {
    "duration": 25,
    "start_time": "2022-05-15T02:34:49.385Z"
   },
   {
    "duration": 38,
    "start_time": "2022-05-15T02:34:49.670Z"
   },
   {
    "duration": 19,
    "start_time": "2022-05-15T02:34:50.149Z"
   },
   {
    "duration": 323,
    "start_time": "2022-05-15T02:34:54.018Z"
   },
   {
    "duration": 512,
    "start_time": "2022-05-15T02:34:56.064Z"
   },
   {
    "duration": 24,
    "start_time": "2022-05-15T02:34:56.707Z"
   },
   {
    "duration": 4,
    "start_time": "2022-05-15T02:34:57.196Z"
   },
   {
    "duration": 33,
    "start_time": "2022-05-15T02:34:57.515Z"
   },
   {
    "duration": 495,
    "start_time": "2022-05-15T02:34:59.966Z"
   },
   {
    "duration": 304,
    "start_time": "2022-05-15T02:35:00.463Z"
   },
   {
    "duration": 16,
    "start_time": "2022-05-15T02:35:07.131Z"
   },
   {
    "duration": 313,
    "start_time": "2022-05-15T02:35:08.778Z"
   },
   {
    "duration": 10,
    "start_time": "2022-05-15T02:35:18.854Z"
   },
   {
    "duration": 309,
    "start_time": "2022-05-15T02:35:34.678Z"
   },
   {
    "duration": 7,
    "start_time": "2022-05-15T02:35:36.400Z"
   },
   {
    "duration": 301,
    "start_time": "2022-05-15T02:35:38.292Z"
   },
   {
    "duration": 88,
    "start_time": "2022-05-15T02:35:43.669Z"
   },
   {
    "duration": 2048,
    "start_time": "2022-05-15T02:35:45.904Z"
   },
   {
    "duration": 23,
    "start_time": "2022-05-15T02:36:23.485Z"
   },
   {
    "duration": 346,
    "start_time": "2022-05-15T02:36:25.724Z"
   },
   {
    "duration": 17,
    "start_time": "2022-05-15T02:36:28.410Z"
   },
   {
    "duration": 274,
    "start_time": "2022-05-15T02:36:33.252Z"
   },
   {
    "duration": 18,
    "start_time": "2022-05-15T02:36:40.236Z"
   },
   {
    "duration": 292,
    "start_time": "2022-05-15T02:36:46.592Z"
   },
   {
    "duration": 13,
    "start_time": "2022-05-15T02:56:04.036Z"
   },
   {
    "duration": 623,
    "start_time": "2022-05-15T02:56:04.847Z"
   },
   {
    "duration": 624,
    "start_time": "2022-05-15T02:56:06.210Z"
   },
   {
    "duration": 743,
    "start_time": "2022-05-15T02:56:10.625Z"
   },
   {
    "duration": 639,
    "start_time": "2022-05-15T02:56:12.082Z"
   },
   {
    "duration": 658,
    "start_time": "2022-05-15T02:56:15.288Z"
   },
   {
    "duration": 609,
    "start_time": "2022-05-15T02:56:17.183Z"
   },
   {
    "duration": 14,
    "start_time": "2022-05-15T03:07:28.782Z"
   },
   {
    "duration": 7,
    "start_time": "2022-05-15T03:07:29.919Z"
   },
   {
    "duration": 8,
    "start_time": "2022-05-15T03:07:31.085Z"
   },
   {
    "duration": 15,
    "start_time": "2022-05-15T03:07:36.854Z"
   },
   {
    "duration": 6,
    "start_time": "2022-05-15T03:07:37.880Z"
   },
   {
    "duration": 8,
    "start_time": "2022-05-15T03:07:38.903Z"
   },
   {
    "duration": 7,
    "start_time": "2022-05-15T04:10:16.386Z"
   },
   {
    "duration": 1606,
    "start_time": "2022-05-15T04:34:58.766Z"
   },
   {
    "duration": 151,
    "start_time": "2022-05-15T04:35:00.374Z"
   },
   {
    "duration": 7,
    "start_time": "2022-05-15T04:35:00.527Z"
   },
   {
    "duration": 36,
    "start_time": "2022-05-15T04:35:00.913Z"
   },
   {
    "duration": 35,
    "start_time": "2022-05-15T04:35:01.276Z"
   },
   {
    "duration": 17,
    "start_time": "2022-05-15T04:35:01.699Z"
   },
   {
    "duration": 7,
    "start_time": "2022-05-15T04:35:02.136Z"
   },
   {
    "duration": 511,
    "start_time": "2022-05-15T04:35:02.570Z"
   },
   {
    "duration": 34,
    "start_time": "2022-05-15T04:35:03.084Z"
   },
   {
    "duration": 6,
    "start_time": "2022-05-15T04:35:03.403Z"
   },
   {
    "duration": 28,
    "start_time": "2022-05-15T04:35:03.767Z"
   },
   {
    "duration": 42,
    "start_time": "2022-05-15T04:35:04.156Z"
   },
   {
    "duration": 18,
    "start_time": "2022-05-15T04:35:05.793Z"
   },
   {
    "duration": 337,
    "start_time": "2022-05-15T04:35:08.567Z"
   },
   {
    "duration": 541,
    "start_time": "2022-05-15T04:35:09.056Z"
   },
   {
    "duration": 26,
    "start_time": "2022-05-15T04:35:10.632Z"
   },
   {
    "duration": 5,
    "start_time": "2022-05-15T04:35:11.474Z"
   },
   {
    "duration": 34,
    "start_time": "2022-05-15T04:35:11.767Z"
   },
   {
    "duration": 531,
    "start_time": "2022-05-15T04:35:12.092Z"
   },
   {
    "duration": 310,
    "start_time": "2022-05-15T04:35:12.627Z"
   },
   {
    "duration": 17,
    "start_time": "2022-05-15T04:35:13.522Z"
   },
   {
    "duration": 333,
    "start_time": "2022-05-15T04:35:13.841Z"
   },
   {
    "duration": 10,
    "start_time": "2022-05-15T04:35:15.437Z"
   },
   {
    "duration": 338,
    "start_time": "2022-05-15T04:35:15.727Z"
   },
   {
    "duration": 8,
    "start_time": "2022-05-15T04:35:16.070Z"
   },
   {
    "duration": 332,
    "start_time": "2022-05-15T04:35:18.202Z"
   },
   {
    "duration": 89,
    "start_time": "2022-05-15T04:35:18.805Z"
   },
   {
    "duration": 2207,
    "start_time": "2022-05-15T04:35:19.063Z"
   },
   {
    "duration": 22,
    "start_time": "2022-05-15T04:35:21.273Z"
   },
   {
    "duration": 406,
    "start_time": "2022-05-15T04:35:21.297Z"
   },
   {
    "duration": 15,
    "start_time": "2022-05-15T04:35:21.706Z"
   },
   {
    "duration": 293,
    "start_time": "2022-05-15T04:35:21.803Z"
   },
   {
    "duration": 17,
    "start_time": "2022-05-15T04:35:22.509Z"
   },
   {
    "duration": 298,
    "start_time": "2022-05-15T04:35:22.797Z"
   },
   {
    "duration": 12,
    "start_time": "2022-05-15T04:35:26.269Z"
   },
   {
    "duration": 666,
    "start_time": "2022-05-15T04:35:26.654Z"
   },
   {
    "duration": 676,
    "start_time": "2022-05-15T04:35:27.322Z"
   },
   {
    "duration": 791,
    "start_time": "2022-05-15T04:35:28.001Z"
   },
   {
    "duration": 691,
    "start_time": "2022-05-15T04:35:28.794Z"
   },
   {
    "duration": 715,
    "start_time": "2022-05-15T04:35:29.488Z"
   },
   {
    "duration": 686,
    "start_time": "2022-05-15T04:35:30.205Z"
   },
   {
    "duration": 16,
    "start_time": "2022-05-15T04:35:34.162Z"
   },
   {
    "duration": 5,
    "start_time": "2022-05-15T04:35:34.517Z"
   },
   {
    "duration": 8,
    "start_time": "2022-05-15T04:35:34.907Z"
   },
   {
    "duration": 14,
    "start_time": "2022-05-15T04:35:37.501Z"
   },
   {
    "duration": 7,
    "start_time": "2022-05-15T04:35:37.747Z"
   },
   {
    "duration": 9,
    "start_time": "2022-05-15T04:35:38.045Z"
   },
   {
    "duration": 1285,
    "start_time": "2022-05-15T19:20:11.056Z"
   },
   {
    "duration": 95,
    "start_time": "2022-05-15T19:20:12.343Z"
   },
   {
    "duration": 5,
    "start_time": "2022-05-15T19:20:12.440Z"
   },
   {
    "duration": 44,
    "start_time": "2022-05-15T19:20:12.448Z"
   },
   {
    "duration": 27,
    "start_time": "2022-05-15T19:20:12.494Z"
   },
   {
    "duration": 13,
    "start_time": "2022-05-15T19:20:12.523Z"
   },
   {
    "duration": 5,
    "start_time": "2022-05-15T19:20:12.538Z"
   },
   {
    "duration": 359,
    "start_time": "2022-05-15T19:20:12.545Z"
   },
   {
    "duration": 26,
    "start_time": "2022-05-15T19:20:12.906Z"
   },
   {
    "duration": 4,
    "start_time": "2022-05-15T19:20:12.935Z"
   },
   {
    "duration": 24,
    "start_time": "2022-05-15T19:20:12.941Z"
   },
   {
    "duration": 31,
    "start_time": "2022-05-15T19:20:12.988Z"
   },
   {
    "duration": 14,
    "start_time": "2022-05-15T19:20:13.021Z"
   },
   {
    "duration": 226,
    "start_time": "2022-05-15T19:20:13.037Z"
   },
   {
    "duration": 321,
    "start_time": "2022-05-15T19:20:13.265Z"
   },
   {
    "duration": 18,
    "start_time": "2022-05-15T19:20:13.588Z"
   },
   {
    "duration": 4,
    "start_time": "2022-05-15T19:20:13.607Z"
   },
   {
    "duration": 23,
    "start_time": "2022-05-15T19:20:13.612Z"
   },
   {
    "duration": 331,
    "start_time": "2022-05-15T19:20:13.637Z"
   },
   {
    "duration": 169,
    "start_time": "2022-05-15T19:20:13.969Z"
   },
   {
    "duration": 11,
    "start_time": "2022-05-15T19:20:14.140Z"
   },
   {
    "duration": 203,
    "start_time": "2022-05-15T19:20:14.153Z"
   },
   {
    "duration": 8,
    "start_time": "2022-05-15T19:20:14.358Z"
   },
   {
    "duration": 196,
    "start_time": "2022-05-15T19:20:14.368Z"
   },
   {
    "duration": 5,
    "start_time": "2022-05-15T19:20:14.565Z"
   },
   {
    "duration": 197,
    "start_time": "2022-05-15T19:20:14.571Z"
   },
   {
    "duration": 100,
    "start_time": "2022-05-15T19:20:14.770Z"
   },
   {
    "duration": 1214,
    "start_time": "2022-05-15T19:20:14.874Z"
   },
   {
    "duration": 16,
    "start_time": "2022-05-15T19:20:16.090Z"
   },
   {
    "duration": 219,
    "start_time": "2022-05-15T19:20:16.108Z"
   },
   {
    "duration": 11,
    "start_time": "2022-05-15T19:20:16.329Z"
   },
   {
    "duration": 171,
    "start_time": "2022-05-15T19:20:16.342Z"
   },
   {
    "duration": 14,
    "start_time": "2022-05-15T19:20:16.515Z"
   },
   {
    "duration": 198,
    "start_time": "2022-05-15T19:20:16.531Z"
   },
   {
    "duration": 8,
    "start_time": "2022-05-15T19:20:16.732Z"
   },
   {
    "duration": 378,
    "start_time": "2022-05-15T19:20:16.742Z"
   },
   {
    "duration": 390,
    "start_time": "2022-05-15T19:20:17.122Z"
   },
   {
    "duration": 487,
    "start_time": "2022-05-15T19:20:17.514Z"
   },
   {
    "duration": 390,
    "start_time": "2022-05-15T19:20:18.003Z"
   },
   {
    "duration": 396,
    "start_time": "2022-05-15T19:20:18.394Z"
   },
   {
    "duration": 386,
    "start_time": "2022-05-15T19:20:18.792Z"
   },
   {
    "duration": 15,
    "start_time": "2022-05-15T19:20:19.180Z"
   },
   {
    "duration": 4,
    "start_time": "2022-05-15T19:20:19.197Z"
   },
   {
    "duration": 8,
    "start_time": "2022-05-15T19:20:19.203Z"
   },
   {
    "duration": 14,
    "start_time": "2022-05-15T19:20:19.212Z"
   },
   {
    "duration": 17,
    "start_time": "2022-05-15T19:20:19.227Z"
   },
   {
    "duration": 5,
    "start_time": "2022-05-15T19:20:19.245Z"
   },
   {
    "duration": 8,
    "start_time": "2022-05-15T19:20:19.252Z"
   },
   {
    "duration": 1399,
    "start_time": "2022-05-19T21:37:48.759Z"
   },
   {
    "duration": 101,
    "start_time": "2022-05-19T21:37:50.160Z"
   },
   {
    "duration": 5,
    "start_time": "2022-05-19T21:37:50.262Z"
   },
   {
    "duration": 37,
    "start_time": "2022-05-19T21:37:50.268Z"
   },
   {
    "duration": 25,
    "start_time": "2022-05-19T21:37:50.307Z"
   },
   {
    "duration": 11,
    "start_time": "2022-05-19T21:37:50.333Z"
   },
   {
    "duration": 5,
    "start_time": "2022-05-19T21:37:50.346Z"
   },
   {
    "duration": 418,
    "start_time": "2022-05-19T21:37:50.352Z"
   },
   {
    "duration": 36,
    "start_time": "2022-05-19T21:37:50.773Z"
   },
   {
    "duration": 5,
    "start_time": "2022-05-19T21:37:50.811Z"
   },
   {
    "duration": 24,
    "start_time": "2022-05-19T21:37:50.818Z"
   },
   {
    "duration": 29,
    "start_time": "2022-05-19T21:37:50.844Z"
   },
   {
    "duration": 36,
    "start_time": "2022-05-19T21:37:50.875Z"
   },
   {
    "duration": 253,
    "start_time": "2022-05-19T21:37:50.914Z"
   },
   {
    "duration": 456,
    "start_time": "2022-05-19T21:37:51.169Z"
   },
   {
    "duration": 17,
    "start_time": "2022-05-19T21:37:51.626Z"
   },
   {
    "duration": 3,
    "start_time": "2022-05-19T21:37:51.645Z"
   },
   {
    "duration": 32,
    "start_time": "2022-05-19T21:37:51.650Z"
   },
   {
    "duration": 362,
    "start_time": "2022-05-19T21:37:51.684Z"
   },
   {
    "duration": 195,
    "start_time": "2022-05-19T21:37:52.047Z"
   },
   {
    "duration": 12,
    "start_time": "2022-05-19T21:37:52.244Z"
   },
   {
    "duration": 228,
    "start_time": "2022-05-19T21:37:52.258Z"
   },
   {
    "duration": 15,
    "start_time": "2022-05-19T21:37:52.488Z"
   },
   {
    "duration": 225,
    "start_time": "2022-05-19T21:37:52.505Z"
   },
   {
    "duration": 5,
    "start_time": "2022-05-19T21:37:52.732Z"
   },
   {
    "duration": 231,
    "start_time": "2022-05-19T21:37:52.738Z"
   },
   {
    "duration": 9,
    "start_time": "2022-05-19T21:37:52.971Z"
   },
   {
    "duration": 1607,
    "start_time": "2022-05-19T21:37:52.981Z"
   },
   {
    "duration": 26,
    "start_time": "2022-05-19T21:37:54.590Z"
   },
   {
    "duration": 252,
    "start_time": "2022-05-19T21:37:54.618Z"
   },
   {
    "duration": 12,
    "start_time": "2022-05-19T21:37:54.871Z"
   },
   {
    "duration": 201,
    "start_time": "2022-05-19T21:37:54.885Z"
   },
   {
    "duration": 20,
    "start_time": "2022-05-19T21:37:55.088Z"
   },
   {
    "duration": 210,
    "start_time": "2022-05-19T21:37:55.110Z"
   },
   {
    "duration": 10,
    "start_time": "2022-05-19T21:37:55.322Z"
   },
   {
    "duration": 479,
    "start_time": "2022-05-19T21:37:55.333Z"
   },
   {
    "duration": 442,
    "start_time": "2022-05-19T21:37:55.814Z"
   },
   {
    "duration": 461,
    "start_time": "2022-05-19T21:37:56.257Z"
   },
   {
    "duration": 561,
    "start_time": "2022-05-19T21:37:56.720Z"
   },
   {
    "duration": 483,
    "start_time": "2022-05-19T21:37:57.283Z"
   },
   {
    "duration": 475,
    "start_time": "2022-05-19T21:37:57.770Z"
   },
   {
    "duration": 12,
    "start_time": "2022-05-19T21:37:58.246Z"
   },
   {
    "duration": 14,
    "start_time": "2022-05-19T21:37:58.260Z"
   },
   {
    "duration": 13,
    "start_time": "2022-05-19T21:37:58.276Z"
   },
   {
    "duration": 15,
    "start_time": "2022-05-19T21:37:58.290Z"
   },
   {
    "duration": 19,
    "start_time": "2022-05-19T21:37:58.307Z"
   },
   {
    "duration": 9,
    "start_time": "2022-05-19T21:37:58.328Z"
   },
   {
    "duration": 11,
    "start_time": "2022-05-19T21:37:58.339Z"
   },
   {
    "duration": 1391,
    "start_time": "2022-09-09T15:48:37.090Z"
   },
   {
    "duration": 101,
    "start_time": "2022-09-09T15:48:38.484Z"
   },
   {
    "duration": 7,
    "start_time": "2022-09-09T15:50:11.488Z"
   },
   {
    "duration": 35,
    "start_time": "2022-09-09T15:50:12.959Z"
   },
   {
    "duration": 24,
    "start_time": "2022-09-09T15:50:14.312Z"
   },
   {
    "duration": 15,
    "start_time": "2022-09-09T15:50:15.760Z"
   },
   {
    "duration": 5,
    "start_time": "2022-09-09T15:50:17.250Z"
   },
   {
    "duration": 386,
    "start_time": "2022-09-09T15:50:18.593Z"
   },
   {
    "duration": 35,
    "start_time": "2022-09-09T15:50:19.946Z"
   },
   {
    "duration": 5,
    "start_time": "2022-09-09T15:50:21.562Z"
   },
   {
    "duration": 21,
    "start_time": "2022-09-09T15:50:22.882Z"
   },
   {
    "duration": 34,
    "start_time": "2022-09-09T15:50:24.413Z"
   },
   {
    "duration": 15,
    "start_time": "2022-09-09T15:50:36.294Z"
   },
   {
    "duration": 243,
    "start_time": "2022-09-09T15:50:53.282Z"
   },
   {
    "duration": 381,
    "start_time": "2022-09-09T15:51:07.320Z"
   },
   {
    "duration": 27,
    "start_time": "2022-09-09T15:51:15.164Z"
   },
   {
    "duration": 4,
    "start_time": "2022-09-09T15:51:18.009Z"
   },
   {
    "duration": 23,
    "start_time": "2022-09-09T15:51:19.343Z"
   },
   {
    "duration": 339,
    "start_time": "2022-09-09T15:51:21.646Z"
   },
   {
    "duration": 213,
    "start_time": "2022-09-09T15:51:23.243Z"
   },
   {
    "duration": 13,
    "start_time": "2022-09-09T15:51:58.137Z"
   },
   {
    "duration": 223,
    "start_time": "2022-09-09T15:51:59.915Z"
   },
   {
    "duration": 7,
    "start_time": "2022-09-09T15:52:08.738Z"
   },
   {
    "duration": 211,
    "start_time": "2022-09-09T15:52:10.691Z"
   },
   {
    "duration": 5,
    "start_time": "2022-09-09T15:52:13.101Z"
   },
   {
    "duration": 215,
    "start_time": "2022-09-09T15:52:14.909Z"
   },
   {
    "duration": 95,
    "start_time": "2022-09-09T15:52:20.737Z"
   },
   {
    "duration": 1515,
    "start_time": "2022-09-09T15:52:23.570Z"
   },
   {
    "duration": 17,
    "start_time": "2022-09-09T15:52:48.328Z"
   },
   {
    "duration": 241,
    "start_time": "2022-09-09T15:52:49.987Z"
   },
   {
    "duration": 13,
    "start_time": "2022-09-09T15:52:51.407Z"
   },
   {
    "duration": 183,
    "start_time": "2022-09-09T15:52:52.740Z"
   },
   {
    "duration": 18,
    "start_time": "2022-09-09T15:52:54.390Z"
   },
   {
    "duration": 196,
    "start_time": "2022-09-09T15:52:55.721Z"
   },
   {
    "duration": 12,
    "start_time": "2022-09-09T15:53:13.624Z"
   },
   {
    "duration": 487,
    "start_time": "2022-09-09T15:53:14.904Z"
   },
   {
    "duration": 496,
    "start_time": "2022-09-09T15:53:21.156Z"
   },
   {
    "duration": 614,
    "start_time": "2022-09-09T15:53:27.046Z"
   },
   {
    "duration": 521,
    "start_time": "2022-09-09T15:53:29.109Z"
   },
   {
    "duration": 491,
    "start_time": "2022-09-09T15:53:33.788Z"
   },
   {
    "duration": 515,
    "start_time": "2022-09-09T15:53:35.004Z"
   },
   {
    "duration": 12,
    "start_time": "2022-09-09T15:54:02.817Z"
   },
   {
    "duration": 4,
    "start_time": "2022-09-09T15:54:04.258Z"
   },
   {
    "duration": 16,
    "start_time": "2022-09-09T15:54:05.566Z"
   },
   {
    "duration": 8,
    "start_time": "2022-09-09T15:58:38.184Z"
   },
   {
    "duration": 12,
    "start_time": "2022-09-09T15:59:01.648Z"
   },
   {
    "duration": 5,
    "start_time": "2022-09-09T15:59:03.042Z"
   },
   {
    "duration": 6,
    "start_time": "2022-09-09T15:59:04.523Z"
   }
  ],
  "kernelspec": {
   "display_name": "Python 3 (ipykernel)",
   "language": "python",
   "name": "python3"
  },
  "language_info": {
   "codemirror_mode": {
    "name": "ipython",
    "version": 3
   },
   "file_extension": ".py",
   "mimetype": "text/x-python",
   "name": "python",
   "nbconvert_exporter": "python",
   "pygments_lexer": "ipython3",
   "version": "3.9.5"
  },
  "toc": {
   "base_numbering": 1,
   "nav_menu": {},
   "number_sections": true,
   "sideBar": true,
   "skip_h1_title": true,
   "title_cell": "Table of Contents",
   "title_sidebar": "Contents",
   "toc_cell": false,
   "toc_position": {
    "height": "calc(100% - 180px)",
    "left": "10px",
    "top": "150px",
    "width": "165px"
   },
   "toc_section_display": true,
   "toc_window_display": true
  }
 },
 "nbformat": 4,
 "nbformat_minor": 5
}
